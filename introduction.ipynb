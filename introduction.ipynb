{
 "cells": [
  {
   "cell_type": "markdown",
   "id": "33c6cb91",
   "metadata": {
    "execute": {
     "shell": {
      "execute_reply": "2022-02-03T11:12:36.270550+00:00"
     }
    },
    "iopub": {
     "execute_input": "2022-02-03T11:12:36.263550+00:00",
     "status": {
      "busy": "2022-02-03T11:12:36.263144+00:00",
      "idle": "2021-12-17T08:24:16.475079+00:00"
     }
    },
    "jupyter": {
     "source_hidden": true
    },
    "tags": []
   },
   "source": [
    "# euporie\n",
    "\n",
    "Welcome to `euporie`, a terminal based interactive development environment for Jupyter notebooks.\n",
    "\n",
    "- Use `Up` and `Down` to navigate, `Enter` to edit a cell, and `Esc` to stop editing a cell\n",
    "- Use `Ctrl+Enter` to run or render a cell, or `Shift+Enter` to additionally select the next cell.\n",
    "- You can view all keyboard shortcuts in the `Help` menu\n",
    "- The online documentation is available at [https://euporie.readthedocs.io](https://euporie.readthedocs.io)\n",
    "---"
   ]
  },
  {
   "cell_type": "markdown",
   "id": "1e737449",
   "metadata": {},
   "source": [
    "## Markdown Cells\n",
    "\n",
    "`euporie` will render markdown cells in notebooks, including elements such as:\n",
    "\n",
    "> Quote blocks\n",
    "\n",
    "1. Ordered lists\n",
    "    - Unordered lists\n",
    "    - (Another list item)\n",
    "2. **Bold**, *Italic*, ~~strikethrough~~, `code`\n",
    "\n",
    "```python\n",
    "def code_blocks():\n",
    "    return True\n",
    "```\n",
    "\n",
    "| Tables       | *with* | ~~formatting~~ |\n",
    "|-------------:|:------:|:---------------|\n",
    "| **and**      | cell   | alignment      |\n",
    "\n",
    "Inline maths: $x =\\frac{-b \\pm \\sqrt{\\frac{1}{2} a b^2}}{2a}$ and maths blocks:\n",
    "\n",
    "$$\n",
    "f = \\sum_{i = 0}^{\\infty} \\frac{f^{(i)}(0)}{i!} x^i\n",
    "$$\n",
    "\n",
    "Links: [https://euporie.readthedocs.io](https://euporie.readthedocs.io)\n",
    "\n",
    "Inline images ![](https://user-images.githubusercontent.com/12154190/160242688-440c67ca-fdba-4ca4-a941-a35e200f9813.svg) in paragraphs.\n",
    "\n",
    "---"
   ]
  },
  {
   "cell_type": "markdown",
   "id": "39eae66d",
   "metadata": {},
   "source": [
    "## Cell Output\n",
    "\n",
    "`Euporie` will also render the output of code cells.\n",
    "\n",
    "This includes displaying Markdown, LaTeX, Images, HTML, SVG, JSON, and ANSI text:"
   ]
  },
  {
   "cell_type": "code",
   "execution_count": 1,
   "id": "aa1d9c37",
   "metadata": {
    "execute": {
     "shell": {
      "execute_reply": "2022-02-16T11:08:19.149766+00:00"
     }
    },
    "iopub": {
     "execute_input": "2022-02-16T11:08:19.137229+00:00",
     "status": {
      "busy": "2022-02-16T11:08:19.135967+00:00",
      "idle": "2022-02-16T11:08:19.150514+00:00"
     }
    }
   },
   "outputs": [
    {
     "data": {
      "text/html": [
       "<b>Bold</b> <u>Underlined</u> <i>Italic</i>"
      ]
     },
     "metadata": {},
     "output_type": "display_data"
    }
   ],
   "source": [
    "display({\"text/html\": \"<b>Bold</b> <u>Underlined</u> <i>Italic</i>\"}, raw=True)"
   ]
  },
  {
   "cell_type": "code",
   "execution_count": 2,
   "id": "583a8b24",
   "metadata": {
    "execute": {
     "shell": {
      "execute_reply": "2022-02-16T11:08:19.156306+00:00"
     }
    },
    "iopub": {
     "execute_input": "2022-02-16T11:08:19.152478+00:00",
     "status": {
      "busy": "2022-02-16T11:08:19.152175+00:00",
      "idle": "2022-02-16T11:08:19.156885+00:00"
     }
    }
   },
   "outputs": [
    {
     "data": {
      "text/latex": [
       "$x =\\frac{-b \\pm \\sqrt{\\frac{1}{2} a b^2}}{2a}$"
      ]
     },
     "metadata": {},
     "output_type": "display_data"
    }
   ],
   "source": [
    "display({\"text/latex\": r\"$x =\\frac{-b \\pm \\sqrt{\\frac{1}{2} a b^2}}{2a}$\"}, raw=True)"
   ]
  },
  {
   "cell_type": "code",
   "execution_count": 3,
   "id": "97e10f0f",
   "metadata": {
    "execute": {
     "shell": {
      "execute_reply": "2022-02-16T11:08:19.526395+00:00"
     }
    },
    "iopub": {
     "execute_input": "2022-02-16T11:08:19.157955+00:00",
     "status": {
      "busy": "2022-02-16T11:08:19.157765+00:00",
      "idle": "2022-02-16T11:08:19.527257+00:00"
     }
    }
   },
   "outputs": [
    {
     "data": {
      "image/png": "[encoded data removed]",
      "text/plain": [
       "<IPython.core.display.Image object>"
      ]
     },
     "execution_count": 3,
     "metadata": {},
     "output_type": "execute_result"
    }
   ],
   "source": [
    "from IPython.display import *\n",
    "import urllib.request\n",
    "data = urllib.request.urlopen(\"https://www.python.org/static/img/python-logo.png\").read()\n",
    "Image(data)"
   ]
  },
  {
   "cell_type": "markdown",
   "id": "43a7ed60",
   "metadata": {
    "execute": {
     "shell": {
      "execute_reply": "2022-02-03T11:12:36.282953+00:00"
     }
    },
    "iopub": {
     "status": {
      "busy": "2022-02-03T11:12:36.282693+00:00",
      "idle": "2022-02-03T11:12:36.283084+00:00"
     }
    }
   },
   "source": [
    "This means you can use libraries like `pandas`, and display dataframes as you would expect:"
   ]
  },
  {
   "cell_type": "code",
   "execution_count": 4,
   "id": "5dc84d78",
   "metadata": {
    "execute": {
     "shell": {
      "execute_reply": "2022-02-16T11:08:20.296522+00:00"
     }
    },
    "iopub": {
     "execute_input": "2022-02-16T11:08:19.528869+00:00",
     "status": {
      "busy": "2022-02-16T11:08:19.528528+00:00",
      "idle": "2022-02-16T11:08:20.297331+00:00"
     }
    }
   },
   "outputs": [
    {
     "data": {
      "text/html": [
       "<style type=\"text/css\">\n",
       "#T_9853a_row0_col0, #T_9853a_row2_col0, #T_9853a_row8_col2, #T_9853a_row12_col1, #T_9853a_row12_col3 {\n",
       "  background-color: #440154;\n",
       "  color: #f1f1f1;\n",
       "}\n",
       "#T_9853a_row0_col1 {\n",
       "  background-color: #b8de29;\n",
       "  color: #000000;\n",
       "}\n",
       "#T_9853a_row0_col2, #T_9853a_row4_col1, #T_9853a_row9_col3, #T_9853a_row11_col0 {\n",
       "  background-color: #fde725;\n",
       "  color: #000000;\n",
       "}\n",
       "#T_9853a_row0_col3 {\n",
       "  background-color: #20a486;\n",
       "  color: #f1f1f1;\n",
       "}\n",
       "#T_9853a_row1_col0 {\n",
       "  background-color: #440256;\n",
       "  color: #f1f1f1;\n",
       "}\n",
       "#T_9853a_row1_col1 {\n",
       "  background-color: #277f8e;\n",
       "  color: #f1f1f1;\n",
       "}\n",
       "#T_9853a_row1_col2 {\n",
       "  background-color: #bade28;\n",
       "  color: #000000;\n",
       "}\n",
       "#T_9853a_row1_col3 {\n",
       "  background-color: #3b518b;\n",
       "  color: #f1f1f1;\n",
       "}\n",
       "#T_9853a_row2_col1 {\n",
       "  background-color: #472d7b;\n",
       "  color: #f1f1f1;\n",
       "}\n",
       "#T_9853a_row2_col2 {\n",
       "  background-color: #48c16e;\n",
       "  color: #f1f1f1;\n",
       "}\n",
       "#T_9853a_row2_col3 {\n",
       "  background-color: #95d840;\n",
       "  color: #000000;\n",
       "}\n",
       "#T_9853a_row3_col0 {\n",
       "  background-color: #1f9f88;\n",
       "  color: #f1f1f1;\n",
       "}\n",
       "#T_9853a_row3_col1 {\n",
       "  background-color: #cae11f;\n",
       "  color: #000000;\n",
       "}\n",
       "#T_9853a_row3_col2 {\n",
       "  background-color: #d2e21b;\n",
       "  color: #000000;\n",
       "}\n",
       "#T_9853a_row3_col3 {\n",
       "  background-color: #7cd250;\n",
       "  color: #000000;\n",
       "}\n",
       "#T_9853a_row4_col0 {\n",
       "  background-color: #482374;\n",
       "  color: #f1f1f1;\n",
       "}\n",
       "#T_9853a_row4_col2 {\n",
       "  background-color: #75d054;\n",
       "  color: #000000;\n",
       "}\n",
       "#T_9853a_row4_col3 {\n",
       "  background-color: #2eb37c;\n",
       "  color: #f1f1f1;\n",
       "}\n",
       "#T_9853a_row5_col0 {\n",
       "  background-color: #482979;\n",
       "  color: #f1f1f1;\n",
       "}\n",
       "#T_9853a_row5_col1 {\n",
       "  background-color: #297b8e;\n",
       "  color: #f1f1f1;\n",
       "}\n",
       "#T_9853a_row5_col2, #T_9853a_row14_col0 {\n",
       "  background-color: #355e8d;\n",
       "  color: #f1f1f1;\n",
       "}\n",
       "#T_9853a_row5_col3 {\n",
       "  background-color: #482475;\n",
       "  color: #f1f1f1;\n",
       "}\n",
       "#T_9853a_row6_col0 {\n",
       "  background-color: #34608d;\n",
       "  color: #f1f1f1;\n",
       "}\n",
       "#T_9853a_row6_col1 {\n",
       "  background-color: #306a8e;\n",
       "  color: #f1f1f1;\n",
       "}\n",
       "#T_9853a_row6_col2 {\n",
       "  background-color: #2c718e;\n",
       "  color: #f1f1f1;\n",
       "}\n",
       "#T_9853a_row6_col3 {\n",
       "  background-color: #2a768e;\n",
       "  color: #f1f1f1;\n",
       "}\n",
       "#T_9853a_row7_col0 {\n",
       "  background-color: #453882;\n",
       "  color: #f1f1f1;\n",
       "}\n",
       "#T_9853a_row7_col1 {\n",
       "  background-color: #f8e621;\n",
       "  color: #000000;\n",
       "}\n",
       "#T_9853a_row7_col2 {\n",
       "  background-color: #404588;\n",
       "  color: #f1f1f1;\n",
       "}\n",
       "#T_9853a_row7_col3 {\n",
       "  background-color: #460a5d;\n",
       "  color: #f1f1f1;\n",
       "}\n",
       "#T_9853a_row8_col0 {\n",
       "  background-color: #375b8d;\n",
       "  color: #f1f1f1;\n",
       "}\n",
       "#T_9853a_row8_col1 {\n",
       "  background-color: #58c765;\n",
       "  color: #000000;\n",
       "}\n",
       "#T_9853a_row8_col3 {\n",
       "  background-color: #2db27d;\n",
       "  color: #f1f1f1;\n",
       "}\n",
       "#T_9853a_row9_col0 {\n",
       "  background-color: #2f6c8e;\n",
       "  color: #f1f1f1;\n",
       "}\n",
       "#T_9853a_row9_col1 {\n",
       "  background-color: #33628d;\n",
       "  color: #f1f1f1;\n",
       "}\n",
       "#T_9853a_row9_col2 {\n",
       "  background-color: #3d4e8a;\n",
       "  color: #f1f1f1;\n",
       "}\n",
       "#T_9853a_row10_col0 {\n",
       "  background-color: #46337f;\n",
       "  color: #f1f1f1;\n",
       "}\n",
       "#T_9853a_row10_col1 {\n",
       "  background-color: #365c8d;\n",
       "  color: #f1f1f1;\n",
       "}\n",
       "#T_9853a_row10_col2 {\n",
       "  background-color: #4ec36b;\n",
       "  color: #000000;\n",
       "}\n",
       "#T_9853a_row10_col3 {\n",
       "  background-color: #25838e;\n",
       "  color: #f1f1f1;\n",
       "}\n",
       "#T_9853a_row11_col1 {\n",
       "  background-color: #35b779;\n",
       "  color: #f1f1f1;\n",
       "}\n",
       "#T_9853a_row11_col2 {\n",
       "  background-color: #3dbc74;\n",
       "  color: #f1f1f1;\n",
       "}\n",
       "#T_9853a_row11_col3 {\n",
       "  background-color: #375a8c;\n",
       "  color: #f1f1f1;\n",
       "}\n",
       "#T_9853a_row12_col0 {\n",
       "  background-color: #481b6d;\n",
       "  color: #f1f1f1;\n",
       "}\n",
       "#T_9853a_row12_col2 {\n",
       "  background-color: #c2df23;\n",
       "  color: #000000;\n",
       "}\n",
       "#T_9853a_row13_col0 {\n",
       "  background-color: #46327e;\n",
       "  color: #f1f1f1;\n",
       "}\n",
       "#T_9853a_row13_col1 {\n",
       "  background-color: #26828e;\n",
       "  color: #f1f1f1;\n",
       "}\n",
       "#T_9853a_row13_col2 {\n",
       "  background-color: #24878e;\n",
       "  color: #f1f1f1;\n",
       "}\n",
       "#T_9853a_row13_col3 {\n",
       "  background-color: #40bd72;\n",
       "  color: #f1f1f1;\n",
       "}\n",
       "#T_9853a_row14_col1 {\n",
       "  background-color: #3aba76;\n",
       "  color: #f1f1f1;\n",
       "}\n",
       "#T_9853a_row14_col2 {\n",
       "  background-color: #63cb5f;\n",
       "  color: #000000;\n",
       "}\n",
       "#T_9853a_row14_col3 {\n",
       "  background-color: #b5de2b;\n",
       "  color: #000000;\n",
       "}\n",
       "</style>\n",
       "<table id=\"T_9853a\">\n",
       "  <thead>\n",
       "    <tr>\n",
       "      <th class=\"blank level0\" >&nbsp;</th>\n",
       "      <th id=\"T_9853a_level0_col0\" class=\"col_heading level0 col0\" >a</th>\n",
       "      <th id=\"T_9853a_level0_col1\" class=\"col_heading level0 col1\" >b</th>\n",
       "      <th id=\"T_9853a_level0_col2\" class=\"col_heading level0 col2\" >c</th>\n",
       "      <th id=\"T_9853a_level0_col3\" class=\"col_heading level0 col3\" >d</th>\n",
       "    </tr>\n",
       "  </thead>\n",
       "  <tbody>\n",
       "    <tr>\n",
       "      <th id=\"T_9853a_level0_row0\" class=\"row_heading level0 row0\" >0</th>\n",
       "      <td id=\"T_9853a_row0_col0\" class=\"data row0 col0\" >0.003259</td>\n",
       "      <td id=\"T_9853a_row0_col1\" class=\"data row0 col1\" >0.774210</td>\n",
       "      <td id=\"T_9853a_row0_col2\" class=\"data row0 col2\" >0.896454</td>\n",
       "      <td id=\"T_9853a_row0_col3\" class=\"data row0 col3\" >0.780203</td>\n",
       "    </tr>\n",
       "    <tr>\n",
       "      <th id=\"T_9853a_level0_row1\" class=\"row_heading level0 row1\" >1</th>\n",
       "      <td id=\"T_9853a_row1_col0\" class=\"data row1 col0\" >0.004151</td>\n",
       "      <td id=\"T_9853a_row1_col1\" class=\"data row1 col1\" >0.442622</td>\n",
       "      <td id=\"T_9853a_row1_col2\" class=\"data row1 col2\" >0.847817</td>\n",
       "      <td id=\"T_9853a_row1_col3\" class=\"data row1 col3\" >0.637673</td>\n",
       "    </tr>\n",
       "    <tr>\n",
       "      <th id=\"T_9853a_level0_row2\" class=\"row_heading level0 row2\" >2</th>\n",
       "      <td id=\"T_9853a_row2_col0\" class=\"data row2 col0\" >0.001761</td>\n",
       "      <td id=\"T_9853a_row2_col1\" class=\"data row2 col1\" >0.229524</td>\n",
       "      <td id=\"T_9853a_row2_col2\" class=\"data row2 col2\" >0.757974</td>\n",
       "      <td id=\"T_9853a_row2_col3\" class=\"data row2 col3\" >0.890007</td>\n",
       "    </tr>\n",
       "    <tr>\n",
       "      <th id=\"T_9853a_level0_row3\" class=\"row_heading level0 row3\" >3</th>\n",
       "      <td id=\"T_9853a_row3_col0\" class=\"data row3 col0\" >0.269210</td>\n",
       "      <td id=\"T_9853a_row3_col1\" class=\"data row3 col1\" >0.794629</td>\n",
       "      <td id=\"T_9853a_row3_col2\" class=\"data row3 col2\" >0.863608</td>\n",
       "      <td id=\"T_9853a_row3_col3\" class=\"data row3 col3\" >0.874150</td>\n",
       "    </tr>\n",
       "    <tr>\n",
       "      <th id=\"T_9853a_level0_row4\" class=\"row_heading level0 row4\" >4</th>\n",
       "      <td id=\"T_9853a_row4_col0\" class=\"data row4 col0\" >0.047546</td>\n",
       "      <td id=\"T_9853a_row4_col1\" class=\"data row4 col1\" >0.850900</td>\n",
       "      <td id=\"T_9853a_row4_col2\" class=\"data row4 col2\" >0.797513</td>\n",
       "      <td id=\"T_9853a_row4_col3\" class=\"data row4 col3\" >0.807209</td>\n",
       "    </tr>\n",
       "    <tr>\n",
       "      <th id=\"T_9853a_level0_row5\" class=\"row_heading level0 row5\" >5</th>\n",
       "      <td id=\"T_9853a_row5_col0\" class=\"data row5 col0\" >0.055865</td>\n",
       "      <td id=\"T_9853a_row5_col1\" class=\"data row5 col1\" >0.431414</td>\n",
       "      <td id=\"T_9853a_row5_col2\" class=\"data row5 col2\" >0.560731</td>\n",
       "      <td id=\"T_9853a_row5_col3\" class=\"data row5 col3\" >0.574832</td>\n",
       "    </tr>\n",
       "    <tr>\n",
       "      <th id=\"T_9853a_level0_row6\" class=\"row_heading level0 row6\" >6</th>\n",
       "      <td id=\"T_9853a_row6_col0\" class=\"data row6 col0\" >0.146059</td>\n",
       "      <td id=\"T_9853a_row6_col1\" class=\"data row6 col1\" >0.382183</td>\n",
       "      <td id=\"T_9853a_row6_col2\" class=\"data row6 col2\" >0.598058</td>\n",
       "      <td id=\"T_9853a_row6_col3\" class=\"data row6 col3\" >0.698844</td>\n",
       "    </tr>\n",
       "    <tr>\n",
       "      <th id=\"T_9853a_level0_row7\" class=\"row_heading level0 row7\" >7</th>\n",
       "      <td id=\"T_9853a_row7_col0\" class=\"data row7 col0\" >0.079312</td>\n",
       "      <td id=\"T_9853a_row7_col1\" class=\"data row7 col1\" >0.843316</td>\n",
       "      <td id=\"T_9853a_row7_col2\" class=\"data row7 col2\" >0.518904</td>\n",
       "      <td id=\"T_9853a_row7_col3\" class=\"data row7 col3\" >0.542317</td>\n",
       "    </tr>\n",
       "    <tr>\n",
       "      <th id=\"T_9853a_level0_row8\" class=\"row_heading level0 row8\" >8</th>\n",
       "      <td id=\"T_9853a_row8_col0\" class=\"data row8 col0\" >0.137434</td>\n",
       "      <td id=\"T_9853a_row8_col1\" class=\"data row8 col1\" >0.664604</td>\n",
       "      <td id=\"T_9853a_row8_col2\" class=\"data row8 col2\" >0.420789</td>\n",
       "      <td id=\"T_9853a_row8_col3\" class=\"data row8 col3\" >0.805205</td>\n",
       "    </tr>\n",
       "    <tr>\n",
       "      <th id=\"T_9853a_level0_row9\" class=\"row_heading level0 row9\" >9</th>\n",
       "      <td id=\"T_9853a_row9_col0\" class=\"data row9 col0\" >0.168505</td>\n",
       "      <td id=\"T_9853a_row9_col1\" class=\"data row9 col1\" >0.358604</td>\n",
       "      <td id=\"T_9853a_row9_col2\" class=\"data row9 col2\" >0.532415</td>\n",
       "      <td id=\"T_9853a_row9_col3\" class=\"data row9 col3\" >0.957759</td>\n",
       "    </tr>\n",
       "    <tr>\n",
       "      <th id=\"T_9853a_level0_row10\" class=\"row_heading level0 row10\" >10</th>\n",
       "      <td id=\"T_9853a_row10_col0\" class=\"data row10 col0\" >0.071780</td>\n",
       "      <td id=\"T_9853a_row10_col1\" class=\"data row10 col1\" >0.342045</td>\n",
       "      <td id=\"T_9853a_row10_col2\" class=\"data row10 col2\" >0.763512</td>\n",
       "      <td id=\"T_9853a_row10_col3\" class=\"data row10 col3\" >0.722953</td>\n",
       "    </tr>\n",
       "    <tr>\n",
       "      <th id=\"T_9853a_level0_row11\" class=\"row_heading level0 row11\" >11</th>\n",
       "      <td id=\"T_9853a_row11_col0\" class=\"data row11 col0\" >0.479252</td>\n",
       "      <td id=\"T_9853a_row11_col1\" class=\"data row11 col1\" >0.614191</td>\n",
       "      <td id=\"T_9853a_row11_col2\" class=\"data row11 col2\" >0.746985</td>\n",
       "      <td id=\"T_9853a_row11_col3\" class=\"data row11 col3\" >0.650710</td>\n",
       "    </tr>\n",
       "    <tr>\n",
       "      <th id=\"T_9853a_level0_row12\" class=\"row_heading level0 row12\" >12</th>\n",
       "      <td id=\"T_9853a_row12_col0\" class=\"data row12 col0\" >0.036609</td>\n",
       "      <td id=\"T_9853a_row12_col1\" class=\"data row12 col1\" >0.138304</td>\n",
       "      <td id=\"T_9853a_row12_col2\" class=\"data row12 col2\" >0.852930</td>\n",
       "      <td id=\"T_9853a_row12_col3\" class=\"data row12 col3\" >0.531633</td>\n",
       "    </tr>\n",
       "    <tr>\n",
       "      <th id=\"T_9853a_level0_row13\" class=\"row_heading level0 row13\" >13</th>\n",
       "      <td id=\"T_9853a_row13_col0\" class=\"data row13 col0\" >0.068955</td>\n",
       "      <td id=\"T_9853a_row13_col1\" class=\"data row13 col1\" >0.454261</td>\n",
       "      <td id=\"T_9853a_row13_col2\" class=\"data row13 col2\" >0.641144</td>\n",
       "      <td id=\"T_9853a_row13_col3\" class=\"data row13 col3\" >0.827327</td>\n",
       "    </tr>\n",
       "    <tr>\n",
       "      <th id=\"T_9853a_level0_row14\" class=\"row_heading level0 row14\" >14</th>\n",
       "      <td id=\"T_9853a_row14_col0\" class=\"data row14 col0\" >0.142360</td>\n",
       "      <td id=\"T_9853a_row14_col1\" class=\"data row14 col1\" >0.620112</td>\n",
       "      <td id=\"T_9853a_row14_col2\" class=\"data row14 col2\" >0.781901</td>\n",
       "      <td id=\"T_9853a_row14_col3\" class=\"data row14 col3\" >0.910570</td>\n",
       "    </tr>\n",
       "  </tbody>\n",
       "</table>\n"
      ],
      "text/plain": [
       "<pandas.io.formats.style.Styler at 0x7ff8f32ca8f0>"
      ]
     },
     "execution_count": 4,
     "metadata": {},
     "output_type": "execute_result"
    }
   ],
   "source": [
    "import pandas as pd\n",
    "import numpy as np\n",
    "\n",
    "x = np.arange(20_000)\n",
    "\n",
    "df = pd.DataFrame(\n",
    "    {\n",
    "        col: np.random.beta(i+1, 3, x.shape)\n",
    "        for col, i in zip(\"abcd\", [0, 2, 4, 6])\n",
    "    },\n",
    "    index = x,\n",
    ")\n",
    "df.head(15).style.background_gradient(cmap=\"viridis\")"
   ]
  },
  {
   "cell_type": "markdown",
   "id": "10690823",
   "metadata": {
    "execute": {
     "shell": {
      "execute_reply": "2022-02-03T11:12:36.286420+00:00"
     }
    },
    "iopub": {
     "status": {
      "busy": "2022-02-03T11:12:36.286194+00:00",
      "idle": "2022-02-03T11:12:36.286552+00:00"
     }
    }
   },
   "source": [
    "`euporie` can render images using Sixel graphics if your terminal supports it. Otherwise it will fall back to using character-based terminal graphics.\n",
    "\n",
    "This means you can produce plots with `matplotlib` and `euporie` will display them in the best way it can:"
   ]
  },
  {
   "cell_type": "markdown",
   "id": "3adda7cd",
   "metadata": {
    "execute": {
     "shell": {
      "execute_reply": "2022-02-03T11:12:36.292730+00:00"
     }
    },
    "iopub": {
     "status": {
      "busy": "2022-02-03T11:12:36.292507+00:00",
      "idle": "2022-02-03T11:12:36.292880+00:00"
     }
    }
   },
   "source": [
    "It can also display SVG output:"
   ]
  },
  {
   "cell_type": "code",
   "execution_count": 5,
   "id": "600da1a5",
   "metadata": {
    "execute": {
     "shell": {
      "execute_reply": "2022-02-16T11:08:21.852100+00:00"
     }
    },
    "iopub": {
     "execute_input": "2022-02-16T11:08:20.300070+00:00",
     "status": {
      "busy": "2022-02-16T11:08:20.299711+00:00",
      "idle": "2022-02-16T11:08:21.852873+00:00"
     }
    }
   },
   "outputs": [
    {
     "data": {
      "image/png": "[encoded data removed]",
      "text/plain": [
       "<Figure size 800x200 with 1 Axes>"
      ]
     },
     "metadata": {},
     "output_type": "display_data"
    }
   ],
   "source": [
    "from matplotlib import pyplot as plt\n",
    "\n",
    "fig, ax = plt.subplots(figsize=(8,2), facecolor=\"#FFF\")\n",
    "df.plot.hist(ax=ax, bins=80, alpha=0.75)\n",
    "plt.show()"
   ]
  },
  {
   "cell_type": "code",
   "execution_count": 6,
   "id": "02fe9798",
   "metadata": {
    "execute": {
     "shell": {
      "execute_reply": "2022-02-16T11:08:22.063910+00:00"
     }
    },
    "iopub": {
     "execute_input": "2022-02-16T11:08:22.058466+00:00",
     "status": {
      "busy": "2022-02-16T11:08:22.058214+00:00",
      "idle": "2022-02-16T11:08:22.064507+00:00"
     }
    }
   },
   "outputs": [
    {
     "data": {
      "image/svg+xml": [
       "<svg width=\"200\" height=\"200\"><polygon points=\"105,5 45,185 195,65 5,65 165,185\" fill=\"yellow\"/></svg>"
      ],
      "text/plain": [
       "<IPython.core.display.SVG object>"
      ]
     },
     "execution_count": 6,
     "metadata": {},
     "output_type": "execute_result"
    }
   ],
   "source": [
    "from IPython.display import SVG\n",
    "\n",
    "SVG(\n",
    "    '<svg width=\"200\" height=\"200\"><polygon points=\"105,5 45,185 195,65 5,65 165,185\" fill=\"yellow\" /></svg>'\n",
    ")"
   ]
  },
  {
   "cell_type": "markdown",
   "id": "1bd9c919",
   "metadata": {},
   "source": [
    "Euporie can display JSON output interactively. Try clicking to expand and collapse items in the output:"
   ]
  },
  {
   "cell_type": "code",
   "execution_count": 7,
   "id": "28fae044",
   "metadata": {},
   "outputs": [
    {
     "data": {
      "application/json": {
       "bool": true,
       "dict": {
        "bool": true,
        "list": [
         "First",
         "Second",
         "Third",
         "Fourth"
        ],
        "number": 123.456,
        "string": "This is a string"
       },
       "list": [
        "First",
        "Second",
        "Third",
        "Fourth"
       ],
       "number": 123.456,
       "string": "This is a string"
      },
      "text/plain": [
       "<IPython.core.display.JSON object>"
      ]
     },
     "execution_count": 7,
     "metadata": {
      "application/json": {
       "expanded": true,
       "root": "My JSON document"
      }
     },
     "output_type": "execute_result"
    }
   ],
   "source": [
    "from IPython.display import JSON\n",
    "\n",
    "JSON(\n",
    "    {\n",
    "        \"number\": 123.456,\n",
    "        \"bool\": True,\n",
    "        \"string\": \"This is a string\",\n",
    "        \"list\": [\"First\", \"Second\", \"Third\", \"Fourth\"],\n",
    "        \"dict\": {\n",
    "            \"number\": 123.456,\n",
    "            \"bool\": True,\n",
    "            \"string\": \"This is a string\",\n",
    "            \"list\": [\"First\", \"Second\", \"Third\", \"Fourth\"],\n",
    "        },\n",
    "    },\n",
    "    expanded=True,\n",
    "    root=\"My JSON document\",\n",
    ")"
   ]
  },
  {
   "cell_type": "markdown",
   "id": "930e6d01",
   "metadata": {
    "execute": {
     "shell": {
      "execute_reply": "2022-02-03T11:12:36.299041+00:00"
     }
    },
    "iopub": {
     "execute_input": "2022-02-03T11:10:23.378289+00:00",
     "status": {
      "busy": "2022-02-03T11:12:36.298716+00:00",
      "idle": "2022-02-03T11:12:36.299174+00:00"
     }
    }
   },
   "source": [
    "`euporie` supporst ANSI output, so  works with libraries like `tqdm` and `rich`:"
   ]
  },
  {
   "cell_type": "code",
   "execution_count": null,
   "id": "831136cb-3feb-4dc1-867c-cd35af15bdd1",
   "metadata": {
    "execute": {
     "shell": {
      "execute_reply": "2022-02-16T11:08:29.098413+00:00"
     }
    },
    "iopub": {
     "execute_input": "2022-02-16T11:08:25.039636+00:00",
     "status": {
      "busy": "2022-02-16T11:08:25.038767+00:00",
      "idle": "2022-02-16T11:08:29.099088+00:00"
     }
    }
   },
   "outputs": [],
   "source": [
    "import time\n",
    "from tqdm import tqdm\n",
    "\n",
    "for i in tqdm(range(20), ncols=100):\n",
    "    time.sleep(0.2)"
   ]
  },
  {
   "cell_type": "code",
   "execution_count": null,
   "id": "51d035f3-6cfb-4d0e-a72d-7787b0bc537b",
   "metadata": {
    "execute": {
     "shell": {
      "execute_reply": "2022-02-16T11:08:33.187586+00:00"
     }
    },
    "iopub": {
     "execute_input": "2022-02-16T11:08:29.100639+00:00",
     "status": {
      "busy": "2022-02-16T11:08:29.100293+00:00",
      "idle": "2022-02-16T11:08:33.188270+00:00"
     }
    }
   },
   "outputs": [],
   "source": [
    "from rich.progress import track\n",
    "\n",
    "for _ in track(range(20)):\n",
    "    time.sleep(0.2)"
   ]
  },
  {
   "cell_type": "markdown",
   "id": "b3a7402a",
   "metadata": {},
   "source": [
    "This means it can also display colored output from external commands:"
   ]
  },
  {
   "cell_type": "code",
   "execution_count": null,
   "id": "7a24ebae-fe8e-4bce-a964-b4010877c45a",
   "metadata": {
    "execute": {
     "shell": {
      "execute_reply": "2022-02-16T11:08:33.317773+00:00"
     }
    },
    "iopub": {
     "execute_input": "2022-02-16T11:08:33.189476+00:00",
     "status": {
      "busy": "2022-02-16T11:08:33.189220+00:00",
      "idle": "2022-02-16T11:08:33.320167+00:00"
     }
    }
   },
   "outputs": [],
   "source": [
    "!exa -l --icons --group-directories-first"
   ]
  },
  {
   "cell_type": "markdown",
   "id": "025efbf2",
   "metadata": {
    "execute": {
     "shell": {
      "execute_reply": "2022-02-03T11:12:36.296087+00:00"
     }
    },
    "iopub": {
     "status": {
      "busy": "2022-02-03T11:12:36.295875+00:00",
      "idle": "2022-02-03T11:12:36.296226+00:00"
     }
    }
   },
   "source": [
    "## Requesting input\n",
    "\n",
    "`euoporie` can response to requests for user input from the kernel (press enter to send your input):"
   ]
  },
  {
   "cell_type": "code",
   "execution_count": null,
   "id": "849afa5d-dd52-4ae4-87ad-9c2ab1f33792",
   "metadata": {
    "execute": {
     "shell": {
      "execute_reply": "2022-02-16T11:08:25.034779+00:00"
     }
    },
    "iopub": {
     "execute_input": "2022-02-16T11:08:22.065738+00:00",
     "status": {
      "busy": "2022-02-16T11:08:22.065489+00:00",
      "idle": "2022-02-16T11:08:25.037180+00:00"
     }
    }
   },
   "outputs": [],
   "source": [
    "name = input(\"Enter your name:\")\n",
    "print(f\"Hello {name}\")"
   ]
  },
  {
   "cell_type": "markdown",
   "id": "6e805611",
   "metadata": {},
   "source": [
    "## `ipywidgets`\n",
    "\n",
    "Euporie supports most of the widgets in `ipywidgets`, allowing you to build interactive applications inside your notebook in the terminal.\n",
    "\n",
    "Run the following cell to try it out:"
   ]
  },
  {
   "cell_type": "code",
   "execution_count": null,
   "id": "83c380bc-26e2-4008-9f11-f0a603e7f86d",
   "metadata": {},
   "outputs": [],
   "source": [
    "import numpy as np\n",
    "from matplotlib import pyplot as plt\n",
    "from ipywidgets import widgets as w\n",
    "from ipywidgets import interactive\n",
    "\n",
    "def plot(n, color):\n",
    "    x = np.arange(-20, 20, 0.1)\n",
    "    y = np.sin(n*x) / x\n",
    "    fig, ax = plt.subplots(figsize=(8,2))\n",
    "    ax.plot(x, y, c=color, lw=5)\n",
    "    plt.show()\n",
    "\n",
    "n=w.IntSlider(description=\"n\", value=2, min=-10, max=10)\n",
    "color = w.ColorPicker(value=\"red\", description=\"Colour\")\n",
    "output = w.interactive_output(plot, {'n':n, 'color': color})\n",
    "\n",
    "w.HBox([w.VBox([n, color]), output])"
   ]
  },
  {
   "cell_type": "markdown",
   "id": "84724255",
   "metadata": {},
   "source": [
    "---\n",
    "\n",
    "If you like `euporie`, please [star it on GitHub](https://github.com/joouha/euporie/)\n",
    "\n",
    "⭐ https://github.com/joouha/euporie/"
   ]
  }
 ],
 "metadata": {
  "kernelspec": {
   "display_name": "Python 3 (ipykernel)",
   "language": "python",
   "name": "python3"
  },
  "language_info": {
   "codemirror_mode": {
    "name": "ipython",
    "version": 3
   },
   "file_extension": ".py",
   "mimetype": "text/x-python",
   "name": "python",
   "nbconvert_exporter": "python",
   "pygments_lexer": "ipython3",
   "version": "3.10.8"
  },
  "widgets": {
   "application/vnd.jupyter.widget-state+json": {
    "state": {},
    "version_major": 2,
    "version_minor": 0
   }
  }
 },
 "nbformat": 4,
 "nbformat_minor": 5
}
