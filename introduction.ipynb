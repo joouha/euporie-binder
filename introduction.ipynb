{
 "cells": [
  {
   "cell_type": "markdown",
   "execution_count": 1,
   "id": "33c6cb91",
   "metadata": {
    "execute": {
     "shell": {
      "execute_reply": "2021-12-17T08:24:16.474532+00:00"
     }
    },
    "iopub": {
     "execute_input": "2021-12-17T08:24:16.436450+00:00",
     "status": {
      "busy": "2021-12-17T08:24:16.435832+00:00",
      "idle": "2021-12-17T08:24:16.475079+00:00"
     }
    }
   },
   "outputs": [],
   "source": [
    "# euporie\n",
    "\n",
    "Welcome to this online demo of `euporie`, a terminal based interactive development environment for Jupyter notebooks.\n",
    "\n",
    "- Use the arrow keys or the mouse to navigate between cells\n",
    "- Use `[` and `]` (or the mouse wheel) to scroll up and down\n",
    "- Press `Enter` to edit a cell\n",
    "- Press `Esc Esc` to stop editing a cell\n",
    "- Press `Ctrl+e` to execute or render a cell"
   ]
  },
  {
   "cell_type": "markdown",
   "execution_count": null,
   "id": "e513b473",
   "metadata": {},
   "outputs": [],
   "source": [
    "`euporie` can display rich cell output, including Markdown, HTML, and images.\n",
    "\n",
    "This means you can use libraries like `pandas`, and display dataframes as you would expect:"
   ]
  },
  {
   "cell_type": "code",
   "execution_count": 1,
   "id": "5dc84d78",
   "metadata": {
    "execute": {
     "shell": {
      "execute_reply": "2021-12-17T16:10:07.747855+00:00"
     }
    },
    "iopub": {
     "execute_input": "2021-12-17T16:10:07.217340+00:00",
     "status": {
      "busy": "2021-12-17T16:10:07.216729+00:00",
      "idle": "2021-12-17T16:10:07.753808+00:00"
     }
    }
   },
   "outputs": [
    {
     "data": {
      "text/html": [
       "<div>\n",
       "<style scoped>\n",
       "    .dataframe tbody tr th:only-of-type {\n",
       "        vertical-align: middle;\n",
       "    }\n",
       "\n",
       "    .dataframe tbody tr th {\n",
       "        vertical-align: top;\n",
       "    }\n",
       "\n",
       "    .dataframe thead th {\n",
       "        text-align: right;\n",
       "    }\n",
       "</style>\n",
       "<table border=\"1\" class=\"dataframe\">\n",
       "  <thead>\n",
       "    <tr style=\"text-align: right;\">\n",
       "      <th></th>\n",
       "      <th>a</th>\n",
       "      <th>b</th>\n",
       "      <th>c</th>\n",
       "      <th>d</th>\n",
       "    </tr>\n",
       "  </thead>\n",
       "  <tbody>\n",
       "    <tr>\n",
       "      <th>0</th>\n",
       "      <td>0.051552</td>\n",
       "      <td>0.635922</td>\n",
       "      <td>0.725065</td>\n",
       "      <td>0.672562</td>\n",
       "    </tr>\n",
       "    <tr>\n",
       "      <th>1</th>\n",
       "      <td>0.052714</td>\n",
       "      <td>0.592981</td>\n",
       "      <td>0.699870</td>\n",
       "      <td>0.868153</td>\n",
       "    </tr>\n",
       "    <tr>\n",
       "      <th>2</th>\n",
       "      <td>0.144532</td>\n",
       "      <td>0.293840</td>\n",
       "      <td>0.650994</td>\n",
       "      <td>0.724491</td>\n",
       "    </tr>\n",
       "    <tr>\n",
       "      <th>3</th>\n",
       "      <td>0.042394</td>\n",
       "      <td>0.323041</td>\n",
       "      <td>0.472234</td>\n",
       "      <td>0.738952</td>\n",
       "    </tr>\n",
       "    <tr>\n",
       "      <th>4</th>\n",
       "      <td>0.064185</td>\n",
       "      <td>0.669624</td>\n",
       "      <td>0.650009</td>\n",
       "      <td>0.756172</td>\n",
       "    </tr>\n",
       "  </tbody>\n",
       "</table>\n",
       "</div>"
      ],
      "text/plain": [
       "          a         b         c         d\n",
       "0  0.051552  0.635922  0.725065  0.672562\n",
       "1  0.052714  0.592981  0.699870  0.868153\n",
       "2  0.144532  0.293840  0.650994  0.724491\n",
       "3  0.042394  0.323041  0.472234  0.738952\n",
       "4  0.064185  0.669624  0.650009  0.756172"
      ]
     },
     "execution_count": 1,
     "metadata": {},
     "output_type": "execute_result"
    }
   ],
   "source": [
    "import pandas as pd\n",
    "import numpy as np\n",
    "\n",
    "x = np.arange(20_000)\n",
    "df = pd.DataFrame(\n",
    "    {\n",
    "        col: np.random.beta(i+1, 3, x.shape)\n",
    "        for col, i in zip(\"abcd\", range(0, 10, 2))\n",
    "    },\n",
    "    index = x,\n",
    ")\n",
    "df.head()"
   ]
  },
  {
   "cell_type": "markdown",
   "execution_count": null,
   "id": "10690823",
   "metadata": {},
   "outputs": [],
   "source": [
    "`euporie` can render images using Sixel graphics if your terminal supports it. Otherwise it will fall back to using character-based terminal graphics.\n",
    "\n",
    "This means you can produce plots with `matplotlib` and `euporie` will display them in the best way it can:"
   ]
  },
  {
   "cell_type": "code",
   "execution_count": 2,
   "id": "2017c662",
   "metadata": {
    "execute": {
     "shell": {
      "execute_reply": "2021-12-17T10:36:36.290435+00:00"
     }
    },
    "iopub": {
     "execute_input": "2021-12-17T10:36:35.352168+00:00",
     "status": {
      "busy": "2021-12-17T10:36:35.351438+00:00",
      "idle": "2021-12-17T10:36:36.292350+00:00"
     }
    }
   },
   "outputs": [
    {
     "data": {
      "image/png": "[encoded data removed]",
      "text/plain": [
       "<Figure size 1440x432 with 1 Axes>"
      ]
     },
     "metadata": {},
     "output_type": "display_data"
    }
   ],
   "source": [
    "from matplotlib import pyplot as plt\n",
    "\n",
    "fig, ax = plt.subplots(figsize=(20, 6), facecolor=\"#FFF\")\n",
    "df.plot.hist(ax=ax, bins=80, figsize=(20, 6), alpha=0.75)\n",
    "plt.show()"
   ]
  },
  {
   "cell_type": "markdown",
   "execution_count": null,
   "id": "f85075bd",
   "metadata": {},
   "outputs": [],
   "source": [
    "If your terminal does not support graphics, the excellent `plotext` library works very well with euporie:"
   ]
  },
  {
   "cell_type": "code",
   "execution_count": null,
   "id": "a36015d6",
   "metadata": {
    "execute": {
     "shell": {
      "execute_reply": "2021-12-17T10:00:39.667692+00:00"
     }
    },
    "iopub": {
     "execute_input": "2021-12-17T10:00:39.364020+00:00",
     "status": {
      "busy": "2021-12-17T10:00:39.363440+00:00",
      "idle": "2021-12-17T10:00:39.668364+00:00"
     }
    }
   },
   "outputs": [
    {
     "name": "stdout",
     "output_type": "stream",
     "text": [
      "\u001b[30m\u001b[47m                                  Histogram Plot                                \u001b[0m\u001b[0m\n",
      "\u001b[30m\u001b[47m     ┌─────────────────────────────────────────────────────────────────────────┐\u001b[0m\u001b[0m\n",
      "\u001b[30m\u001b[47m767.0┤\u001b[0m\u001b[0m\u001b[47m \u001b[0m\u001b[94m\u001b[47m🬏🬏🬏\u001b[0m\u001b[0m\u001b[30m\u001b[47m a \u001b[0m\u001b[0m\u001b[47m                                                                  \u001b[0m\u001b[30m\u001b[47m│\u001b[0m\u001b[0m\n",
      "\u001b[30m\u001b[47m     │\u001b[0m\u001b[0m\u001b[47m \u001b[0m\u001b[93m\u001b[47m🬏🬏🬏\u001b[0m\u001b[0m\u001b[30m\u001b[47m b \u001b[0m\u001b[0m\u001b[47m                                                                  \u001b[0m\u001b[30m\u001b[47m│\u001b[0m\u001b[0m\n",
      "\u001b[30m\u001b[47m639.2┤\u001b[0m\u001b[0m\u001b[47m \u001b[0m\u001b[32m\u001b[47m🬏🬏🬏\u001b[0m\u001b[0m\u001b[30m\u001b[47m c \u001b[0m\u001b[0m\u001b[47m                                                                  \u001b[0m\u001b[30m\u001b[47m│\u001b[0m\u001b[0m\n",
      "\u001b[30m\u001b[47m     │\u001b[0m\u001b[0m\u001b[47m \u001b[0m\u001b[31m\u001b[47m🬏🬏🬏\u001b[0m\u001b[0m\u001b[30m\u001b[47m d \u001b[0m\u001b[0m\u001b[94m\u001b[47m🬭🬏\u001b[0m\u001b[0m\u001b[47m                                           \u001b[0m\u001b[31m\u001b[47m🬷█🬏\u001b[0m\u001b[0m\u001b[47m \u001b[0m\u001b[31m\u001b[47m🬞🬏🬹\u001b[0m\u001b[0m\u001b[47m              \u001b[0m\u001b[30m\u001b[47m│\u001b[0m\u001b[0m\n",
      "\u001b[30m\u001b[47m     │       \u001b[0m\u001b[0m\u001b[94m\u001b[47m███🬦🬹\u001b[0m\u001b[0m\u001b[47m                                \u001b[0m\u001b[32m\u001b[47m🬵🬹🬵\u001b[0m\u001b[0m\u001b[31m\u001b[47m🬹🬱█🬵🬹████🬻🬺█🬞🬏\u001b[0m\u001b[0m\u001b[47m            \u001b[0m\u001b[30m\u001b[47m│\u001b[0m\u001b[0m\n",
      "\u001b[30m\u001b[47m511.3┤\u001b[0m\u001b[0m\u001b[94m\u001b[47m████████████🬓\u001b[0m\u001b[0m\u001b[47m                              \u001b[0m\u001b[32m\u001b[47m███\u001b[0m\u001b[0m\u001b[31m\u001b[47m██████████████🬺🬓\u001b[0m\u001b[0m\u001b[47m           \u001b[0m\u001b[30m\u001b[47m│\u001b[0m\u001b[0m\n",
      "\u001b[30m\u001b[47m     │\u001b[0m\u001b[0m\u001b[94m\u001b[47m█████████████🬺█🬺🬓\u001b[0m\u001b[0m\u001b[47m            \u001b[0m\u001b[93m\u001b[47m🬞🬭🬭🬷🬺🬱█🬦🬹🬹🬓\u001b[0m\u001b[0m\u001b[32m\u001b[47m🬵█🬺██\u001b[0m\u001b[0m\u001b[31m\u001b[47m████████████████🬺🬹\u001b[0m\u001b[0m\u001b[47m          \u001b[0m\u001b[30m\u001b[47m│\u001b[0m\u001b[0m\n",
      "\u001b[30m\u001b[47m383.5┤\u001b[0m\u001b[0m\u001b[94m\u001b[47m████████████████🬺🬵🬹🬭\u001b[0m\u001b[0m\u001b[47m  \u001b[0m\u001b[93m\u001b[47m🬞🬭🬞🬏\u001b[0m\u001b[0m\u001b[47m \u001b[0m\u001b[93m\u001b[47m🬹█🬷██████\u001b[0m\u001b[0m\u001b[32m\u001b[47m████████\u001b[0m\u001b[0m\u001b[31m\u001b[47m███████████████████🬞🬏\u001b[0m\u001b[0m\u001b[47m        \u001b[0m\u001b[30m\u001b[47m│\u001b[0m\u001b[0m\n",
      "\u001b[30m\u001b[47m     │\u001b[0m\u001b[0m\u001b[94m\u001b[47m████████████████████🬹🬻\u001b[0m\u001b[0m\u001b[93m\u001b[47m██▐🬲🬹█████\u001b[0m\u001b[0m\u001b[32m\u001b[47m█████████\u001b[0m\u001b[0m\u001b[31m\u001b[47m███████████████████████▌\u001b[0m\u001b[0m\u001b[47m        \u001b[0m\u001b[30m\u001b[47m│\u001b[0m\u001b[0m\n",
      "\u001b[30m\u001b[47m     │\u001b[0m\u001b[0m\u001b[94m\u001b[47m████████████████████\u001b[0m\u001b[0m\u001b[93m\u001b[47m████████████\u001b[0m\u001b[0m\u001b[32m\u001b[47m███████\u001b[0m\u001b[0m\u001b[31m\u001b[47m█████████████████████████🬺🬓\u001b[0m\u001b[0m\u001b[47m       \u001b[0m\u001b[30m\u001b[47m│\u001b[0m\u001b[0m\n",
      "\u001b[30m\u001b[47m255.7┤\u001b[0m\u001b[0m\u001b[94m\u001b[47m█████████████████\u001b[0m\u001b[0m\u001b[93m\u001b[47m█████████████\u001b[0m\u001b[0m\u001b[32m\u001b[47m███████\u001b[0m\u001b[0m\u001b[31m\u001b[47m█████████████████████████████🬭\u001b[0m\u001b[0m\u001b[47m      \u001b[0m\u001b[30m\u001b[47m│\u001b[0m\u001b[0m\n",
      "\u001b[30m\u001b[47m     │\u001b[0m\u001b[0m\u001b[94m\u001b[47m██████████████\u001b[0m\u001b[0m\u001b[93m\u001b[47m████████████\u001b[0m\u001b[0m\u001b[32m\u001b[47m██████████\u001b[0m\u001b[0m\u001b[31m\u001b[47m███████████████████████████████🬏\u001b[0m\u001b[0m\u001b[47m     \u001b[0m\u001b[30m\u001b[47m│\u001b[0m\u001b[0m\n",
      "\u001b[30m\u001b[47m127.8┤\u001b[0m\u001b[0m\u001b[94m\u001b[47m████████████\u001b[0m\u001b[0m\u001b[93m\u001b[47m████████████\u001b[0m\u001b[0m\u001b[32m\u001b[47m█████████\u001b[0m\u001b[0m\u001b[31m\u001b[47m███████████████████████████████████▌\u001b[0m\u001b[0m\u001b[47m    \u001b[0m\u001b[30m\u001b[47m│\u001b[0m\u001b[0m\n",
      "\u001b[30m\u001b[47m     │\u001b[0m\u001b[0m\u001b[94m\u001b[47m████████\u001b[0m\u001b[0m\u001b[93m\u001b[47m██████████████\u001b[0m\u001b[0m\u001b[32m\u001b[47m███████\u001b[0m\u001b[0m\u001b[31m\u001b[47m████████████████████████████████████████🬭\u001b[0m\u001b[0m\u001b[47m   \u001b[0m\u001b[30m\u001b[47m│\u001b[0m\u001b[0m\n",
      "\u001b[30m\u001b[47m     │\u001b[0m\u001b[0m\u001b[94m\u001b[47m██████\u001b[0m\u001b[0m\u001b[93m\u001b[47m██████████\u001b[0m\u001b[0m\u001b[32m\u001b[47m█████████\u001b[0m\u001b[0m\u001b[31m\u001b[47m█████████████████████████████████████████████🬱🬏\u001b[0m\u001b[0m\u001b[47m \u001b[0m\u001b[30m\u001b[47m│\u001b[0m\u001b[0m\n",
      "\u001b[30m\u001b[47m  0.0┤\u001b[0m\u001b[0m\u001b[94m\u001b[47m█\u001b[0m\u001b[0m\u001b[93m\u001b[47m██\u001b[0m\u001b[0m\u001b[32m\u001b[47m████████\u001b[0m\u001b[0m\u001b[31m\u001b[47m████████████████████████████████████████████████████████████🬺🬱\u001b[0m\u001b[0m\u001b[30m\u001b[47m│\u001b[0m\u001b[0m\n",
      "\u001b[30m\u001b[47m     └┬─────────────────┬─────────────────┬─────────────────┬─────────────────┬┘\u001b[0m\u001b[0m\n",
      "\u001b[30m\u001b[47m      0.00            0.25              0.50              0.75             1.00 \u001b[0m\u001b[0m\u001b[0m\n"
     ]
    }
   ],
   "source": [
    "import plotext as plt\n",
    "\n",
    "plt.clear_figure()\n",
    "plt.plot_size(100, 20)\n",
    "for name, col in df.items():\n",
    "    plt.hist(col.values, 80, label=name)\n",
    "plt.title(\"Histogram Plot\")\n",
    "plt.show()"
   ]
  },
  {
   "cell_type": "markdown",
   "execution_count": null,
   "id": "2c5ea8bf",
   "metadata": {},
   "outputs": [],
   "source": []
  },
  {
   "cell_type": "code",
   "execution_count": null,
   "id": "647ba74c",
   "metadata": {
    "execute": {
     "shell": {
      "execute_reply": "2021-12-17T15:53:10.342386+00:00"
     }
    },
    "iopub": {
     "execute_input": "2021-12-17T15:53:06.302137+00:00",
     "status": {
      "busy": "2021-12-17T15:53:06.301149+00:00",
      "idle": "2021-12-17T15:53:10.343303+00:00"
     }
    }
   },
   "outputs": [
    {
     "name": "stderr",
     "output_type": "stream",
     "text": [
      "\r",
      "  0%|                                                                        | 0/20 [00:00<?, ?it/s]\r",
      "  5%|███▏                                                            | 1/20 [00:00<00:03,  4.99it/s]\r",
      " 10%|██████▍                                                         | 2/20 [00:00<00:03,  4.98it/s]\r",
      " 15%|█████████▌                                                      | 3/20 [00:00<00:03,  4.98it/s]\r",
      " 20%|████████████▊                                                   | 4/20 [00:00<00:03,  4.98it/s]\r",
      " 25%|████████████████                                                | 5/20 [00:01<00:03,  4.97it/s]\r",
      " 30%|███████████████████▏                                            | 6/20 [00:01<00:02,  4.97it/s]\r",
      " 35%|██████████████████████▍                                         | 7/20 [00:01<00:02,  4.97it/s]\r",
      " 40%|█████████████████████████▌                                      | 8/20 [00:01<00:02,  4.97it/s]\r",
      " 45%|████████████████████████████▊                                   | 9/20 [00:01<00:02,  4.97it/s]\r",
      " 50%|███████████████████████████████▌                               | 10/20 [00:02<00:02,  4.96it/s]\r",
      " 55%|██████████████████████████████████▋                            | 11/20 [00:02<00:01,  4.97it/s]\r",
      " 60%|█████████████████████████████████████▊                         | 12/20 [00:02<00:01,  4.97it/s]\r",
      " 65%|████████████████████████████████████████▉                      | 13/20 [00:02<00:01,  4.97it/s]\r",
      " 70%|████████████████████████████████████████████                   | 14/20 [00:02<00:01,  4.97it/s]\r",
      " 75%|███████████████████████████████████████████████▎               | 15/20 [00:03<00:01,  4.97it/s]\r",
      " 80%|██████████████████████████████████████████████████▍            | 16/20 [00:03<00:00,  4.97it/s]\r",
      " 85%|█████████████████████████████████████████████████████▌         | 17/20 [00:03<00:00,  4.96it/s]\r",
      " 90%|████████████████████████████████████████████████████████▋      | 18/20 [00:03<00:00,  4.96it/s]\r",
      " 95%|███████████████████████████████████████████████████████████▊   | 19/20 [00:03<00:00,  4.97it/s]\r",
      "100%|███████████████████████████████████████████████████████████████| 20/20 [00:04<00:00,  4.96it/s]\r",
      "100%|███████████████████████████████████████████████████████████████| 20/20 [00:04<00:00,  4.97it/s]\n"
     ]
    }
   ],
   "source": [
    "import time\n",
    "from tqdm import tqdm\n",
    "\n",
    "for i in tqdm(range(20), ncols=100):\n",
    "    time.sleep(0.2)"
   ]
  },
  {
   "cell_type": "markdown",
   "execution_count": null,
   "id": "dfc0850d",
   "metadata": {},
   "outputs": [],
   "source": [
    "And can display colorful ANSI output from command line programs:"
   ]
  },
  {
   "cell_type": "code",
   "execution_count": null,
   "id": "6e2484f6",
   "metadata": {
    "execute": {
     "shell": {
      "execute_reply": "2021-12-17T16:11:07.525129+00:00"
     }
    },
    "iopub": {
     "execute_input": "2021-12-17T16:11:07.375535+00:00",
     "status": {
      "busy": "2021-12-17T16:11:07.374873+00:00",
      "idle": "2021-12-17T16:11:07.526091+00:00"
     }
    }
   },
   "outputs": [
    {
     "name": "stdout",
     "output_type": "stream",
     "text": [
      "total 15756\r\n",
      "\u001b[0m\u001b[38;5;248m-rw-r--r-- 1 josiah josiah      824 Dec 14 15:03 \u001b[m\u001b[00mCHANGELOG.rst\u001b[0m\r\n",
      "\u001b[38;5;248mdrwxr-xr-x 2 josiah josiah     4096 Dec 12 16:41 \u001b[m\u001b[01;34mdist\u001b[0m\r\n",
      "\u001b[38;5;248mdrwxr-xr-x 8 josiah josiah     4096 Dec 17 15:16 \u001b[m\u001b[01;34meuporie\u001b[0m\r\n",
      "\u001b[38;5;248m-rw-r--r-- 2 josiah josiah     1079 May 21  2021 \u001b[m\u001b[00mLICENSE\u001b[0m\r\n",
      "\u001b[38;5;248m-rw-r--r-- 1 josiah    100 15912589 Dec 17 16:11 \u001b[m\u001b[00mlog.log\u001b[0m\r\n",
      "\u001b[38;5;248mdrwxr-xr-x 4 josiah josiah     4096 Jun 30 09:24 \u001b[m\u001b[01;34mmedia\u001b[0m\r\n",
      "\u001b[38;5;248m-rw-r--r-- 1 josiah josiah     4128 Dec  9 17:23 \u001b[m\u001b[00mnoxfile.py\u001b[0m\r\n",
      "\u001b[38;5;248m-rw-r--r-- 1 josiah josiah   135325 Dec 13 15:05 \u001b[m\u001b[00mpoetry.lock\u001b[0m\r\n",
      "\u001b[38;5;248m-rw-r--r-- 1 josiah josiah     4133 Jun 17  2021 \u001b[m\u001b[00mpublish.log\u001b[0m\r\n",
      "\u001b[38;5;248mdrwxr-xr-x 2 josiah josiah     4096 Dec 14 11:09 \u001b[m\u001b[01;34m__pycache__\u001b[0m\r\n",
      "\u001b[38;5;248m-rw-r--r-- 1 josiah josiah     1613 Dec 13 15:05 \u001b[m\u001b[00mpyproject.toml\u001b[0m\r\n",
      "\u001b[38;5;248m-rw-r--r-- 1 josiah    100    13182 Dec 13 15:36 \u001b[m\u001b[00mREADME.md\u001b[0m\r\n",
      "\u001b[38;5;248mdrwxr-xr-x 3 josiah josiah     4096 Dec 14 13:47 \u001b[m\u001b[01;34mscripts\u001b[0m\r\n",
      "\u001b[38;5;248m-rw-r--r-- 1 josiah josiah     1332 Dec 13 16:20 \u001b[m\u001b[00mtest.py\u001b[0m\r\n",
      "\u001b[38;5;248mdrwxr-xr-x 2 josiah josiah     4096 Dec 14 13:47 \u001b[m\u001b[01;34mtests\u001b[0m\r\n",
      "\u001b[38;5;248m-rw-r--r-- 1 josiah josiah     1359 Dec 17 08:52 \u001b[m\u001b[00mTODO.log\u001b[0m\r\n"
     ]
    }
   ],
   "source": [
    "!ls -l --color=always"
   ]
  }
 ],
 "metadata": {
  "kernelspec": {
   "display_name": "Python 3 (ipykernel)",
   "language": "python",
   "name": "python3"
  },
  "language_info": {
   "codemirror_mode": {
    "name": "ipython",
    "version": 3
   },
   "file_extension": ".py",
   "mimetype": "text/x-python",
   "name": "python",
   "nbconvert_exporter": "python",
   "pygments_lexer": "ipython3",
   "version": "3.10.1"
  }
 },
 "nbformat": 4,
 "nbformat_minor": 5
}
