{
 "cells": [
  {
   "cell_type": "markdown",
   "id": "33c6cb91",
   "metadata": {
    "execute": {
     "shell": {
      "execute_reply": "2021-12-17T08:24:16.474532+00:00"
     }
    },
    "iopub": {
     "execute_input": "2021-12-17T08:24:16.436450+00:00",
     "status": {
      "busy": "2021-12-17T08:24:16.435832+00:00",
      "idle": "2021-12-17T08:24:16.475079+00:00"
     }
    }
   },
   "source": [
    "# euporie\n",
    "\n",
    "Welcome to this demo of `euporie`, a terminal based interactive development environment for Jupyter notebooks.\n",
    "\n",
    "- Use the arrow keys or the mouse to navigate between cells\n",
    "- Use `[` and `]` (or the mouse wheel) to scroll up and down\n",
    "- Press `Enter` to edit a cell\n",
    "- Press `Esc Esc` to stop editing a cell\n",
    "- Press `Ctrl+e` to execute or render a cell, or `Ctrl+r` to run a cell and select the next cel\n",
    "\n",
    "---"
   ]
  },
  {
   "cell_type": "markdown",
   "id": "ce4eccd0",
   "metadata": {},
   "source": [
    "## Markdown\n",
    "\n",
    "`euporie` will render the _markdown cells_ in your notebook:\n",
    "\n",
    "> - This includes rendering blocks, list, and inline styles\n",
    "> - *Like* **this**"
   ]
  },
  {
   "cell_type": "markdown",
   "id": "c44fe2a8",
   "metadata": {},
   "source": [
    "This also includes rendering tables:\n",
    "\n",
    "\n",
    "| Item       | Can `euporie` display it? |\n",
    "|-----------:|:--------------------------|\n",
    "| **Markdown** | Yes\n",
    "| **Tables** | Yes\n",
    "| **LaTeX**  | Yes"
   ]
  },
  {
   "cell_type": "markdown",
   "id": "f48ff2a5",
   "metadata": {},
   "source": [
    "It can also render LaTex maths equations in markdown cells:\n",
    "\n",
    "$$\n",
    "s = ut + \\frac{1}{2} a t^2\n",
    "$$\n",
    "\n",
    "$$\n",
    "x =\\frac{-b \\pm \\sqrt{\\frac{1}{2} a b^2}}{2a}\n",
    "$$\n",
    "\n",
    "$$\n",
    "f(s) = \\sum_{i = 0}^{\\infty} \\frac{f^{(i)}(0)}{i!} x^i\n",
    "$$"
   ]
  },
  {
   "cell_type": "markdown",
   "id": "dbbd1fdd",
   "metadata": {},
   "source": [
    "## Cell Output\n",
    "\n",
    "`euporie` also renders rich cell output, including Markdown, HTML, and images. This means you can use libraries like `pandas`, and display dataframes as you would expect:"
   ]
  },
  {
   "cell_type": "code",
   "execution_count": 1,
   "id": "bac4fa8d",
   "metadata": {
    "execute": {
     "shell": {
      "execute_reply": "2022-01-14T09:39:53.281258+00:00"
     }
    },
    "iopub": {
     "execute_input": "2022-01-14T09:39:53.251998+00:00",
     "status": {
      "busy": "2022-01-14T09:39:53.251431+00:00",
      "idle": "2022-01-14T09:39:53.282007+00:00"
     }
    }
   },
   "outputs": [
    {
     "data": {
      "text/markdown": [
       "Regular *Italic* **Bold**"
      ]
     },
     "metadata": {},
     "output_type": "display_data"
    }
   ],
   "source": [
    "from IPython.display import *\n",
    "\n",
    "display({\"text/markdown\": \"Regular *Italic* **Bold**\"}, raw=True)"
   ]
  },
  {
   "cell_type": "code",
   "execution_count": 2,
   "id": "912b196a",
   "metadata": {
    "execute": {
     "shell": {
      "execute_reply": "2022-01-14T09:39:54.339189+00:00"
     }
    },
    "iopub": {
     "execute_input": "2022-01-14T09:39:53.889254+00:00",
     "status": {
      "busy": "2022-01-14T09:39:53.888530+00:00",
      "idle": "2022-01-14T09:39:54.342936+00:00"
     }
    }
   },
   "outputs": [
    {
     "data": {
      "image/png": "[encoded data removed]",
      "text/plain": [
       "<IPython.core.display.Image object>"
      ]
     },
     "execution_count": 2,
     "metadata": {},
     "output_type": "execute_result"
    }
   ],
   "source": [
    "import urllib.request\n",
    "data = urllib.request.urlopen(\"https://www.python.org/static/img/python-logo.png\").read()\n",
    "Image(data)"
   ]
  },
  {
   "cell_type": "markdown",
   "id": "43a7ed60",
   "metadata": {},
   "source": [
    "This means you can use libraries like `pandas`, and display dataframes as you would expect:"
   ]
  },
  {
   "cell_type": "code",
   "execution_count": 2,
   "id": "5dc84d78",
   "metadata": {
    "execute": {
     "shell": {
      "execute_reply": "2022-01-20T16:55:17.016562+00:00"
     }
    },
    "iopub": {
     "execute_input": "2022-01-20T16:55:16.379869+00:00",
     "status": {
      "busy": "2022-01-20T16:55:16.379374+00:00",
      "idle": "2022-01-20T16:55:17.017399+00:00"
     }
    }
   },
   "outputs": [
    {
     "data": {
      "text/html": [
       "<div>\n",
       "<style scoped>\n",
       "    .dataframe tbody tr th:only-of-type {\n",
       "        vertical-align: middle;\n",
       "    }\n",
       "\n",
       "    .dataframe tbody tr th {\n",
       "        vertical-align: top;\n",
       "    }\n",
       "\n",
       "    .dataframe thead th {\n",
       "        text-align: right;\n",
       "    }\n",
       "</style>\n",
       "<table border=\"1\" class=\"dataframe\">\n",
       "  <thead>\n",
       "    <tr style=\"text-align: right;\">\n",
       "      <th></th>\n",
       "      <th>a</th>\n",
       "      <th>b</th>\n",
       "      <th>c</th>\n",
       "      <th>d</th>\n",
       "    </tr>\n",
       "  </thead>\n",
       "  <tbody>\n",
       "    <tr>\n",
       "      <th>0</th>\n",
       "      <td>0.269840</td>\n",
       "      <td>0.492687</td>\n",
       "      <td>0.516047</td>\n",
       "      <td>0.519997</td>\n",
       "    </tr>\n",
       "    <tr>\n",
       "      <th>1</th>\n",
       "      <td>0.328014</td>\n",
       "      <td>0.335162</td>\n",
       "      <td>0.756093</td>\n",
       "      <td>0.845504</td>\n",
       "    </tr>\n",
       "    <tr>\n",
       "      <th>2</th>\n",
       "      <td>0.081086</td>\n",
       "      <td>0.703908</td>\n",
       "      <td>0.347426</td>\n",
       "      <td>0.777820</td>\n",
       "    </tr>\n",
       "    <tr>\n",
       "      <th>3</th>\n",
       "      <td>0.101227</td>\n",
       "      <td>0.397597</td>\n",
       "      <td>0.686828</td>\n",
       "      <td>0.764267</td>\n",
       "    </tr>\n",
       "    <tr>\n",
       "      <th>4</th>\n",
       "      <td>0.066236</td>\n",
       "      <td>0.883462</td>\n",
       "      <td>0.641823</td>\n",
       "      <td>0.554576</td>\n",
       "    </tr>\n",
       "  </tbody>\n",
       "</table>\n",
       "</div>"
      ],
      "text/plain": [
       "          a         b         c         d\n",
       "0  0.269840  0.492687  0.516047  0.519997\n",
       "1  0.328014  0.335162  0.756093  0.845504\n",
       "2  0.081086  0.703908  0.347426  0.777820\n",
       "3  0.101227  0.397597  0.686828  0.764267\n",
       "4  0.066236  0.883462  0.641823  0.554576"
      ]
     },
     "execution_count": 2,
     "metadata": {},
     "output_type": "execute_result"
    }
   ],
   "source": [
    "import pandas as pd\n",
    "import numpy as np\n",
    "\n",
    "x = np.arange(20_000)\n",
    "\n",
    "df = pd.DataFrame(\n",
    "    {\n",
    "        col: np.random.beta(i+1, 3, x.shape)\n",
    "        for col, i in zip(\"abcd\", [0, 2, 4, 6])\n",
    "    },\n",
    "    index = x,\n",
    ")\n",
    "df.head()"
   ]
  },
  {
   "cell_type": "markdown",
   "id": "10690823",
   "metadata": {},
   "source": [
    "`euporie` can render images using Sixel graphics if your terminal supports it. Otherwise it will fall back to using character-based terminal graphics.\n",
    "\n",
    "This means you can produce plots with `matplotlib` and `euporie` will display them in the best way it can:"
   ]
  },
  {
   "cell_type": "code",
   "execution_count": 3,
   "id": "2017c662",
   "metadata": {
    "execute": {
     "shell": {
      "execute_reply": "2022-01-20T16:55:19.273663+00:00"
     }
    },
    "iopub": {
     "execute_input": "2022-01-20T16:55:18.241780+00:00",
     "status": {
      "busy": "2022-01-20T16:55:18.241475+00:00",
      "idle": "2022-01-20T16:55:19.274328+00:00"
     }
    }
   },
   "outputs": [
    {
     "data": {
      "image/png": "[encoded data removed]",
      "text/plain": [
       "<Figure size 1080x288 with 1 Axes>"
      ]
     },
     "metadata": {},
     "output_type": "display_data"
    }
   ],
   "source": [
    "from matplotlib import pyplot as plt\n",
    "\n",
    "fig, ax = plt.subplots(figsize=(15, 4), facecolor=\"#FFF\")\n",
    "df.plot.hist(ax=ax, bins=80, alpha=0.75)\n",
    "plt.show()"
   ]
  },
  {
   "cell_type": "markdown",
   "id": "f85075bd",
   "metadata": {},
   "source": [
    "If your terminal does not support graphics, the excellent `plotext` library works very well with euporie:"
   ]
  },
  {
   "cell_type": "code",
   "execution_count": 5,
   "id": "a36015d6",
   "metadata": {
    "execute": {
     "shell": {
      "execute_reply": "2022-01-14T09:40:00.794359+00:00"
     }
    },
    "iopub": {
     "execute_input": "2022-01-14T09:40:00.540491+00:00",
     "status": {
      "busy": "2022-01-14T09:40:00.540179+00:00",
      "idle": "2022-01-14T09:40:00.795182+00:00"
     }
    }
   },
   "outputs": [
    {
     "name": "stdout",
     "output_type": "stream",
     "text": [
      "\u001b[107m\u001b[30m                                  Histogram Plot                                \u001b[0m\n",
      "\u001b[107m\u001b[30m     ┌─────────────────────────────────────────────────────────────────────────┐\u001b[0m\n",
      "\u001b[107m\u001b[30m733.0┤\u001b[0m\u001b[107m \u001b[0m\u001b[107m\u001b[94m▖▖▖\u001b[0m\u001b[107m\u001b[30m a \u001b[0m\u001b[107m                                                                  \u001b[0m\u001b[107m\u001b[30m│\u001b[0m\n",
      "\u001b[107m\u001b[30m     │\u001b[0m\u001b[107m \u001b[0m\u001b[107m\u001b[92m▖▖▖\u001b[0m\u001b[107m\u001b[30m b \u001b[0m\u001b[107m\u001b[94m▖\u001b[0m\u001b[107m                                             \u001b[0m\u001b[107m\u001b[96m▗▖█▙▄\u001b[0m\u001b[107m               \u001b[0m\u001b[107m\u001b[30m│\u001b[0m\n",
      "\u001b[107m\u001b[30m610.8┤\u001b[0m\u001b[107m \u001b[0m\u001b[107m\u001b[91m▖▖▖\u001b[0m\u001b[107m\u001b[30m c \u001b[0m\u001b[107m\u001b[94m█▙▖\u001b[0m\u001b[107m                                     \u001b[0m\u001b[107m\u001b[91m▗▖\u001b[0m\u001b[107m\u001b[96m▄▄█▙███████\u001b[0m\u001b[107m             \u001b[0m\u001b[107m\u001b[30m│\u001b[0m\n",
      "\u001b[107m\u001b[30m488.7┤\u001b[0m\u001b[107m \u001b[0m\u001b[107m\u001b[96m▖▖▖\u001b[0m\u001b[107m\u001b[30m d \u001b[0m\u001b[107m\u001b[94m████▟█▄▖\u001b[0m\u001b[107m                  \u001b[0m\u001b[107m\u001b[92m▄▖\u001b[0m\u001b[107m \u001b[0m\u001b[107m\u001b[92m▄▗▄▖\u001b[0m\u001b[107m \u001b[0m\u001b[107m\u001b[91m▗▖▄██\u001b[0m\u001b[107m\u001b[96m████████████████▌\u001b[0m\u001b[107m          \u001b[0m\u001b[107m\u001b[30m│\u001b[0m\n",
      "\u001b[107m\u001b[30m     │       \u001b[0m\u001b[107m\u001b[94m██████████▙▄▄\u001b[0m\u001b[107m     \u001b[0m\u001b[107m\u001b[92m▄▄▖▄▄▟▌▐█████\u001b[0m\u001b[107m\u001b[91m██████\u001b[0m\u001b[107m\u001b[96m███████████████████▙\u001b[0m\u001b[107m         \u001b[0m\u001b[107m\u001b[30m│\u001b[0m\n",
      "\u001b[107m\u001b[30m366.5┤\u001b[0m\u001b[107m\u001b[94m█████████████████████\u001b[0m\u001b[107m\u001b[92m▐█▄▄█████████\u001b[0m\u001b[107m\u001b[91m███████\u001b[0m\u001b[107m\u001b[96m████████████████████████▄\u001b[0m\u001b[107m       \u001b[0m\u001b[107m\u001b[30m│\u001b[0m\n",
      "\u001b[107m\u001b[30m     │\u001b[0m\u001b[107m\u001b[94m████████████████████\u001b[0m\u001b[107m\u001b[92m████████████\u001b[0m\u001b[107m\u001b[91m██████\u001b[0m\u001b[107m\u001b[96m████████████████████████████▄▖\u001b[0m\u001b[107m     \u001b[0m\u001b[107m\u001b[30m│\u001b[0m\n",
      "\u001b[107m\u001b[30m244.3┤\u001b[0m\u001b[107m\u001b[94m██████████████\u001b[0m\u001b[107m\u001b[92m██████████████\u001b[0m\u001b[107m\u001b[91m███████\u001b[0m\u001b[107m\u001b[96m█████████████████████████████████\u001b[0m\u001b[107m     \u001b[0m\u001b[107m\u001b[30m│\u001b[0m\n",
      "\u001b[107m\u001b[30m122.2┤\u001b[0m\u001b[107m\u001b[94m██████████\u001b[0m\u001b[107m\u001b[92m█████████████\u001b[0m\u001b[107m\u001b[91m█████████\u001b[0m\u001b[107m\u001b[96m█████████████████████████████████████\u001b[0m\u001b[107m    \u001b[0m\u001b[107m\u001b[30m│\u001b[0m\n",
      "\u001b[107m\u001b[30m     │\u001b[0m\u001b[107m\u001b[94m██████\u001b[0m\u001b[107m\u001b[92m██████████\u001b[0m\u001b[107m\u001b[91m██████████\u001b[0m\u001b[107m\u001b[96m████████████████████████████████████████████▙▖\u001b[0m\u001b[107m \u001b[0m\u001b[107m\u001b[30m│\u001b[0m\n",
      "\u001b[107m\u001b[30m  0.0┤\u001b[0m\u001b[107m\u001b[94m█\u001b[0m\u001b[107m\u001b[92m████\u001b[0m\u001b[107m\u001b[91m████\u001b[0m\u001b[107m\u001b[96m████████████████████████████████████████████████████████████████\u001b[0m\u001b[107m\u001b[30m│\u001b[0m\n",
      "\u001b[107m\u001b[30m     └┬─────────────────┬─────────────────┬─────────────────┬─────────────────┬┘\u001b[0m\n",
      "\u001b[107m\u001b[30m      0.00            0.25              0.50              0.75             1.00 \u001b[0m\u001b[0m\n"
     ]
    }
   ],
   "source": [
    "import plotext as plt\n",
    "\n",
    "plt.clear_figure()\n",
    "plt.plot_size(100, 15)\n",
    "for name, col in df.items():\n",
    "    plt.hist(col.values, 80, label=name)\n",
    "plt.title(\"Histogram Plot\")\n",
    "plt.show()"
   ]
  },
  {
   "cell_type": "markdown",
   "id": "3adda7cd",
   "metadata": {},
   "source": [
    "It can also display SVG output:"
   ]
  },
  {
   "cell_type": "code",
   "execution_count": 6,
   "id": "02fe9798",
   "metadata": {
    "execute": {
     "shell": {
      "execute_reply": "2022-01-20T17:26:12.797255+00:00"
     }
    },
    "iopub": {
     "execute_input": "2022-01-20T17:26:12.790728+00:00",
     "status": {
      "busy": "2022-01-20T17:26:12.790154+00:00",
      "idle": "2022-01-20T17:26:12.798163+00:00"
     }
    }
   },
   "outputs": [
    {
     "data": {
      "image/svg+xml": [
       "<svg width=\"200\" height=\"200\"><polygon points=\"100,10 40,180 190,60 10,60 160,180\" fill=\"blue\"/></svg>"
      ],
      "text/plain": [
       "<IPython.core.display.SVG object>"
      ]
     },
     "execution_count": 6,
     "metadata": {},
     "output_type": "execute_result"
    }
   ],
   "source": [
    "from IPython.display import SVG\n",
    "SVG('<svg width=\"200\" height=\"200\"><polygon points=\"100,10 40,180 190,60 10,60 160,180\" fill=\"blue\" /></svg>')"
   ]
  },
  {
   "cell_type": "markdown",
   "id": "2c5ea8bf",
   "metadata": {},
   "source": [
    "`euoporie` can response to requests for user input from the kernel (press enter to send your input):"
   ]
  },
  {
   "cell_type": "code",
   "execution_count": 6,
   "id": "e7ba2b1c",
   "metadata": {
    "execute": {
     "shell": {
      "execute_reply": "2022-01-14T09:40:04.886149+00:00"
     }
    },
    "iopub": {
     "execute_input": "2022-01-14T09:40:02.731529+00:00",
     "status": {
      "busy": "2022-01-14T09:40:02.731151+00:00",
      "idle": "2022-01-14T09:40:04.887174+00:00"
     }
    }
   },
   "outputs": [
    {
     "name": "stdout",
     "output_type": "stream",
     "text": [
      "Hello Josiah\n"
     ]
    }
   ],
   "source": [
    "name = input(\"Enter your name:\")\n",
    "print(f\"Hello {name}\")"
   ]
  },
  {
   "cell_type": "markdown",
   "id": "930e6d01",
   "metadata": {},
   "source": [
    "`euporie` works with `tqdm`, so you can display progress-bars in your notebooks:"
   ]
  },
  {
   "cell_type": "code",
   "execution_count": 7,
   "id": "647ba74c",
   "metadata": {
    "execute": {
     "shell": {
      "execute_reply": "2022-01-14T09:40:11.275208+00:00"
     }
    },
    "iopub": {
     "execute_input": "2022-01-14T09:40:07.217359+00:00",
     "status": {
      "busy": "2022-01-14T09:40:07.216721+00:00",
      "idle": "2022-01-14T09:40:11.277298+00:00"
     }
    }
   },
   "outputs": [
    {
     "name": "stderr",
     "output_type": "stream",
     "text": [
      "100%|███████████████████████████████████████████████████████████████| 20/20 [00:04<00:00,  4.97it/s]\n"
     ]
    }
   ],
   "source": [
    "import time\n",
    "from tqdm import tqdm\n",
    "\n",
    "for i in tqdm(range(20), ncols=100):\n",
    "    time.sleep(0.2)"
   ]
  },
  {
   "cell_type": "markdown",
   "id": "dfc0850d",
   "metadata": {},
   "source": [
    "And can display colorful ANSI output from command line programs:"
   ]
  },
  {
   "cell_type": "code",
   "execution_count": 8,
   "id": "6e2484f6",
   "metadata": {
    "execute": {
     "shell": {
      "execute_reply": "2022-01-14T09:40:15.608005+00:00"
     }
    },
    "iopub": {
     "execute_input": "2022-01-14T09:40:15.436956+00:00",
     "status": {
      "busy": "2022-01-14T09:40:15.436020+00:00",
      "idle": "2022-01-14T09:40:15.609089+00:00"
     }
    }
   },
   "outputs": [
    {
     "name": "stdout",
     "output_type": "stream",
     "text": [
      "\u001b[1;34md\u001b[0m\u001b[32mr\u001b[33mw\u001b[31mx\u001b[32mr\u001b[38;5;245m-\u001b[31mx\u001b[32mr\u001b[38;5;245m-\u001b[31mx\u001b[0m \u001b[38;5;230mjosiah\u001b[0m \u001b[38;5;187mjosiah\u001b[0m \u001b[38;5;229m4.0\u001b[0m \u001b[38;5;229mKB\u001b[0m \u001b[38;5;36mMon Jan 10 14:57:41 2022\u001b[0m \u001b[1;34m __pycache__\u001b[0m\n",
      ".\u001b[32mr\u001b[33mw\u001b[38;5;245m-\u001b[32mr\u001b[38;5;245m--\u001b[32mr\u001b[38;5;245m--\u001b[0m \u001b[38;5;230mjosiah\u001b[0m \u001b[38;5;187mjosiah\u001b[0m \u001b[38;5;229m1.3\u001b[0m \u001b[38;5;229mKB\u001b[0m \u001b[38;5;42mFri Jan 14 08:39:07 2022\u001b[0m  CHANGELOG.rst\n",
      "\u001b[1;34md\u001b[0m\u001b[32mr\u001b[33mw\u001b[31mx\u001b[32mr\u001b[38;5;245m-\u001b[31mx\u001b[32mr\u001b[38;5;245m-\u001b[31mx\u001b[0m \u001b[38;5;230mjosiah\u001b[0m \u001b[38;5;187mjosiah\u001b[0m \u001b[38;5;229m4.0\u001b[0m \u001b[38;5;229mKB\u001b[0m \u001b[38;5;42mFri Jan 14 08:29:30 2022\u001b[0m \u001b[1;34m dist\u001b[0m\n",
      "\u001b[1;34md\u001b[0m\u001b[32mr\u001b[33mw\u001b[31mx\u001b[32mr\u001b[38;5;245m-\u001b[31mx\u001b[32mr\u001b[38;5;245m-\u001b[31mx\u001b[0m \u001b[38;5;230mjosiah\u001b[0m \u001b[38;5;187mjosiah\u001b[0m \u001b[38;5;229m4.0\u001b[0m \u001b[38;5;229mKB\u001b[0m \u001b[38;5;40mFri Jan 14 08:57:41 2022\u001b[0m \u001b[1;34m euporie\u001b[0m\n",
      ".\u001b[32mr\u001b[33mw\u001b[38;5;245m-\u001b[32mr\u001b[38;5;245m--\u001b[32mr\u001b[38;5;245m--\u001b[0m \u001b[38;5;230mjosiah\u001b[0m \u001b[38;5;187mjosiah\u001b[0m \u001b[38;5;229m1.1\u001b[0m \u001b[38;5;229mKB\u001b[0m \u001b[38;5;36mFri May 21 07:59:37 2021\u001b[0m  LICENSE\n",
      ".\u001b[32mr\u001b[33mw\u001b[38;5;245m-\u001b[32mr\u001b[38;5;245m--\u001b[32mr\u001b[38;5;245m--\u001b[0m \u001b[38;5;230mjosiah\u001b[0m \u001b[38;5;187mjosiah\u001b[0m  \u001b[38;5;216m64\u001b[0m \u001b[38;5;216mMB\u001b[0m \u001b[38;5;40mFri Jan 14 09:40:15 2022\u001b[0m  log.log\n",
      "\u001b[1;34md\u001b[0m\u001b[32mr\u001b[33mw\u001b[31mx\u001b[32mr\u001b[38;5;245m-\u001b[31mx\u001b[32mr\u001b[38;5;245m-\u001b[31mx\u001b[0m \u001b[38;5;230mjosiah\u001b[0m \u001b[38;5;187mjosiah\u001b[0m \u001b[38;5;229m4.0\u001b[0m \u001b[38;5;229mKB\u001b[0m \u001b[38;5;36mWed Jun 30 09:24:27 2021\u001b[0m \u001b[1;34m media\u001b[0m\n",
      ".\u001b[32mr\u001b[33mw\u001b[38;5;245m-\u001b[32mr\u001b[38;5;245m--\u001b[32mr\u001b[38;5;245m--\u001b[0m \u001b[38;5;230mjosiah\u001b[0m \u001b[38;5;187mjosiah\u001b[0m \u001b[38;5;229m4.0\u001b[0m \u001b[38;5;229mKB\u001b[0m \u001b[38;5;36mWed Jan  5 17:12:18 2022\u001b[0m  noxfile.py\n",
      ".\u001b[32mr\u001b[33mw\u001b[38;5;245m-\u001b[32mr\u001b[38;5;245m--\u001b[32mr\u001b[38;5;245m--\u001b[0m \u001b[38;5;230mjosiah\u001b[0m \u001b[38;5;187mjosiah\u001b[0m \u001b[38;5;229m144\u001b[0m \u001b[38;5;229mKB\u001b[0m \u001b[38;5;42mFri Jan 14 08:39:07 2022\u001b[0m  poetry.lock\n",
      ".\u001b[32mr\u001b[33mw\u001b[38;5;245m-\u001b[32mr\u001b[38;5;245m--\u001b[32mr\u001b[38;5;245m--\u001b[0m \u001b[38;5;230mjosiah\u001b[0m \u001b[38;5;187mjosiah\u001b[0m \u001b[38;5;229m4.0\u001b[0m \u001b[38;5;229mKB\u001b[0m \u001b[38;5;36mThu Jun 17 21:30:37 2021\u001b[0m  publish.log\n",
      ".\u001b[32mr\u001b[33mw\u001b[38;5;245m-\u001b[32mr\u001b[38;5;245m--\u001b[32mr\u001b[38;5;245m--\u001b[0m \u001b[38;5;230mjosiah\u001b[0m \u001b[38;5;187mjosiah\u001b[0m \u001b[38;5;229m1.6\u001b[0m \u001b[38;5;229mKB\u001b[0m \u001b[38;5;42mFri Jan 14 08:39:07 2022\u001b[0m  pyproject.toml\n",
      ".\u001b[32mr\u001b[33mw\u001b[38;5;245m-\u001b[32mr\u001b[38;5;245m--\u001b[32mr\u001b[38;5;245m--\u001b[0m \u001b[38;5;230mjosiah\u001b[0m \u001b[38;5;187mjosiah\u001b[0m  \u001b[38;5;229m13\u001b[0m \u001b[38;5;229mKB\u001b[0m \u001b[38;5;36mThu Jan  6 10:26:20 2022\u001b[0m  README.md\n",
      "\u001b[1;34md\u001b[0m\u001b[32mr\u001b[33mw\u001b[31mx\u001b[32mr\u001b[38;5;245m-\u001b[31mx\u001b[32mr\u001b[38;5;245m-\u001b[31mx\u001b[0m \u001b[38;5;230mjosiah\u001b[0m \u001b[38;5;187mjosiah\u001b[0m \u001b[38;5;229m4.0\u001b[0m \u001b[38;5;229mKB\u001b[0m \u001b[38;5;42mThu Jan 13 17:47:55 2022\u001b[0m \u001b[1;34m scripts\u001b[0m\n",
      "\u001b[1;34md\u001b[0m\u001b[32mr\u001b[33mw\u001b[31mx\u001b[32mr\u001b[38;5;245m-\u001b[31mx\u001b[32mr\u001b[38;5;245m-\u001b[31mx\u001b[0m \u001b[38;5;230mjosiah\u001b[0m \u001b[38;5;187mjosiah\u001b[0m \u001b[38;5;229m4.0\u001b[0m \u001b[38;5;229mKB\u001b[0m \u001b[38;5;42mThu Jan 13 17:47:55 2022\u001b[0m \u001b[1;34m tests\u001b[0m\n",
      ".\u001b[32mr\u001b[33mw\u001b[38;5;245m-\u001b[32mr\u001b[38;5;245m--\u001b[32mr\u001b[38;5;245m--\u001b[0m \u001b[38;5;230mjosiah\u001b[0m \u001b[38;5;187mjosiah\u001b[0m \u001b[38;5;229m2.9\u001b[0m \u001b[38;5;229mKB\u001b[0m \u001b[38;5;40mFri Jan 14 09:29:11 2022\u001b[0m  TODO.log\n"
     ]
    }
   ],
   "source": [
    "!ls -l --color=always"
   ]
  }
 ],
 "metadata": {
  "kernelspec": {
   "display_name": "Python 3 (ipykernel)",
   "language": "python",
   "name": "python3"
  },
  "language_info": {
   "codemirror_mode": {
    "name": "ipython",
    "version": 3
   },
   "file_extension": ".py",
   "mimetype": "text/x-python",
   "name": "python",
   "nbconvert_exporter": "python",
   "pygments_lexer": "ipython3",
   "version": "3.10.1"
  }
 },
 "nbformat": 4,
 "nbformat_minor": 5
}
