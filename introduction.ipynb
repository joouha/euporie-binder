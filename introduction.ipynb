{
 "cells": [
  {
   "cell_type": "markdown",
   "execution_count": 2,
   "id": "33c6cb91",
   "metadata": {
    "execute": {
     "shell": {
      "execute_reply": "2022-02-03T11:12:36.270550+00:00"
     }
    },
    "iopub": {
     "execute_input": "2022-02-03T11:12:36.263550+00:00",
     "status": {
      "busy": "2022-02-03T11:12:36.263144+00:00",
      "idle": "2021-12-17T08:24:16.475079+00:00"
     }
    }
   },
   "source": [
    "# euporie\n",
    "\n",
    "Welcome to `euporie`, a terminal based interactive development environment for Jupyter notebooks.\n",
    "\n",
    "- Use `Up` and `Down` to navigate, `Enter` to edit a cell, and `Esc` to stop editing a cell\n",
    "- Use `Ctrl+e` to execute or render a cell, or `Ctrl+r` to run a cell and select the next cell\n",
    "- You can view all keyboard shortcuts in the `Help` menu\n",
    "- The online documentation is available at [https://euporie.readthedocs.io](https://euporie.readthedocs.io)\n",
    "---"
   ]
  },
  {
   "cell_type": "markdown",
   "id": "1e737449",
   "metadata": {},
   "source": [
    "## Markdown Cells\n",
    "\n",
    "`euporie` will render markdown cells in notebooks, including elements such as:\n",
    "\n",
    "> Quote blocks\n",
    "\n",
    "1. Ordered lists\n",
    "    - Unordered lists\n",
    "    - (Another list item)\n",
    "2. **Bold**, *Italic*, ~~strikethrough~~, `code`\n",
    "\n",
    "```python\n",
    "def code_blocks():\n",
    "    return True\n",
    "```\n",
    "\n",
    "| Tables       | *with* | ~~formatting~~ |\n",
    "|-------------:|:------:|:---------------|\n",
    "| **and**      | cell   | alignment      |\n",
    "\n",
    "Inline maths: $x =\\frac{-b \\pm \\sqrt{\\frac{1}{2} a b^2}}{2a}$ and maths blocks:\n",
    "\n",
    "$$\n",
    "f = \\sum_{i = 0}^{\\infty} \\frac{f^{(i)}(0)}{i!} x^i\n",
    "$$\n",
    "\n",
    "Links: [https://euporie.readthedocs.io](https://euporie.readthedocs.io)\n",
    "\n",
    "Inline images ![](https://user-images.githubusercontent.com/12154190/160242688-440c67ca-fdba-4ca4-a941-a35e200f9813.svg) in paragraphs.\n",
    "\n",
    "---"
   ]
  },
  {
   "cell_type": "markdown",
   "id": "39eae66d",
   "metadata": {},
   "source": [
    "## Cell Output\n",
    "\n",
    "`Euporie` will also render the output of code cells.\n",
    "\n",
    "This includes displaying Markdown, LaTeX, Images, HTML, SVG, JSON, and ANSI text:"
   ]
  },
  {
   "cell_type": "code",
   "execution_count": 1,
   "id": "aa1d9c37",
   "metadata": {
    "execute": {
     "shell": {
      "execute_reply": "2022-02-16T11:08:19.149766+00:00"
     }
    },
    "iopub": {
     "execute_input": "2022-02-16T11:08:19.137229+00:00",
     "status": {
      "busy": "2022-02-16T11:08:19.135967+00:00",
      "idle": "2022-02-16T11:08:19.150514+00:00"
     }
    }
   },
   "outputs": [],
   "source": [
    "display({\"text/html\": \"<b>Bold</b> <u>Underlined</u> <i>Italic</i>\"}, raw=True)"
   ]
  },
  {
   "cell_type": "code",
   "execution_count": 2,
   "id": "583a8b24",
   "metadata": {
    "execute": {
     "shell": {
      "execute_reply": "2022-02-16T11:08:19.156306+00:00"
     }
    },
    "iopub": {
     "execute_input": "2022-02-16T11:08:19.152478+00:00",
     "status": {
      "busy": "2022-02-16T11:08:19.152175+00:00",
      "idle": "2022-02-16T11:08:19.156885+00:00"
     }
    }
   },
   "outputs": [
    {
     "data": {
      "text/latex": [
       "$x =\\frac{-b \\pm \\sqrt{\\frac{1}{2} a b^2}}{2a}$"
      ]
     },
     "metadata": {},
     "output_type": "display_data"
    }
   ],
   "source": [
    "display({\"text/latex\": r\"$x =\\frac{-b \\pm \\sqrt{\\frac{1}{2} a b^2}}{2a}$\"}, raw=True)"
   ]
  },
  {
   "cell_type": "code",
   "execution_count": 3,
   "id": "97e10f0f",
   "metadata": {
    "execute": {
     "shell": {
      "execute_reply": "2022-02-16T11:08:19.526395+00:00"
     }
    },
    "iopub": {
     "execute_input": "2022-02-16T11:08:19.157955+00:00",
     "status": {
      "busy": "2022-02-16T11:08:19.157765+00:00",
      "idle": "2022-02-16T11:08:19.527257+00:00"
     }
    }
   },
   "outputs": [
    {
     "data": {
      "image/png": "[encoded data removed]",
      "text/plain": [
       "<IPython.core.display.Image object>"
      ]
     },
     "execution_count": 3,
     "metadata": {},
     "output_type": "execute_result"
    }
   ],
   "source": [
    "from IPython.display import *\n",
    "import urllib.request\n",
    "data = urllib.request.urlopen(\"https://www.python.org/static/img/python-logo.png\").read()\n",
    "Image(data)"
   ]
  },
  {
   "cell_type": "markdown",
   "execution_count": null,
   "id": "43a7ed60",
   "metadata": {
    "execute": {
     "shell": {
      "execute_reply": "2022-02-03T11:12:36.282953+00:00"
     }
    },
    "iopub": {
     "status": {
      "busy": "2022-02-03T11:12:36.282693+00:00",
      "idle": "2022-02-03T11:12:36.283084+00:00"
     }
    }
   },
   "source": [
    "This means you can use libraries like `pandas`, and display dataframes as you would expect:"
   ]
  },
  {
   "cell_type": "code",
   "execution_count": 4,
   "id": "5dc84d78",
   "metadata": {
    "execute": {
     "shell": {
      "execute_reply": "2022-02-16T11:08:20.296522+00:00"
     }
    },
    "iopub": {
     "execute_input": "2022-02-16T11:08:19.528869+00:00",
     "status": {
      "busy": "2022-02-16T11:08:19.528528+00:00",
      "idle": "2022-02-16T11:08:20.297331+00:00"
     }
    }
   },
   "outputs": [
    {
     "data": {
      "text/html": [
       "<style type=\"text/css\">\n",
       "#T_bc098_row0_col0, #T_bc098_row2_col1, #T_bc098_row4_col3, #T_bc098_row5_col1, #T_bc098_row10_col2 {\n",
       "  background-color: #fde725;\n",
       "  color: #000000;\n",
       "}\n",
       "#T_bc098_row0_col1 {\n",
       "  background-color: #2c718e;\n",
       "  color: #f1f1f1;\n",
       "}\n",
       "#T_bc098_row0_col2 {\n",
       "  background-color: #287c8e;\n",
       "  color: #f1f1f1;\n",
       "}\n",
       "#T_bc098_row0_col3 {\n",
       "  background-color: #60ca60;\n",
       "  color: #000000;\n",
       "}\n",
       "#T_bc098_row1_col0, #T_bc098_row3_col2 {\n",
       "  background-color: #23888e;\n",
       "  color: #f1f1f1;\n",
       "}\n",
       "#T_bc098_row1_col1 {\n",
       "  background-color: #228b8d;\n",
       "  color: #f1f1f1;\n",
       "}\n",
       "#T_bc098_row1_col2 {\n",
       "  background-color: #3dbc74;\n",
       "  color: #f1f1f1;\n",
       "}\n",
       "#T_bc098_row1_col3 {\n",
       "  background-color: #21a685;\n",
       "  color: #f1f1f1;\n",
       "}\n",
       "#T_bc098_row2_col0 {\n",
       "  background-color: #306a8e;\n",
       "  color: #f1f1f1;\n",
       "}\n",
       "#T_bc098_row2_col2 {\n",
       "  background-color: #24aa83;\n",
       "  color: #f1f1f1;\n",
       "}\n",
       "#T_bc098_row2_col3 {\n",
       "  background-color: #3e4a89;\n",
       "  color: #f1f1f1;\n",
       "}\n",
       "#T_bc098_row3_col0 {\n",
       "  background-color: #b5de2b;\n",
       "  color: #000000;\n",
       "}\n",
       "#T_bc098_row3_col1 {\n",
       "  background-color: #b8de29;\n",
       "  color: #000000;\n",
       "}\n",
       "#T_bc098_row3_col3 {\n",
       "  background-color: #5cc863;\n",
       "  color: #000000;\n",
       "}\n",
       "#T_bc098_row4_col0 {\n",
       "  background-color: #424086;\n",
       "  color: #f1f1f1;\n",
       "}\n",
       "#T_bc098_row4_col1 {\n",
       "  background-color: #482475;\n",
       "  color: #f1f1f1;\n",
       "}\n",
       "#T_bc098_row4_col2, #T_bc098_row12_col3 {\n",
       "  background-color: #23a983;\n",
       "  color: #f1f1f1;\n",
       "}\n",
       "#T_bc098_row5_col0 {\n",
       "  background-color: #a0da39;\n",
       "  color: #000000;\n",
       "}\n",
       "#T_bc098_row5_col2 {\n",
       "  background-color: #2c728e;\n",
       "  color: #f1f1f1;\n",
       "}\n",
       "#T_bc098_row5_col3 {\n",
       "  background-color: #3f4788;\n",
       "  color: #f1f1f1;\n",
       "}\n",
       "#T_bc098_row6_col0, #T_bc098_row8_col3, #T_bc098_row9_col1, #T_bc098_row14_col2 {\n",
       "  background-color: #440154;\n",
       "  color: #f1f1f1;\n",
       "}\n",
       "#T_bc098_row6_col1 {\n",
       "  background-color: #1f968b;\n",
       "  color: #f1f1f1;\n",
       "}\n",
       "#T_bc098_row6_col2 {\n",
       "  background-color: #26818e;\n",
       "  color: #f1f1f1;\n",
       "}\n",
       "#T_bc098_row6_col3 {\n",
       "  background-color: #433d84;\n",
       "  color: #f1f1f1;\n",
       "}\n",
       "#T_bc098_row7_col0 {\n",
       "  background-color: #27808e;\n",
       "  color: #f1f1f1;\n",
       "}\n",
       "#T_bc098_row7_col1 {\n",
       "  background-color: #20938c;\n",
       "  color: #f1f1f1;\n",
       "}\n",
       "#T_bc098_row7_col2 {\n",
       "  background-color: #1f9f88;\n",
       "  color: #f1f1f1;\n",
       "}\n",
       "#T_bc098_row7_col3 {\n",
       "  background-color: #77d153;\n",
       "  color: #000000;\n",
       "}\n",
       "#T_bc098_row8_col0, #T_bc098_row13_col3 {\n",
       "  background-color: #472d7b;\n",
       "  color: #f1f1f1;\n",
       "}\n",
       "#T_bc098_row8_col1 {\n",
       "  background-color: #e7e419;\n",
       "  color: #000000;\n",
       "}\n",
       "#T_bc098_row8_col2 {\n",
       "  background-color: #e2e418;\n",
       "  color: #000000;\n",
       "}\n",
       "#T_bc098_row9_col0 {\n",
       "  background-color: #472e7c;\n",
       "  color: #f1f1f1;\n",
       "}\n",
       "#T_bc098_row9_col2 {\n",
       "  background-color: #22a884;\n",
       "  color: #f1f1f1;\n",
       "}\n",
       "#T_bc098_row9_col3 {\n",
       "  background-color: #81d34d;\n",
       "  color: #000000;\n",
       "}\n",
       "#T_bc098_row10_col0 {\n",
       "  background-color: #228d8d;\n",
       "  color: #f1f1f1;\n",
       "}\n",
       "#T_bc098_row10_col1 {\n",
       "  background-color: #1f948c;\n",
       "  color: #f1f1f1;\n",
       "}\n",
       "#T_bc098_row10_col3 {\n",
       "  background-color: #355e8d;\n",
       "  color: #f1f1f1;\n",
       "}\n",
       "#T_bc098_row11_col0 {\n",
       "  background-color: #34618d;\n",
       "  color: #f1f1f1;\n",
       "}\n",
       "#T_bc098_row11_col1 {\n",
       "  background-color: #44bf70;\n",
       "  color: #f1f1f1;\n",
       "}\n",
       "#T_bc098_row11_col2 {\n",
       "  background-color: #218e8d;\n",
       "  color: #f1f1f1;\n",
       "}\n",
       "#T_bc098_row11_col3 {\n",
       "  background-color: #56c667;\n",
       "  color: #000000;\n",
       "}\n",
       "#T_bc098_row12_col0 {\n",
       "  background-color: #34b679;\n",
       "  color: #f1f1f1;\n",
       "}\n",
       "#T_bc098_row12_col1 {\n",
       "  background-color: #42be71;\n",
       "  color: #f1f1f1;\n",
       "}\n",
       "#T_bc098_row12_col2 {\n",
       "  background-color: #1f9e89;\n",
       "  color: #f1f1f1;\n",
       "}\n",
       "#T_bc098_row13_col0 {\n",
       "  background-color: #46c06f;\n",
       "  color: #f1f1f1;\n",
       "}\n",
       "#T_bc098_row13_col1 {\n",
       "  background-color: #25858e;\n",
       "  color: #f1f1f1;\n",
       "}\n",
       "#T_bc098_row13_col2 {\n",
       "  background-color: #20a386;\n",
       "  color: #f1f1f1;\n",
       "}\n",
       "#T_bc098_row14_col0 {\n",
       "  background-color: #3a538b;\n",
       "  color: #f1f1f1;\n",
       "}\n",
       "#T_bc098_row14_col1 {\n",
       "  background-color: #8bd646;\n",
       "  color: #000000;\n",
       "}\n",
       "#T_bc098_row14_col3 {\n",
       "  background-color: #23898e;\n",
       "  color: #f1f1f1;\n",
       "}\n",
       "</style>\n",
       "<table id=\"T_bc098\">\n",
       "  <thead>\n",
       "    <tr>\n",
       "      <th class=\"blank level0\" >&nbsp;</th>\n",
       "      <th id=\"T_bc098_level0_col0\" class=\"col_heading level0 col0\" >a</th>\n",
       "      <th id=\"T_bc098_level0_col1\" class=\"col_heading level0 col1\" >b</th>\n",
       "      <th id=\"T_bc098_level0_col2\" class=\"col_heading level0 col2\" >c</th>\n",
       "      <th id=\"T_bc098_level0_col3\" class=\"col_heading level0 col3\" >d</th>\n",
       "    </tr>\n",
       "  </thead>\n",
       "  <tbody>\n",
       "    <tr>\n",
       "      <th id=\"T_bc098_level0_row0\" class=\"row_heading level0 row0\" >0</th>\n",
       "      <td id=\"T_bc098_row0_col0\" class=\"data row0 col0\" >0.581385</td>\n",
       "      <td id=\"T_bc098_row0_col1\" class=\"data row0 col1\" >0.418329</td>\n",
       "      <td id=\"T_bc098_row0_col2\" class=\"data row0 col2\" >0.530239</td>\n",
       "      <td id=\"T_bc098_row0_col3\" class=\"data row0 col3\" >0.819402</td>\n",
       "    </tr>\n",
       "    <tr>\n",
       "      <th id=\"T_bc098_level0_row1\" class=\"row_heading level0 row1\" >1</th>\n",
       "      <td id=\"T_bc098_row1_col0\" class=\"data row1 col0\" >0.274647</td>\n",
       "      <td id=\"T_bc098_row1_col1\" class=\"data row1 col1\" >0.479165</td>\n",
       "      <td id=\"T_bc098_row1_col2\" class=\"data row1 col2\" >0.706040</td>\n",
       "      <td id=\"T_bc098_row1_col3\" class=\"data row1 col3\" >0.738399</td>\n",
       "    </tr>\n",
       "    <tr>\n",
       "      <th id=\"T_bc098_level0_row2\" class=\"row_heading level0 row2\" >2</th>\n",
       "      <td id=\"T_bc098_row2_col0\" class=\"data row2 col0\" >0.202014</td>\n",
       "      <td id=\"T_bc098_row2_col1\" class=\"data row2 col1\" >0.778438</td>\n",
       "      <td id=\"T_bc098_row2_col2\" class=\"data row2 col2\" >0.655373</td>\n",
       "      <td id=\"T_bc098_row2_col3\" class=\"data row2 col3\" >0.560403</td>\n",
       "    </tr>\n",
       "    <tr>\n",
       "      <th id=\"T_bc098_level0_row3\" class=\"row_heading level0 row3\" >3</th>\n",
       "      <td id=\"T_bc098_row3_col0\" class=\"data row3 col0\" >0.516461</td>\n",
       "      <td id=\"T_bc098_row3_col1\" class=\"data row3 col1\" >0.717488</td>\n",
       "      <td id=\"T_bc098_row3_col2\" class=\"data row3 col2\" >0.562591</td>\n",
       "      <td id=\"T_bc098_row3_col3\" class=\"data row3 col3\" >0.815000</td>\n",
       "    </tr>\n",
       "    <tr>\n",
       "      <th id=\"T_bc098_level0_row4\" class=\"row_heading level0 row4\" >4</th>\n",
       "      <td id=\"T_bc098_row4_col0\" class=\"data row4 col0\" >0.114255</td>\n",
       "      <td id=\"T_bc098_row4_col1\" class=\"data row4 col1\" >0.259444</td>\n",
       "      <td id=\"T_bc098_row4_col2\" class=\"data row4 col2\" >0.653441</td>\n",
       "      <td id=\"T_bc098_row4_col3\" class=\"data row4 col3\" >0.937493</td>\n",
       "    </tr>\n",
       "    <tr>\n",
       "      <th id=\"T_bc098_level0_row5\" class=\"row_heading level0 row5\" >5</th>\n",
       "      <td id=\"T_bc098_row5_col0\" class=\"data row5 col0\" >0.499651</td>\n",
       "      <td id=\"T_bc098_row5_col1\" class=\"data row5 col1\" >0.777001</td>\n",
       "      <td id=\"T_bc098_row5_col2\" class=\"data row5 col2\" >0.505303</td>\n",
       "      <td id=\"T_bc098_row5_col3\" class=\"data row5 col3\" >0.554056</td>\n",
       "    </tr>\n",
       "    <tr>\n",
       "      <th id=\"T_bc098_level0_row6\" class=\"row_heading level0 row6\" >6</th>\n",
       "      <td id=\"T_bc098_row6_col0\" class=\"data row6 col0\" >0.004067</td>\n",
       "      <td id=\"T_bc098_row6_col1\" class=\"data row6 col1\" >0.505651</td>\n",
       "      <td id=\"T_bc098_row6_col2\" class=\"data row6 col2\" >0.543507</td>\n",
       "      <td id=\"T_bc098_row6_col3\" class=\"data row6 col3\" >0.536516</td>\n",
       "    </tr>\n",
       "    <tr>\n",
       "      <th id=\"T_bc098_level0_row7\" class=\"row_heading level0 row7\" >7</th>\n",
       "      <td id=\"T_bc098_row7_col0\" class=\"data row7 col0\" >0.252614</td>\n",
       "      <td id=\"T_bc098_row7_col1\" class=\"data row7 col1\" >0.499193</td>\n",
       "      <td id=\"T_bc098_row7_col2\" class=\"data row7 col2\" >0.624775</td>\n",
       "      <td id=\"T_bc098_row7_col3\" class=\"data row7 col3\" >0.837803</td>\n",
       "    </tr>\n",
       "    <tr>\n",
       "      <th id=\"T_bc098_level0_row8\" class=\"row_heading level0 row8\" >8</th>\n",
       "      <td id=\"T_bc098_row8_col0\" class=\"data row8 col0\" >0.076390</td>\n",
       "      <td id=\"T_bc098_row8_col1\" class=\"data row8 col1\" >0.756249</td>\n",
       "      <td id=\"T_bc098_row8_col2\" class=\"data row8 col2\" >0.883994</td>\n",
       "      <td id=\"T_bc098_row8_col3\" class=\"data row8 col3\" >0.450247</td>\n",
       "    </tr>\n",
       "    <tr>\n",
       "      <th id=\"T_bc098_level0_row9\" class=\"row_heading level0 row9\" >9</th>\n",
       "      <td id=\"T_bc098_row9_col0\" class=\"data row9 col0\" >0.079004</td>\n",
       "      <td id=\"T_bc098_row9_col1\" class=\"data row9 col1\" >0.203078</td>\n",
       "      <td id=\"T_bc098_row9_col2\" class=\"data row9 col2\" >0.650152</td>\n",
       "      <td id=\"T_bc098_row9_col3\" class=\"data row9 col3\" >0.845574</td>\n",
       "    </tr>\n",
       "    <tr>\n",
       "      <th id=\"T_bc098_level0_row10\" class=\"row_heading level0 row10\" >10</th>\n",
       "      <td id=\"T_bc098_row10_col0\" class=\"data row10 col0\" >0.284160</td>\n",
       "      <td id=\"T_bc098_row10_col1\" class=\"data row10 col1\" >0.500147</td>\n",
       "      <td id=\"T_bc098_row10_col2\" class=\"data row10 col2\" >0.912530</td>\n",
       "      <td id=\"T_bc098_row10_col3\" class=\"data row10 col3\" >0.594513</td>\n",
       "    </tr>\n",
       "    <tr>\n",
       "      <th id=\"T_bc098_level0_row11\" class=\"row_heading level0 row11\" >11</th>\n",
       "      <td id=\"T_bc098_row11_col0\" class=\"data row11 col0\" >0.180741</td>\n",
       "      <td id=\"T_bc098_row11_col1\" class=\"data row11 col1\" >0.606995</td>\n",
       "      <td id=\"T_bc098_row11_col2\" class=\"data row11 col2\" >0.578804</td>\n",
       "      <td id=\"T_bc098_row11_col3\" class=\"data row11 col3\" >0.809627</td>\n",
       "    </tr>\n",
       "    <tr>\n",
       "      <th id=\"T_bc098_level0_row12\" class=\"row_heading level0 row12\" >12</th>\n",
       "      <td id=\"T_bc098_row12_col0\" class=\"data row12 col0\" >0.386043</td>\n",
       "      <td id=\"T_bc098_row12_col1\" class=\"data row12 col1\" >0.603806</td>\n",
       "      <td id=\"T_bc098_row12_col2\" class=\"data row12 col2\" >0.621105</td>\n",
       "      <td id=\"T_bc098_row12_col3\" class=\"data row12 col3\" >0.744275</td>\n",
       "    </tr>\n",
       "    <tr>\n",
       "      <th id=\"T_bc098_level0_row13\" class=\"row_heading level0 row13\" >13</th>\n",
       "      <td id=\"T_bc098_row13_col0\" class=\"data row13 col0\" >0.410423</td>\n",
       "      <td id=\"T_bc098_row13_col1\" class=\"data row13 col1\" >0.464868</td>\n",
       "      <td id=\"T_bc098_row13_col2\" class=\"data row13 col2\" >0.638133</td>\n",
       "      <td id=\"T_bc098_row13_col3\" class=\"data row13 col3\" >0.511678</td>\n",
       "    </tr>\n",
       "    <tr>\n",
       "      <th id=\"T_bc098_level0_row14\" class=\"row_heading level0 row14\" >14</th>\n",
       "      <td id=\"T_bc098_row14_col0\" class=\"data row14 col0\" >0.152017</td>\n",
       "      <td id=\"T_bc098_row14_col1\" class=\"data row14 col1\" >0.678137</td>\n",
       "      <td id=\"T_bc098_row14_col2\" class=\"data row14 col2\" >0.257068</td>\n",
       "      <td id=\"T_bc098_row14_col3\" class=\"data row14 col3\" >0.679190</td>\n",
       "    </tr>\n",
       "  </tbody>\n",
       "</table>\n"
      ],
      "text/plain": [
       "<pandas.io.formats.style.Styler at 0x7f97c49ee4a0>"
      ]
     },
     "execution_count": 4,
     "metadata": {},
     "output_type": "execute_result"
    }
   ],
   "source": [
    "import pandas as pd\n",
    "import numpy as np\n",
    "\n",
    "x = np.arange(20_000)\n",
    "\n",
    "df = pd.DataFrame(\n",
    "    {\n",
    "        col: np.random.beta(i+1, 3, x.shape)\n",
    "        for col, i in zip(\"abcd\", [0, 2, 4, 6])\n",
    "    },\n",
    "    index = x,\n",
    ")\n",
    "df.head(15).style.background_gradient(cmap=\"viridis\")"
   ]
  },
  {
   "cell_type": "markdown",
   "execution_count": null,
   "id": "10690823",
   "metadata": {
    "execute": {
     "shell": {
      "execute_reply": "2022-02-03T11:12:36.286420+00:00"
     }
    },
    "iopub": {
     "status": {
      "busy": "2022-02-03T11:12:36.286194+00:00",
      "idle": "2022-02-03T11:12:36.286552+00:00"
     }
    }
   },
   "source": [
    "`euporie` can render images using Sixel graphics if your terminal supports it. Otherwise it will fall back to using character-based terminal graphics.\n",
    "\n",
    "This means you can produce plots with `matplotlib` and `euporie` will display them in the best way it can:"
   ]
  },
  {
   "cell_type": "code",
   "execution_count": 5,
   "id": "2017c662",
   "metadata": {
    "execute": {
     "shell": {
      "execute_reply": "2022-02-16T11:08:21.852100+00:00"
     }
    },
    "iopub": {
     "execute_input": "2022-02-16T11:08:20.300070+00:00",
     "status": {
      "busy": "2022-02-16T11:08:20.299711+00:00",
      "idle": "2022-02-16T11:08:21.852873+00:00"
     }
    }
   },
   "outputs": [
    {
     "data": {
      "image/png": "[encoded data removed]",
      "text/plain": [
       "<Figure size 1500x400 with 1 Axes>"
      ]
     },
     "metadata": {},
     "output_type": "display_data"
    }
   ],
   "source": [
    "from matplotlib import pyplot as plt\n",
    "\n",
    "fig, ax = plt.subplots(figsize=(15, 4), facecolor=\"#FFF\")\n",
    "df.plot.hist(ax=ax, bins=80, alpha=0.75)\n",
    "plt.show()"
   ]
  },
  {
   "cell_type": "markdown",
   "execution_count": null,
   "id": "f85075bd",
   "metadata": {
    "execute": {
     "shell": {
      "execute_reply": "2022-02-03T11:12:36.289180+00:00"
     }
    },
    "iopub": {
     "status": {
      "busy": "2022-02-03T11:12:36.288988+00:00",
      "idle": "2022-02-03T11:12:36.289313+00:00"
     }
    }
   },
   "source": [
    "If your terminal does not support graphics, the excellent `plotext` library works very well with euporie:"
   ]
  },
  {
   "cell_type": "code",
   "execution_count": 6,
   "id": "a36015d6",
   "metadata": {
    "execute": {
     "shell": {
      "execute_reply": "2022-02-16T11:08:22.056580+00:00"
     }
    },
    "iopub": {
     "execute_input": "2022-02-16T11:08:21.854124+00:00",
     "status": {
      "busy": "2022-02-16T11:08:21.853852+00:00",
      "idle": "2022-02-16T11:08:22.057262+00:00"
     }
    }
   },
   "outputs": [
    {
     "name": "stdout",
     "output_type": "stream",
     "text": [
      "\u001b[0m\u001b[48;5;15m\u001b[38;5;0m                                   Histogram Plot                               \u001b[0m\n",
      "\u001b[0m\u001b[48;5;15m\u001b[38;5;0m     ┌─────────────────────────────────────────────────────────────────────────┐\u001b[0m\n",
      "\u001b[0m\u001b[48;5;15m\u001b[38;5;0m711.0\u001b[0m\u001b[48;5;15m\u001b[38;5;0m┤\u001b[0m\u001b[48;5;15m\u001b[38;5;12m█\u001b[48;5;15m\u001b[38;5;12m█\u001b[48;5;15m\u001b[38;5;12m█\u001b[48;5;15m\u001b[38;5;12m█\u001b[48;5;15m\u001b[38;5;0m \u001b[48;5;15m\u001b[38;5;0ma\u001b[48;5;15m\u001b[48;5;15m\u001b[38;5;0m \u001b[48;5;15m\u001b[38;5;0m \u001b[48;5;15m\u001b[38;5;0m \u001b[48;5;15m\u001b[38;5;0m \u001b[48;5;15m\u001b[38;5;0m \u001b[48;5;15m\u001b[38;5;0m \u001b[48;5;15m\u001b[38;5;0m \u001b[48;5;15m\u001b[38;5;0m \u001b[48;5;15m\u001b[38;5;0m \u001b[48;5;15m\u001b[38;5;0m \u001b[48;5;15m\u001b[38;5;0m \u001b[48;5;15m\u001b[38;5;0m \u001b[48;5;15m\u001b[38;5;0m \u001b[48;5;15m\u001b[38;5;0m \u001b[48;5;15m\u001b[38;5;0m \u001b[48;5;15m\u001b[38;5;0m \u001b[48;5;15m\u001b[38;5;0m \u001b[48;5;15m\u001b[38;5;0m \u001b[48;5;15m\u001b[38;5;0m \u001b[48;5;15m\u001b[38;5;0m \u001b[48;5;15m\u001b[38;5;0m \u001b[48;5;15m\u001b[38;5;0m \u001b[48;5;15m\u001b[38;5;0m \u001b[48;5;15m\u001b[38;5;0m \u001b[48;5;15m\u001b[38;5;0m \u001b[48;5;15m\u001b[38;5;0m \u001b[48;5;15m\u001b[38;5;0m \u001b[48;5;15m\u001b[38;5;0m \u001b[48;5;15m\u001b[38;5;0m \u001b[48;5;15m\u001b[38;5;0m \u001b[48;5;15m\u001b[38;5;0m \u001b[48;5;15m\u001b[38;5;0m \u001b[48;5;15m\u001b[38;5;0m \u001b[48;5;15m\u001b[38;5;0m \u001b[48;5;15m\u001b[38;5;0m \u001b[48;5;15m\u001b[38;5;0m \u001b[48;5;15m\u001b[38;5;0m \u001b[48;5;15m\u001b[38;5;0m \u001b[48;5;15m\u001b[38;5;0m \u001b[48;5;15m\u001b[38;5;0m \u001b[48;5;15m\u001b[38;5;0m \u001b[48;5;15m\u001b[38;5;0m \u001b[48;5;15m\u001b[38;5;0m \u001b[48;5;15m\u001b[38;5;0m \u001b[48;5;15m\u001b[38;5;0m \u001b[48;5;15m\u001b[38;5;0m \u001b[48;5;15m\u001b[38;5;0m \u001b[48;5;15m\u001b[38;5;0m \u001b[48;5;15m\u001b[38;5;0m \u001b[48;5;15m\u001b[38;5;0m \u001b[48;5;15m\u001b[38;5;0m \u001b[48;5;15m\u001b[38;5;0m \u001b[48;5;15m\u001b[38;5;0m \u001b[48;5;15m\u001b[38;5;0m \u001b[48;5;15m\u001b[38;5;0m \u001b[48;5;15m\u001b[38;5;0m \u001b[48;5;15m\u001b[38;5;0m \u001b[48;5;15m\u001b[38;5;0m \u001b[48;5;15m\u001b[38;5;0m \u001b[48;5;15m\u001b[38;5;0m \u001b[48;5;15m\u001b[38;5;0m \u001b[48;5;15m\u001b[38;5;0m \u001b[48;5;15m\u001b[38;5;0m \u001b[48;5;15m\u001b[38;5;0m \u001b[48;5;15m\u001b[38;5;0m \u001b[48;5;15m\u001b[38;5;0m \u001b[48;5;15m\u001b[38;5;0m \u001b[48;5;15m\u001b[38;5;0m│\u001b[0m\u001b[0m\n",
      "\u001b[0m\u001b[48;5;15m\u001b[38;5;0m     \u001b[0m\u001b[48;5;15m\u001b[38;5;0m│\u001b[0m\u001b[48;5;15m\u001b[38;5;12m█\u001b[48;5;15m\u001b[38;5;10m█\u001b[48;5;15m\u001b[38;5;10m█\u001b[48;5;15m\u001b[38;5;10m█\u001b[48;5;15m\u001b[38;5;0m \u001b[48;5;15m\u001b[38;5;0mb\u001b[48;5;15m\u001b[38;5;12m██\u001b[48;5;15m\u001b[38;5;0m \u001b[48;5;15m\u001b[38;5;0m \u001b[48;5;15m\u001b[38;5;0m \u001b[48;5;15m\u001b[38;5;0m \u001b[48;5;15m\u001b[38;5;0m \u001b[48;5;15m\u001b[38;5;0m \u001b[48;5;15m\u001b[38;5;0m \u001b[48;5;15m\u001b[38;5;0m \u001b[48;5;15m\u001b[38;5;0m \u001b[48;5;15m\u001b[38;5;0m \u001b[48;5;15m\u001b[38;5;0m \u001b[48;5;15m\u001b[38;5;0m \u001b[48;5;15m\u001b[38;5;0m \u001b[48;5;15m\u001b[38;5;0m \u001b[48;5;15m\u001b[38;5;0m \u001b[48;5;15m\u001b[38;5;0m \u001b[48;5;15m\u001b[38;5;0m \u001b[48;5;15m\u001b[38;5;0m \u001b[48;5;15m\u001b[38;5;0m \u001b[48;5;15m\u001b[38;5;0m \u001b[48;5;15m\u001b[38;5;0m \u001b[48;5;15m\u001b[38;5;0m \u001b[48;5;15m\u001b[38;5;0m \u001b[48;5;15m\u001b[38;5;0m \u001b[48;5;15m\u001b[38;5;0m \u001b[48;5;15m\u001b[38;5;0m \u001b[48;5;15m\u001b[38;5;0m \u001b[48;5;15m\u001b[38;5;0m \u001b[48;5;15m\u001b[38;5;0m \u001b[48;5;15m\u001b[38;5;0m \u001b[48;5;15m\u001b[38;5;0m \u001b[48;5;15m\u001b[38;5;0m \u001b[48;5;15m\u001b[38;5;0m \u001b[48;5;15m\u001b[38;5;0m \u001b[48;5;15m\u001b[38;5;0m \u001b[48;5;15m\u001b[38;5;0m \u001b[48;5;15m\u001b[38;5;0m \u001b[48;5;15m\u001b[38;5;0m \u001b[48;5;15m\u001b[38;5;0m \u001b[48;5;15m\u001b[38;5;0m \u001b[48;5;15m\u001b[38;5;0m \u001b[48;5;15m\u001b[38;5;0m \u001b[48;5;15m\u001b[38;5;0m \u001b[48;5;15m\u001b[38;5;0m \u001b[48;5;15m\u001b[38;5;0m \u001b[48;5;15m\u001b[38;5;14m█\u001b[48;5;15m\u001b[38;5;0m \u001b[48;5;15m\u001b[38;5;0m \u001b[48;5;15m\u001b[38;5;0m \u001b[48;5;15m\u001b[38;5;0m \u001b[48;5;15m\u001b[38;5;0m \u001b[48;5;15m\u001b[38;5;0m \u001b[48;5;15m\u001b[38;5;0m \u001b[48;5;15m\u001b[38;5;0m \u001b[48;5;15m\u001b[38;5;0m \u001b[48;5;15m\u001b[38;5;0m \u001b[48;5;15m\u001b[38;5;0m \u001b[48;5;15m\u001b[38;5;0m \u001b[48;5;15m\u001b[38;5;0m \u001b[48;5;15m\u001b[38;5;0m \u001b[48;5;15m\u001b[38;5;0m \u001b[48;5;15m\u001b[38;5;0m \u001b[48;5;15m\u001b[38;5;0m \u001b[48;5;15m\u001b[38;5;0m \u001b[48;5;15m\u001b[38;5;0m \u001b[48;5;15m\u001b[38;5;0m│\u001b[0m\u001b[0m\n",
      "\u001b[0m\u001b[48;5;15m\u001b[38;5;0m592.5\u001b[0m\u001b[48;5;15m\u001b[38;5;0m┤\u001b[0m\u001b[48;5;15m\u001b[38;5;12m█\u001b[48;5;15m\u001b[38;5;9m█\u001b[48;5;15m\u001b[38;5;9m█\u001b[48;5;15m\u001b[38;5;9m█\u001b[48;5;15m\u001b[38;5;0m \u001b[48;5;15m\u001b[38;5;0mc\u001b[48;5;15m\u001b[38;5;12m██████\u001b[48;5;15m\u001b[38;5;0m \u001b[48;5;15m\u001b[38;5;0m \u001b[48;5;15m\u001b[38;5;0m \u001b[48;5;15m\u001b[38;5;0m \u001b[48;5;15m\u001b[38;5;0m \u001b[48;5;15m\u001b[38;5;0m \u001b[48;5;15m\u001b[38;5;0m \u001b[48;5;15m\u001b[38;5;0m \u001b[48;5;15m\u001b[38;5;0m \u001b[48;5;15m\u001b[38;5;0m \u001b[48;5;15m\u001b[38;5;0m \u001b[48;5;15m\u001b[38;5;0m \u001b[48;5;15m\u001b[38;5;0m \u001b[48;5;15m\u001b[38;5;0m \u001b[48;5;15m\u001b[38;5;0m \u001b[48;5;15m\u001b[38;5;0m \u001b[48;5;15m\u001b[38;5;0m \u001b[48;5;15m\u001b[38;5;0m \u001b[48;5;15m\u001b[38;5;0m \u001b[48;5;15m\u001b[38;5;0m \u001b[48;5;15m\u001b[38;5;0m \u001b[48;5;15m\u001b[38;5;0m \u001b[48;5;15m\u001b[38;5;0m \u001b[48;5;15m\u001b[38;5;0m \u001b[48;5;15m\u001b[38;5;0m \u001b[48;5;15m\u001b[38;5;0m \u001b[48;5;15m\u001b[38;5;0m \u001b[48;5;15m\u001b[38;5;0m \u001b[48;5;15m\u001b[38;5;0m \u001b[48;5;15m\u001b[38;5;0m \u001b[48;5;15m\u001b[38;5;0m \u001b[48;5;15m\u001b[38;5;0m \u001b[48;5;15m\u001b[38;5;0m \u001b[48;5;15m\u001b[38;5;9m███\u001b[48;5;15m\u001b[38;5;14m████████████\u001b[48;5;15m\u001b[38;5;0m \u001b[48;5;15m\u001b[38;5;0m \u001b[48;5;15m\u001b[38;5;0m \u001b[48;5;15m\u001b[38;5;0m \u001b[48;5;15m\u001b[38;5;0m \u001b[48;5;15m\u001b[38;5;0m \u001b[48;5;15m\u001b[38;5;0m \u001b[48;5;15m\u001b[38;5;0m \u001b[48;5;15m\u001b[38;5;0m \u001b[48;5;15m\u001b[38;5;0m \u001b[48;5;15m\u001b[38;5;0m \u001b[48;5;15m\u001b[38;5;0m \u001b[48;5;15m\u001b[38;5;0m \u001b[48;5;15m\u001b[38;5;0m│\u001b[0m\u001b[0m\n",
      "\u001b[0m\u001b[48;5;15m\u001b[38;5;0m474.0\u001b[0m\u001b[48;5;15m\u001b[38;5;0m┤\u001b[0m\u001b[48;5;15m\u001b[38;5;12m█\u001b[48;5;15m\u001b[38;5;14m█\u001b[48;5;15m\u001b[38;5;14m█\u001b[48;5;15m\u001b[38;5;14m█\u001b[48;5;15m\u001b[38;5;0m \u001b[48;5;15m\u001b[38;5;0md\u001b[48;5;15m\u001b[38;5;12m█████████\u001b[48;5;15m\u001b[38;5;0m \u001b[48;5;15m\u001b[38;5;12m██\u001b[48;5;15m\u001b[38;5;0m \u001b[48;5;15m\u001b[38;5;0m \u001b[48;5;15m\u001b[38;5;0m \u001b[48;5;15m\u001b[38;5;0m \u001b[48;5;15m\u001b[38;5;0m \u001b[48;5;15m\u001b[38;5;0m \u001b[48;5;15m\u001b[38;5;0m \u001b[48;5;15m\u001b[38;5;0m \u001b[48;5;15m\u001b[38;5;0m \u001b[48;5;15m\u001b[38;5;0m \u001b[48;5;15m\u001b[38;5;0m \u001b[48;5;15m\u001b[38;5;0m \u001b[48;5;15m\u001b[38;5;0m \u001b[48;5;15m\u001b[38;5;0m \u001b[48;5;15m\u001b[38;5;0m \u001b[48;5;15m\u001b[38;5;0m \u001b[48;5;15m\u001b[38;5;0m \u001b[48;5;15m\u001b[38;5;0m \u001b[48;5;15m\u001b[38;5;0m \u001b[48;5;15m\u001b[38;5;0m \u001b[48;5;15m\u001b[38;5;0m \u001b[48;5;15m\u001b[38;5;9m███████\u001b[48;5;15m\u001b[38;5;14m\u001b[48;5;15m\u001b[38;5;14m\u001b[48;5;15m\u001b[38;5;14m█████████████████\u001b[48;5;15m\u001b[38;5;0m \u001b[48;5;15m\u001b[38;5;0m \u001b[48;5;15m\u001b[38;5;0m \u001b[48;5;15m\u001b[38;5;0m \u001b[48;5;15m\u001b[38;5;0m \u001b[48;5;15m\u001b[38;5;0m \u001b[48;5;15m\u001b[38;5;0m \u001b[48;5;15m\u001b[38;5;0m \u001b[48;5;15m\u001b[38;5;0m \u001b[48;5;15m\u001b[38;5;0m \u001b[48;5;15m\u001b[38;5;0m│\u001b[0m\u001b[0m\n",
      "\u001b[0m\u001b[48;5;15m\u001b[38;5;0m     \u001b[0m\u001b[48;5;15m\u001b[38;5;0m│\u001b[0m\u001b[48;5;15m\u001b[38;5;12m████████████████████\u001b[48;5;15m\u001b[38;5;0m \u001b[48;5;15m\u001b[38;5;0m \u001b[48;5;15m\u001b[38;5;0m \u001b[48;5;15m\u001b[38;5;0m \u001b[48;5;15m\u001b[38;5;10m████████████\u001b[48;5;15m\u001b[38;5;9m\u001b[48;5;15m\u001b[38;5;9m\u001b[48;5;15m\u001b[38;5;9m███████\u001b[48;5;15m\u001b[38;5;14m\u001b[48;5;15m\u001b[38;5;14m\u001b[48;5;15m\u001b[38;5;14m\u001b[48;5;15m\u001b[38;5;14m\u001b[48;5;15m\u001b[38;5;14m\u001b[48;5;15m\u001b[38;5;14m█████████████████████\u001b[48;5;15m\u001b[38;5;0m \u001b[48;5;15m\u001b[38;5;0m \u001b[48;5;15m\u001b[38;5;0m \u001b[48;5;15m\u001b[38;5;0m \u001b[48;5;15m\u001b[38;5;0m \u001b[48;5;15m\u001b[38;5;0m \u001b[48;5;15m\u001b[38;5;0m \u001b[48;5;15m\u001b[38;5;0m \u001b[48;5;15m\u001b[38;5;0m \u001b[48;5;15m\u001b[38;5;0m│\u001b[0m\u001b[0m\n",
      "\u001b[0m\u001b[48;5;15m\u001b[38;5;0m355.5\u001b[0m\u001b[48;5;15m\u001b[38;5;0m┤\u001b[0m\u001b[48;5;15m\u001b[38;5;12m███████████████████████\u001b[48;5;15m\u001b[38;5;10m\u001b[48;5;15m\u001b[38;5;10m███████████\u001b[48;5;15m\u001b[38;5;9m\u001b[48;5;15m\u001b[38;5;9m\u001b[48;5;15m\u001b[38;5;9m███████\u001b[48;5;15m\u001b[38;5;14m\u001b[48;5;15m\u001b[38;5;14m\u001b[48;5;15m\u001b[38;5;14m\u001b[48;5;15m\u001b[38;5;14m\u001b[48;5;15m\u001b[38;5;14m█████████████████████████\u001b[48;5;15m\u001b[38;5;0m \u001b[48;5;15m\u001b[38;5;0m \u001b[48;5;15m\u001b[38;5;0m \u001b[48;5;15m\u001b[38;5;0m \u001b[48;5;15m\u001b[38;5;0m \u001b[48;5;15m\u001b[38;5;0m \u001b[48;5;15m\u001b[38;5;0m \u001b[48;5;15m\u001b[38;5;0m│\u001b[0m\u001b[0m\n",
      "\u001b[0m\u001b[48;5;15m\u001b[38;5;0m     \u001b[0m\u001b[48;5;15m\u001b[38;5;0m│\u001b[0m\u001b[48;5;15m\u001b[38;5;12m████████████████\u001b[48;5;15m\u001b[38;5;10m\u001b[48;5;15m\u001b[38;5;10m\u001b[48;5;15m\u001b[38;5;10m██\u001b[48;5;15m\u001b[38;5;12m\u001b[48;5;15m\u001b[38;5;12m█\u001b[48;5;15m\u001b[38;5;10m\u001b[48;5;15m\u001b[38;5;10m\u001b[48;5;15m\u001b[38;5;10m\u001b[48;5;15m\u001b[38;5;10m████████████\u001b[48;5;15m\u001b[38;5;9m\u001b[48;5;15m\u001b[38;5;9m\u001b[48;5;15m\u001b[38;5;9m█████\u001b[48;5;15m\u001b[38;5;14m\u001b[48;5;15m\u001b[38;5;14m\u001b[48;5;15m\u001b[38;5;14m\u001b[48;5;15m\u001b[38;5;14m\u001b[48;5;15m\u001b[38;5;14m██\u001b[48;5;15m\u001b[38;5;9m\u001b[48;5;15m\u001b[38;5;9m\u001b[48;5;15m\u001b[38;5;9m\u001b[48;5;15m\u001b[38;5;9m█\u001b[48;5;15m\u001b[38;5;14m\u001b[48;5;15m\u001b[38;5;14m\u001b[48;5;15m\u001b[38;5;14m\u001b[48;5;15m\u001b[38;5;14m\u001b[48;5;15m\u001b[38;5;14m████████████████████████████\u001b[48;5;15m\u001b[38;5;0m \u001b[48;5;15m\u001b[38;5;0m \u001b[48;5;15m\u001b[38;5;0m \u001b[48;5;15m\u001b[38;5;0m \u001b[48;5;15m\u001b[38;5;0m \u001b[48;5;15m\u001b[38;5;0m \u001b[48;5;15m\u001b[38;5;0m│\u001b[0m\u001b[0m\n",
      "\u001b[0m\u001b[48;5;15m\u001b[38;5;0m237.0\u001b[0m\u001b[48;5;15m\u001b[38;5;0m┤\u001b[0m\u001b[48;5;15m\u001b[38;5;12m█████████████\u001b[48;5;15m\u001b[38;5;10m\u001b[48;5;15m\u001b[38;5;10m\u001b[48;5;15m\u001b[38;5;10m█████████████\u001b[48;5;15m\u001b[38;5;9m\u001b[48;5;15m\u001b[38;5;9m\u001b[48;5;15m\u001b[38;5;9m\u001b[48;5;15m\u001b[38;5;9m\u001b[48;5;15m\u001b[38;5;9m█████████\u001b[48;5;15m\u001b[38;5;14m\u001b[48;5;15m\u001b[38;5;14m\u001b[48;5;15m\u001b[38;5;14m\u001b[48;5;15m\u001b[38;5;14m\u001b[48;5;15m\u001b[38;5;14m\u001b[48;5;15m\u001b[38;5;14m█████████████████████████████████\u001b[48;5;15m\u001b[38;5;0m \u001b[48;5;15m\u001b[38;5;0m \u001b[48;5;15m\u001b[38;5;0m \u001b[48;5;15m\u001b[38;5;0m \u001b[48;5;15m\u001b[38;5;0m \u001b[48;5;15m\u001b[38;5;0m│\u001b[0m\u001b[0m\n",
      "\u001b[0m\u001b[48;5;15m\u001b[38;5;0m118.5\u001b[0m\u001b[48;5;15m\u001b[38;5;0m┤\u001b[0m\u001b[48;5;15m\u001b[38;5;12m███████████\u001b[48;5;15m\u001b[38;5;10m\u001b[48;5;15m\u001b[38;5;10m\u001b[48;5;15m\u001b[38;5;10m\u001b[48;5;15m\u001b[38;5;10m██████████\u001b[48;5;15m\u001b[38;5;9m\u001b[48;5;15m\u001b[38;5;9m\u001b[48;5;15m\u001b[38;5;9m\u001b[48;5;15m\u001b[38;5;9m\u001b[48;5;15m\u001b[38;5;9m██████████\u001b[48;5;15m\u001b[38;5;14m\u001b[48;5;15m\u001b[38;5;14m\u001b[48;5;15m\u001b[38;5;14m\u001b[48;5;15m\u001b[38;5;14m\u001b[48;5;15m\u001b[38;5;14m\u001b[48;5;15m\u001b[38;5;14m\u001b[48;5;15m\u001b[38;5;14m███████████████████████████████████████\u001b[48;5;15m\u001b[38;5;0m \u001b[48;5;15m\u001b[38;5;0m \u001b[48;5;15m\u001b[38;5;0m \u001b[48;5;15m\u001b[38;5;0m│\u001b[0m\u001b[0m\n",
      "\u001b[0m\u001b[48;5;15m\u001b[38;5;0m     \u001b[0m\u001b[48;5;15m\u001b[38;5;0m│\u001b[0m\u001b[48;5;15m\u001b[38;5;12m██████\u001b[48;5;15m\u001b[38;5;10m\u001b[48;5;15m\u001b[38;5;10m\u001b[48;5;15m\u001b[38;5;10m███████████\u001b[48;5;15m\u001b[38;5;9m\u001b[48;5;15m\u001b[38;5;9m\u001b[48;5;15m\u001b[38;5;9m\u001b[48;5;15m\u001b[38;5;9m\u001b[48;5;15m\u001b[38;5;9m████████\u001b[48;5;15m\u001b[38;5;14m\u001b[48;5;15m\u001b[38;5;14m\u001b[48;5;15m\u001b[38;5;14m\u001b[48;5;15m\u001b[38;5;14m\u001b[48;5;15m\u001b[38;5;14m\u001b[48;5;15m\u001b[38;5;14m\u001b[48;5;15m\u001b[38;5;14m██████████████████████████████████████████████\u001b[48;5;15m\u001b[38;5;0m \u001b[48;5;15m\u001b[38;5;0m \u001b[48;5;15m\u001b[38;5;0m│\u001b[0m\u001b[0m\n",
      "\u001b[0m\u001b[48;5;15m\u001b[38;5;0m  0.0\u001b[0m\u001b[48;5;15m\u001b[38;5;0m┤\u001b[0m\u001b[48;5;15m\u001b[38;5;12m█\u001b[48;5;15m\u001b[38;5;10m\u001b[48;5;15m\u001b[38;5;10m\u001b[48;5;15m\u001b[38;5;10m███\u001b[48;5;15m\u001b[38;5;9m\u001b[48;5;15m\u001b[38;5;9m\u001b[48;5;15m\u001b[38;5;9m\u001b[48;5;15m\u001b[38;5;9m\u001b[48;5;15m\u001b[38;5;9m█ ████\u001b[48;5;15m\u001b[38;5;14m\u001b[48;5;15m\u001b[38;5;14m\u001b[48;5;15m\u001b[38;5;14m\u001b[48;5;15m\u001b[38;5;14m\u001b[48;5;15m\u001b[38;5;14m\u001b[48;5;15m\u001b[38;5;14m\u001b[48;5;15m\u001b[38;5;14m███████████████████████████████████████████████████████████████\u001b[0m\u001b[48;5;15m\u001b[38;5;0m│\u001b[0m\u001b[0m\n",
      "\u001b[0m\u001b[48;5;15m\u001b[38;5;0m     └┬─────────────────┬─────────────────┬─────────────────┬─────────────────┬┘\u001b[0m\n",
      "\u001b[0m\u001b[48;5;15m\u001b[38;5;0m      0.00            0.25              0.50              0.75             1.00 \u001b[0m\n"
     ]
    }
   ],
   "source": [
    "import plotext as plt\n",
    "\n",
    "plt.clear_figure()\n",
    "plt.plot_size(100, 15)\n",
    "for name, col in df.items():\n",
    "    plt.hist(col.values, 80, label=name)\n",
    "plt.title(\"Histogram Plot\")\n",
    "plt.show()"
   ]
  },
  {
   "cell_type": "markdown",
   "execution_count": null,
   "id": "3adda7cd",
   "metadata": {
    "execute": {
     "shell": {
      "execute_reply": "2022-02-03T11:12:36.292730+00:00"
     }
    },
    "iopub": {
     "status": {
      "busy": "2022-02-03T11:12:36.292507+00:00",
      "idle": "2022-02-03T11:12:36.292880+00:00"
     }
    }
   },
   "source": [
    "It can also display SVG output:"
   ]
  },
  {
   "cell_type": "code",
   "execution_count": 7,
   "id": "02fe9798",
   "metadata": {
    "execute": {
     "shell": {
      "execute_reply": "2022-02-16T11:08:22.063910+00:00"
     }
    },
    "iopub": {
     "execute_input": "2022-02-16T11:08:22.058466+00:00",
     "status": {
      "busy": "2022-02-16T11:08:22.058214+00:00",
      "idle": "2022-02-16T11:08:22.064507+00:00"
     }
    }
   },
   "outputs": [
    {
     "data": {
      "image/svg+xml": [
       "<svg width=\"200\" height=\"200\"><polygon points=\"105,5 45,185 195,65 5,65 165,185\" fill=\"yellow\"/></svg>"
      ],
      "text/plain": [
       "<IPython.core.display.SVG object>"
      ]
     },
     "execution_count": 7,
     "metadata": {},
     "output_type": "execute_result"
    }
   ],
   "source": [
    "from IPython.display import SVG\n",
    "\n",
    "SVG(\n",
    "    '<svg width=\"200\" height=\"200\"><polygon points=\"105,5 45,185 195,65 5,65 165,185\" fill=\"yellow\" /></svg>'\n",
    ")"
   ]
  },
  {
   "cell_type": "markdown",
   "id": "1bd9c919",
   "metadata": {},
   "outputs": [],
   "source": [
    "Euporie can display JSON output interactively. Try clicking to expand and collapse items in the output:"
   ]
  },
  {
   "cell_type": "code",
   "execution_count": 8,
   "id": "28fae044",
   "metadata": {},
   "outputs": [
    {
     "data": {
      "application/json": {
       "bool": true,
       "dict": {
        "bool": true,
        "list": [
         "First",
         "Second",
         "Third",
         "Fourth"
        ],
        "number": 123.456,
        "string": "This is a string"
       },
       "list": [
        "First",
        "Second",
        "Third",
        "Fourth"
       ],
       "number": 123.456,
       "string": "This is a string"
      },
      "text/plain": [
       "<IPython.core.display.JSON object>"
      ]
     },
     "execution_count": 8,
     "metadata": {
      "application/json": {
       "expanded": true,
       "root": "My JSON document"
      }
     },
     "output_type": "execute_result"
    }
   ],
   "source": [
    "from IPython.display import JSON\n",
    "\n",
    "JSON(\n",
    "    {\n",
    "        \"number\": 123.456,\n",
    "        \"bool\": True,\n",
    "        \"string\": \"This is a string\",\n",
    "        \"list\": [\"First\", \"Second\", \"Third\", \"Fourth\"],\n",
    "        \"dict\": {\n",
    "            \"number\": 123.456,\n",
    "            \"bool\": True,\n",
    "            \"string\": \"This is a string\",\n",
    "            \"list\": [\"First\", \"Second\", \"Third\", \"Fourth\"],\n",
    "        },\n",
    "    },\n",
    "    expanded=True,\n",
    "    root=\"My JSON document\",\n",
    ")"
   ]
  },
  {
   "cell_type": "markdown",
   "execution_count": null,
   "id": "930e6d01",
   "metadata": {
    "execute": {
     "shell": {
      "execute_reply": "2022-02-03T11:12:36.299041+00:00"
     }
    },
    "iopub": {
     "execute_input": "2022-02-03T11:10:23.378289+00:00",
     "status": {
      "busy": "2022-02-03T11:12:36.298716+00:00",
      "idle": "2022-02-03T11:12:36.299174+00:00"
     }
    }
   },
   "source": [
    "`euporie` supporst ANSI output, so  works with libraries like `tqdm` and `rich`:"
   ]
  },
  {
   "cell_type": "code",
   "execution_count": 9,
   "id": "647ba74c",
   "metadata": {
    "execute": {
     "shell": {
      "execute_reply": "2022-02-16T11:08:29.098413+00:00"
     }
    },
    "iopub": {
     "execute_input": "2022-02-16T11:08:25.039636+00:00",
     "status": {
      "busy": "2022-02-16T11:08:25.038767+00:00",
      "idle": "2022-02-16T11:08:29.099088+00:00"
     }
    }
   },
   "outputs": [
    {
     "name": "stderr",
     "output_type": "stream",
     "text": [
      "\r",
      "  0%|                                                                        | 0/20 [00:00<?, ?it/s]"
     ]
    },
    {
     "name": "stderr",
     "output_type": "stream",
     "text": [
      "\r",
      "  5%|███▏                                                            | 1/20 [00:00<00:03,  4.99it/s]"
     ]
    },
    {
     "name": "stderr",
     "output_type": "stream",
     "text": [
      "\r",
      " 10%|██████▍                                                         | 2/20 [00:00<00:03,  4.97it/s]"
     ]
    },
    {
     "name": "stderr",
     "output_type": "stream",
     "text": [
      "\r",
      " 15%|█████████▌                                                      | 3/20 [00:00<00:03,  4.97it/s]"
     ]
    },
    {
     "name": "stderr",
     "output_type": "stream",
     "text": [
      "\r",
      " 20%|████████████▊                                                   | 4/20 [00:00<00:03,  4.96it/s]"
     ]
    },
    {
     "name": "stderr",
     "output_type": "stream",
     "text": [
      "\r",
      " 25%|████████████████                                                | 5/20 [00:01<00:03,  4.96it/s]"
     ]
    },
    {
     "name": "stderr",
     "output_type": "stream",
     "text": [
      "\r",
      " 30%|███████████████████▏                                            | 6/20 [00:01<00:02,  4.96it/s]"
     ]
    },
    {
     "name": "stderr",
     "output_type": "stream",
     "text": [
      "\r",
      " 35%|██████████████████████▍                                         | 7/20 [00:01<00:02,  4.96it/s]"
     ]
    },
    {
     "name": "stderr",
     "output_type": "stream",
     "text": [
      "\r",
      " 40%|█████████████████████████▌                                      | 8/20 [00:01<00:02,  4.96it/s]"
     ]
    },
    {
     "name": "stderr",
     "output_type": "stream",
     "text": [
      "\r",
      " 45%|████████████████████████████▊                                   | 9/20 [00:01<00:02,  4.97it/s]"
     ]
    },
    {
     "name": "stderr",
     "output_type": "stream",
     "text": [
      "\r",
      " 50%|███████████████████████████████▌                               | 10/20 [00:02<00:02,  4.97it/s]"
     ]
    },
    {
     "name": "stderr",
     "output_type": "stream",
     "text": [
      "\r",
      " 55%|██████████████████████████████████▋                            | 11/20 [00:02<00:01,  4.97it/s]"
     ]
    },
    {
     "name": "stderr",
     "output_type": "stream",
     "text": [
      "\r",
      " 60%|█████████████████████████████████████▊                         | 12/20 [00:02<00:01,  4.97it/s]"
     ]
    },
    {
     "name": "stderr",
     "output_type": "stream",
     "text": [
      "\r",
      " 65%|████████████████████████████████████████▉                      | 13/20 [00:02<00:01,  4.97it/s]"
     ]
    },
    {
     "name": "stderr",
     "output_type": "stream",
     "text": [
      "\r",
      " 70%|████████████████████████████████████████████                   | 14/20 [00:02<00:01,  4.97it/s]"
     ]
    },
    {
     "name": "stderr",
     "output_type": "stream",
     "text": [
      "\r",
      " 75%|███████████████████████████████████████████████▎               | 15/20 [00:03<00:01,  4.97it/s]"
     ]
    },
    {
     "name": "stderr",
     "output_type": "stream",
     "text": [
      "\r",
      " 80%|██████████████████████████████████████████████████▍            | 16/20 [00:03<00:00,  4.97it/s]"
     ]
    },
    {
     "name": "stderr",
     "output_type": "stream",
     "text": [
      "\r",
      " 85%|█████████████████████████████████████████████████████▌         | 17/20 [00:03<00:00,  4.97it/s]"
     ]
    },
    {
     "name": "stderr",
     "output_type": "stream",
     "text": [
      "\r",
      " 90%|████████████████████████████████████████████████████████▋      | 18/20 [00:03<00:00,  4.97it/s]"
     ]
    },
    {
     "name": "stderr",
     "output_type": "stream",
     "text": [
      "\r",
      " 95%|███████████████████████████████████████████████████████████▊   | 19/20 [00:03<00:00,  4.97it/s]"
     ]
    },
    {
     "name": "stderr",
     "output_type": "stream",
     "text": [
      "\r",
      "100%|███████████████████████████████████████████████████████████████| 20/20 [00:04<00:00,  4.97it/s]"
     ]
    },
    {
     "name": "stderr",
     "output_type": "stream",
     "text": [
      "\r",
      "100%|███████████████████████████████████████████████████████████████| 20/20 [00:04<00:00,  4.97it/s]"
     ]
    },
    {
     "name": "stderr",
     "output_type": "stream",
     "text": [
      "\n"
     ]
    }
   ],
   "source": [
    "import time\n",
    "from tqdm import tqdm\n",
    "\n",
    "for i in tqdm(range(20), ncols=100):\n",
    "    time.sleep(0.2)"
   ]
  },
  {
   "cell_type": "code",
   "execution_count": 10,
   "id": "438b1715",
   "metadata": {
    "execute": {
     "shell": {
      "execute_reply": "2022-02-16T11:08:33.187586+00:00"
     }
    },
    "iopub": {
     "execute_input": "2022-02-16T11:08:29.100639+00:00",
     "status": {
      "busy": "2022-02-16T11:08:29.100293+00:00",
      "idle": "2022-02-16T11:08:33.188270+00:00"
     }
    }
   },
   "outputs": [],
   "source": [
    "from rich.progress import track\n",
    "\n",
    "for _ in track(range(20)):\n",
    "    time.sleep(0.2)"
   ]
  },
  {
   "cell_type": "markdown",
   "id": "b3a7402a",
   "metadata": {},
   "outputs": [],
   "source": [
    "This means it can also display colored output from external commands:"
   ]
  },
  {
   "cell_type": "code",
   "execution_count": 11,
   "id": "6e2484f6",
   "metadata": {
    "execute": {
     "shell": {
      "execute_reply": "2022-02-16T11:08:33.317773+00:00"
     }
    },
    "iopub": {
     "execute_input": "2022-02-16T11:08:33.189476+00:00",
     "status": {
      "busy": "2022-02-16T11:08:33.189220+00:00",
      "idle": "2022-02-16T11:08:33.320167+00:00"
     }
    }
   },
   "outputs": [
    {
     "name": "stdout",
     "output_type": "stream",
     "text": [
      "\u001b[1;34md\u001b[33mr\u001b[31mw\u001b[32mx\u001b[0m\u001b[33mr\u001b[38;5;244m-\u001b[32mx\u001b[33mr\u001b[38;5;244m-\u001b[32mx\u001b[0m    \u001b[38;5;244m-\u001b[0m \u001b[1;33mjosiah\u001b[0m \u001b[34m19 Aug 20:47\u001b[0m \u001b[34m \u001b[1m__pycache__\u001b[0m\r\n",
      "\u001b[1;34md\u001b[33mr\u001b[31mw\u001b[32mx\u001b[0m\u001b[33mr\u001b[38;5;244m-\u001b[32mx\u001b[33mr\u001b[38;5;244m-\u001b[32mx\u001b[0m    \u001b[38;5;244m-\u001b[0m \u001b[1;33mjosiah\u001b[0m \u001b[34m28 Aug 14:37\u001b[0m \u001b[34m \u001b[1mdist\u001b[0m\r\n",
      "\u001b[1;34md\u001b[33mr\u001b[31mw\u001b[32mx\u001b[0m\u001b[33mr\u001b[38;5;244m-\u001b[32mx\u001b[33mr\u001b[38;5;244m-\u001b[32mx\u001b[0m    \u001b[38;5;244m-\u001b[0m \u001b[1;33mjosiah\u001b[0m \u001b[34m18 Aug 14:48\u001b[0m \u001b[34m \u001b[1mdocs\u001b[0m\r\n",
      "\u001b[1;34md\u001b[33mr\u001b[31mw\u001b[32mx\u001b[0m\u001b[33mr\u001b[38;5;244m-\u001b[32mx\u001b[33mr\u001b[38;5;244m-\u001b[32mx\u001b[0m    \u001b[38;5;244m-\u001b[0m \u001b[1;33mjosiah\u001b[0m \u001b[34m18 Aug 14:48\u001b[0m \u001b[34m \u001b[1meuporie\u001b[0m\r\n",
      "\u001b[1;34md\u001b[33mr\u001b[31mw\u001b[32mx\u001b[0m\u001b[33mr\u001b[38;5;244m-\u001b[32mx\u001b[33mr\u001b[38;5;244m-\u001b[32mx\u001b[0m    \u001b[38;5;244m-\u001b[0m \u001b[1;33mjosiah\u001b[0m \u001b[34m 8 Aug 16:01\u001b[0m \u001b[34m \u001b[1mmedia\u001b[0m\r\n",
      "\u001b[1;34md\u001b[33mr\u001b[31mw\u001b[32mx\u001b[0m\u001b[33mr\u001b[38;5;244m-\u001b[32mx\u001b[33mr\u001b[38;5;244m-\u001b[32mx\u001b[0m    \u001b[38;5;244m-\u001b[0m \u001b[1;33mjosiah\u001b[0m \u001b[34m28 Aug 14:35\u001b[0m \u001b[34m \u001b[1mscripts\u001b[0m\r\n",
      "\u001b[1;34md\u001b[33mr\u001b[31mw\u001b[32mx\u001b[0m\u001b[33mr\u001b[38;5;244m-\u001b[32mx\u001b[33mr\u001b[38;5;244m-\u001b[32mx\u001b[0m    \u001b[38;5;244m-\u001b[0m \u001b[1;33mjosiah\u001b[0m \u001b[34m26 Aug 14:06\u001b[0m \u001b[34m \u001b[1mtests\u001b[0m\r\n",
      ".\u001b[1;33mr\u001b[31mw\u001b[0m\u001b[38;5;244m-\u001b[33mr\u001b[38;5;244m--\u001b[33mr\u001b[38;5;244m--\u001b[0m  \u001b[1;32m13\u001b[0m\u001b[32mk\u001b[0m \u001b[1;33mjosiah\u001b[0m \u001b[34m29 Aug 08:06\u001b[0m  CHANGELOG.rst\r\n",
      ".\u001b[1;33mr\u001b[31mw\u001b[0m\u001b[38;5;244m-\u001b[33mr\u001b[38;5;244m--\u001b[33mr\u001b[38;5;244m--\u001b[0m \u001b[1;32m1.1\u001b[0m\u001b[32mk\u001b[0m \u001b[1;33mjosiah\u001b[0m \u001b[34m18 Aug 14:48\u001b[0m  LICENSE\r\n",
      ".\u001b[1;33mr\u001b[31mw\u001b[0m\u001b[38;5;244m-\u001b[33mr\u001b[38;5;244m--\u001b[33mr\u001b[38;5;244m--\u001b[0m  \u001b[1;32m17\u001b[0m\u001b[32mM\u001b[0m \u001b[1;33mjosiah\u001b[0m \u001b[34m29 Aug 08:17\u001b[0m  log.log\r\n",
      ".\u001b[1;33mr\u001b[31mw\u001b[0m\u001b[38;5;244m-\u001b[33mr\u001b[38;5;244m--\u001b[33mr\u001b[38;5;244m--\u001b[0m \u001b[1;32m5.6\u001b[0m\u001b[32mk\u001b[0m \u001b[1;33mjosiah\u001b[0m \u001b[34m18 Aug 14:48\u001b[0m  noxfile.py\r\n",
      ".\u001b[1;33mr\u001b[31mw\u001b[0m\u001b[38;5;244m-\u001b[33mr\u001b[38;5;244m--\u001b[33mr\u001b[38;5;244m--\u001b[0m \u001b[1;32m6.6\u001b[0m\u001b[32mk\u001b[0m \u001b[1;33mjosiah\u001b[0m \u001b[34m27 Aug 11:05\u001b[0m  output.log\r\n",
      ".\u001b[1;33mr\u001b[31mw\u001b[0m\u001b[38;5;244m-\u001b[33mr\u001b[38;5;244m--\u001b[33mr\u001b[38;5;244m--\u001b[0m \u001b[1;32m179\u001b[0m\u001b[32mk\u001b[0m \u001b[1;33mjosiah\u001b[0m \u001b[34m28 Aug 17:37\u001b[0m  poetry.lock\r\n",
      ".\u001b[1;33mr\u001b[31mw\u001b[0m\u001b[38;5;244m-\u001b[33mr\u001b[38;5;244m--\u001b[33mr\u001b[38;5;244m--\u001b[0m \u001b[1;32m299\u001b[0m\u001b[32mk\u001b[0m \u001b[1;33mjosiah\u001b[0m \u001b[34m26 Aug 21:57\u001b[0m  profile.log\r\n",
      ".\u001b[1;33mr\u001b[31mw\u001b[0m\u001b[38;5;244m-\u001b[33mr\u001b[38;5;244m--\u001b[33mr\u001b[38;5;244m--\u001b[0m  \u001b[1;32m11\u001b[0m\u001b[32mk\u001b[0m \u001b[1;33mjosiah\u001b[0m \u001b[34m28 Aug 14:37\u001b[0m  publish.log\r\n",
      ".\u001b[1;33mr\u001b[31mw\u001b[0m\u001b[38;5;244m-\u001b[33mr\u001b[38;5;244m--\u001b[33mr\u001b[38;5;244m--\u001b[0m \u001b[1;32m4.1\u001b[0m\u001b[32mk\u001b[0m \u001b[1;33mjosiah\u001b[0m \u001b[34m28 Aug 17:34\u001b[0m  pyproject.toml\r\n",
      ".\u001b[1;33mr\u001b[31mw\u001b[0m\u001b[38;5;244m-\u001b[33mr\u001b[38;5;244m--\u001b[33mr\u001b[38;5;244m--\u001b[0m \u001b[1;32m4.4\u001b[0m\u001b[32mk\u001b[0m \u001b[1;33mjosiah\u001b[0m \u001b[34m28 Aug 14:35\u001b[0m \u001b[33m \u001b[1;4mREADME.rst\u001b[0m\r\n",
      ".\u001b[1;33mr\u001b[31mw\u001b[0m\u001b[38;5;244m-\u001b[33mr\u001b[38;5;244m--\u001b[33mr\u001b[38;5;244m--\u001b[0m  \u001b[1;32m11\u001b[0m\u001b[32mk\u001b[0m \u001b[1;33mjosiah\u001b[0m \u001b[34m29 Aug 08:05\u001b[0m  ROADMAP.log\r\n"
     ]
    }
   ],
   "source": [
    "!exa -l --icons --group-directories-first"
   ]
  },
  {
   "cell_type": "markdown",
   "execution_count": null,
   "id": "025efbf2",
   "metadata": {
    "execute": {
     "shell": {
      "execute_reply": "2022-02-03T11:12:36.296087+00:00"
     }
    },
    "iopub": {
     "status": {
      "busy": "2022-02-03T11:12:36.295875+00:00",
      "idle": "2022-02-03T11:12:36.296226+00:00"
     }
    }
   },
   "source": [
    "## Requesting input\n",
    "\n",
    "`euoporie` can response to requests for user input from the kernel (press enter to send your input):"
   ]
  },
  {
   "cell_type": "code",
   "execution_count": 12,
   "id": "7f7bf223",
   "metadata": {
    "execute": {
     "shell": {
      "execute_reply": "2022-02-16T11:08:25.034779+00:00"
     }
    },
    "iopub": {
     "execute_input": "2022-02-16T11:08:22.065738+00:00",
     "status": {
      "busy": "2022-02-16T11:08:22.065489+00:00",
      "idle": "2022-02-16T11:08:25.037180+00:00"
     }
    }
   },
   "outputs": [
    {
     "name": "stdout",
     "output_type": "stream",
     "text": [
      "Hello Josiah\n"
     ]
    }
   ],
   "source": [
    "name = input(\"Enter your name:\")\n",
    "print(f\"Hello {name}\")"
   ]
  },
  {
   "cell_type": "markdown",
   "id": "6e805611",
   "metadata": {},
   "outputs": [],
   "source": [
    "## `ipywidgets`\n",
    "\n",
    "Euporie supports most of the widgets in `ipywidgets`, allowing you to build interactive applications inside your notebook in the terminal.\n",
    "\n",
    "Run the following cell to try it out:"
   ]
  },
  {
   "cell_type": "code",
   "id": "407fe0a1",
   "metadata": {},
   "outputs": [],
   "source": [
    "import numpy as np\n",
    "from matplotlib import pyplot as plt\n",
    "from ipywidgets import widgets as w\n",
    "from ipywidgets import interactive\n",
    "\n",
    "def plot(n, color):\n",
    "    x = np.arange(-20, 20, 0.1)\n",
    "    y = np.sin(n*x) / x\n",
    "    fig, ax = plt.subplots(figsize=(15, 4))\n",
    "    ax.plot(x, y, c=color, lw=5)\n",
    "    plt.show()\n",
    "\n",
    "n=w.IntSlider(description=\"n\", value=2, min=-10, max=10)\n",
    "color = w.ColorPicker(value=\"red\", description=\"Colour\")\n",
    "output = w.interactive_output(plot, {'n':n, 'color': color})\n",
    "\n",
    "w.VBox([n, color, output])"
   ]
  },
  {
   "cell_type": "markdown",
   "execution_count": 12,
   "id": "84724255",
   "metadata": {},
   "source": [
    "---\n",
    "\n",
    "If you like `euporie`, please [star it on GitHub](https://github.com/joouha/euporie/)\n",
    "\n",
    "⭐ https://github.com/joouha/euporie/"
   ]
  }
 ],
 "metadata": {
  "kernelspec": {
   "display_name": "Python 3 (ipykernel)",
   "language": "python",
   "name": "python3"
  },
  "language_info": {
   "codemirror_mode": {
    "name": "ipython",
    "version": 3
   },
   "file_extension": ".py",
   "mimetype": "text/x-python",
   "name": "python",
   "nbconvert_exporter": "python",
   "pygments_lexer": "ipython3",
   "version": "3.10.6"
  },
  "widgets": {
   "application/vnd.jupyter.widget-state+json": {
    "state": {},
    "version_major": 2,
    "version_minor": 0
   }
  }
 },
 "nbformat": 4,
 "nbformat_minor": 5
}
