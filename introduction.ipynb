{
 "cells": [
  {
   "cell_type": "markdown",
   "id": "33c6cb91",
   "metadata": {
    "execute": {
     "shell": {
      "execute_reply": "2021-12-17T08:24:16.474532+00:00"
     }
    },
    "iopub": {
     "execute_input": "2021-12-17T08:24:16.436450+00:00",
     "status": {
      "busy": "2021-12-17T08:24:16.435832+00:00",
      "idle": "2021-12-17T08:24:16.475079+00:00"
     }
    }
   },
   "source": [
    "# euporie\n",
    "\n",
    "Welcome to this demo of `euporie`, a terminal based interactive development environment for Jupyter notebooks.\n",
    "\n",
    "- Use the arrow keys or the mouse to navigate between cells\n",
    "- Use `[` and `]` (or the mouse wheel) to scroll up and down\n",
    "- Press `Enter` to edit a cell\n",
    "- Press `Esc Esc` to stop editing a cell\n",
    "- Press `Ctrl+e` to execute or render a cell\n",
    "\n",
    "---"
   ]
  },
  {
   "cell_type": "markdown",
   "id": "ce4eccd0",
   "metadata": {},
   "source": [
    "## Markdown\n",
    "\n",
    "`euporie` will render the _markdown cells_ in your notebook. This includes rendering blocks and inline styles:\n",
    "\n",
    "> *Like* **this**"
   ]
  },
  {
   "cell_type": "markdown",
   "id": "c44fe2a8",
   "metadata": {},
   "source": [
    "This also includes rendering tables:\n",
    "\n",
    "\n",
    "| Item       | Can `euporie` display it? |\n",
    "|-----------:|:--------------------------|\n",
    "| **Markdown** | Yes\n",
    "| **Tables** | Yes\n",
    "| **LaTeX**  | Yes"
   ]
  },
  {
   "cell_type": "markdown",
   "id": "f48ff2a5",
   "metadata": {},
   "source": [
    "It can also render LaTex maths equations in markdown cells:\n",
    "\n",
    "$$\n",
    "s = ut + \\frac{1}{2} a t^2\n",
    "$$\n",
    "\n",
    "$$\n",
    "x =\\frac{-b \\pm \\sqrt(\\frac{1}{2} a b^2)}{2a}\n",
    "$$\n",
    "\n",
    "$$\n",
    "f(x) = \\sum{\\frac{f^{(0)}(0)}{i!}x^{i}}\n",
    "$$"
   ]
  },
  {
   "cell_type": "markdown",
   "id": "dbbd1fdd",
   "metadata": {},
   "source": [
    "## Cell Output\n",
    "\n",
    "`euporie` also renders rich cell output, including Markdown, HTML, and images. This means you can use libraries like `pandas`, and display dataframes as you would expect:"
   ]
  },
  {
   "cell_type": "code",
   "execution_count": 2,
   "id": "bac4fa8d",
   "metadata": {
    "execute": {
     "shell": {
      "execute_reply": "2022-01-14T09:26:16.892898+00:00"
     }
    },
    "iopub": {
     "execute_input": "2022-01-14T09:26:16.882610+00:00",
     "status": {
      "busy": "2022-01-14T09:26:16.882003+00:00",
      "idle": "2022-01-14T09:26:16.894362+00:00"
     }
    }
   },
   "outputs": [
    {
     "data": {
      "text/markdown": [
       "Regular *Italic* **Bold**"
      ]
     },
     "metadata": {},
     "output_type": "display_data"
    }
   ],
   "source": [
    "from IPython.display import *\n",
    "\n",
    "display({\"text/markdown\": \"Regular *Italic* **Bold**\"}, raw=True)"
   ]
  },
  {
   "cell_type": "code",
   "execution_count": 2,
   "id": "912b196a",
   "metadata": {
    "execute": {
     "shell": {
      "execute_reply": "2022-01-14T09:12:57.692812+00:00"
     }
    },
    "iopub": {
     "execute_input": "2022-01-14T09:12:57.511580+00:00",
     "status": {
      "busy": "2022-01-14T09:12:57.511073+00:00",
      "idle": "2022-01-14T09:12:57.694481+00:00"
     }
    }
   },
   "outputs": [
    {
     "data": {
      "image/png": "[encoded data removed]",
      "text/plain": [
       "<IPython.core.display.Image object>"
      ]
     },
     "execution_count": 2,
     "metadata": {},
     "output_type": "execute_result"
    }
   ],
   "source": [
    "import urllib.request\n",
    "data = urllib.request.urlopen(\"https://www.python.org/static/img/python-logo.png\").read()\n",
    "Image(data)"
   ]
  },
  {
   "cell_type": "markdown",
   "id": "43a7ed60",
   "metadata": {},
   "source": [
    "This means you can use libraries like `pandas`, and display dataframes as you would expect:"
   ]
  },
  {
   "cell_type": "code",
   "execution_count": 2,
   "id": "5dc84d78",
   "metadata": {
    "execute": {
     "shell": {
      "execute_reply": "2022-01-14T09:15:29.908135+00:00"
     }
    },
    "iopub": {
     "execute_input": "2022-01-14T09:15:29.573254+00:00",
     "status": {
      "busy": "2022-01-14T09:15:29.572773+00:00",
      "idle": "2022-01-14T09:15:29.908677+00:00"
     }
    }
   },
   "outputs": [
    {
     "data": {
      "text/html": [
       "<div>\n",
       "<style scoped>\n",
       "    .dataframe tbody tr th:only-of-type {\n",
       "        vertical-align: middle;\n",
       "    }\n",
       "\n",
       "    .dataframe tbody tr th {\n",
       "        vertical-align: top;\n",
       "    }\n",
       "\n",
       "    .dataframe thead th {\n",
       "        text-align: right;\n",
       "    }\n",
       "</style>\n",
       "<table border=\"1\" class=\"dataframe\">\n",
       "  <thead>\n",
       "    <tr style=\"text-align: right;\">\n",
       "      <th></th>\n",
       "      <th>a</th>\n",
       "      <th>b</th>\n",
       "      <th>c</th>\n",
       "      <th>d</th>\n",
       "    </tr>\n",
       "  </thead>\n",
       "  <tbody>\n",
       "    <tr>\n",
       "      <th>0</th>\n",
       "      <td>0.253493</td>\n",
       "      <td>0.491848</td>\n",
       "      <td>0.762239</td>\n",
       "      <td>0.792933</td>\n",
       "    </tr>\n",
       "    <tr>\n",
       "      <th>1</th>\n",
       "      <td>0.161360</td>\n",
       "      <td>0.161598</td>\n",
       "      <td>0.428004</td>\n",
       "      <td>0.462931</td>\n",
       "    </tr>\n",
       "    <tr>\n",
       "      <th>2</th>\n",
       "      <td>0.009049</td>\n",
       "      <td>0.563702</td>\n",
       "      <td>0.629914</td>\n",
       "      <td>0.538164</td>\n",
       "    </tr>\n",
       "    <tr>\n",
       "      <th>3</th>\n",
       "      <td>0.722267</td>\n",
       "      <td>0.461207</td>\n",
       "      <td>0.308100</td>\n",
       "      <td>0.733658</td>\n",
       "    </tr>\n",
       "    <tr>\n",
       "      <th>4</th>\n",
       "      <td>0.149986</td>\n",
       "      <td>0.375017</td>\n",
       "      <td>0.908464</td>\n",
       "      <td>0.867084</td>\n",
       "    </tr>\n",
       "  </tbody>\n",
       "</table>\n",
       "</div>"
      ],
      "text/plain": [
       "          a         b         c         d\n",
       "0  0.253493  0.491848  0.762239  0.792933\n",
       "1  0.161360  0.161598  0.428004  0.462931\n",
       "2  0.009049  0.563702  0.629914  0.538164\n",
       "3  0.722267  0.461207  0.308100  0.733658\n",
       "4  0.149986  0.375017  0.908464  0.867084"
      ]
     },
     "execution_count": 2,
     "metadata": {},
     "output_type": "execute_result"
    }
   ],
   "source": [
    "import pandas as pd\n",
    "import numpy as np\n",
    "\n",
    "x = np.arange(20_000)\n",
    "\n",
    "df = pd.DataFrame(\n",
    "    {\n",
    "        col: np.random.beta(i+1, 3, x.shape)\n",
    "        for col, i in zip(\"abcd\", [0, 2, 4, 6])\n",
    "    },\n",
    "    index = x,\n",
    ")\n",
    "df.head()"
   ]
  },
  {
   "cell_type": "markdown",
   "id": "10690823",
   "metadata": {},
   "source": [
    "`euporie` can render images using Sixel graphics if your terminal supports it. Otherwise it will fall back to using character-based terminal graphics.\n",
    "\n",
    "This means you can produce plots with `matplotlib` and `euporie` will display them in the best way it can:"
   ]
  },
  {
   "cell_type": "code",
   "execution_count": 7,
   "id": "2017c662",
   "metadata": {
    "execute": {
     "shell": {
      "execute_reply": "2022-01-14T09:16:15.916088+00:00"
     }
    },
    "iopub": {
     "execute_input": "2022-01-14T09:16:15.118061+00:00",
     "status": {
      "busy": "2022-01-14T09:16:15.117565+00:00",
      "idle": "2022-01-14T09:16:15.916930+00:00"
     }
    }
   },
   "outputs": [
    {
     "data": {
      "image/png": "[encoded data removed]",
      "text/plain": [
       "<Figure size 1080x288 with 1 Axes>"
      ]
     },
     "metadata": {},
     "output_type": "display_data"
    }
   ],
   "source": [
    "from matplotlib import pyplot as plt\n",
    "\n",
    "fig, ax = plt.subplots(figsize=(15, 4), facecolor=\"#FFF\")\n",
    "df.plot.hist(ax=ax, bins=80, alpha=0.75)\n",
    "plt.show()"
   ]
  },
  {
   "cell_type": "markdown",
   "id": "f85075bd",
   "metadata": {},
   "source": [
    "If your terminal does not support graphics, the excellent `plotext` library works very well with euporie:"
   ]
  },
  {
   "cell_type": "code",
   "execution_count": 1,
   "id": "a36015d6",
   "metadata": {
    "execute": {
     "shell": {
      "execute_reply": "2022-01-14T09:26:05.743422+00:00"
     }
    },
    "iopub": {
     "execute_input": "2022-01-14T09:26:05.082287+00:00",
     "status": {
      "busy": "2022-01-14T09:26:05.081138+00:00",
      "idle": "2022-01-14T09:16:23.151911+00:00"
     }
    }
   },
   "outputs": [
    {
     "ename": "NameError",
     "evalue": "name 'df' is not defined",
     "output_type": "error",
     "traceback": [
      "\u001b[0;31m---------------------------------------------------------------------------\u001b[0m",
      "\u001b[0;31mNameError\u001b[0m                                 Traceback (most recent call last)",
      "Input \u001b[0;32mIn [1]\u001b[0m, in \u001b[0;36m<module>\u001b[0;34m\u001b[0m\n\u001b[1;32m      3\u001b[0m plt\u001b[38;5;241m.\u001b[39mclear_figure()\n\u001b[1;32m      4\u001b[0m plt\u001b[38;5;241m.\u001b[39mplot_size(\u001b[38;5;241m100\u001b[39m, \u001b[38;5;241m15\u001b[39m)\n\u001b[0;32m----> 5\u001b[0m \u001b[38;5;28;01mfor\u001b[39;00m name, col \u001b[38;5;129;01min\u001b[39;00m \u001b[43mdf\u001b[49m\u001b[38;5;241m.\u001b[39mitems():\n\u001b[1;32m      6\u001b[0m     plt\u001b[38;5;241m.\u001b[39mhist(col\u001b[38;5;241m.\u001b[39mvalues, \u001b[38;5;241m80\u001b[39m, label\u001b[38;5;241m=\u001b[39mname)\n\u001b[1;32m      7\u001b[0m plt\u001b[38;5;241m.\u001b[39mtitle(\u001b[38;5;124m\"\u001b[39m\u001b[38;5;124mHistogram Plot\u001b[39m\u001b[38;5;124m\"\u001b[39m)\n",
      "\u001b[0;31mNameError\u001b[0m: name 'df' is not defined"
     ]
    }
   ],
   "source": [
    "import plotext as plt\n",
    "\n",
    "plt.clear_figure()\n",
    "plt.plot_size(100, 15)\n",
    "for name, col in df.items():\n",
    "    plt.hist(col.values, 80, label=name)\n",
    "plt.title(\"Histogram Plot\")\n",
    "plt.show()"
   ]
  },
  {
   "cell_type": "markdown",
   "id": "2c5ea8bf",
   "metadata": {},
   "source": [
    "`euoporie` can response to requests for user input from the kernel (press enter to send your input):"
   ]
  },
  {
   "cell_type": "code",
   "execution_count": 1,
   "id": "e7ba2b1c",
   "metadata": {
    "execute": {
     "shell": {
      "execute_reply": "2022-01-14T08:49:15.987539+00:00"
     }
    },
    "iopub": {
     "execute_input": "2022-01-14T08:49:12.856317+00:00",
     "status": {
      "busy": "2022-01-14T08:49:12.855652+00:00",
      "idle": "2022-01-14T08:49:15.988371+00:00"
     }
    }
   },
   "outputs": [
    {
     "name": "stdout",
     "output_type": "stream",
     "text": [
      "Hello Josiah\n"
     ]
    }
   ],
   "source": [
    "name = input(\"Enter your name:\")\n",
    "print(f\"Hello {name}\")"
   ]
  },
  {
   "cell_type": "markdown",
   "id": "930e6d01",
   "metadata": {},
   "source": [
    "`euporie` works with `tqdm`, so you can display progress-bars in your notebooks:"
   ]
  },
  {
   "cell_type": "code",
   "execution_count": null,
   "id": "647ba74c",
   "metadata": {
    "execute": {
     "shell": {
      "execute_reply": "2021-12-17T15:53:10.342386+00:00"
     }
    },
    "iopub": {
     "execute_input": "2021-12-17T15:53:06.302137+00:00",
     "status": {
      "busy": "2021-12-17T15:53:06.301149+00:00",
      "idle": "2021-12-17T15:53:10.343303+00:00"
     }
    }
   },
   "outputs": [
    {
     "name": "stderr",
     "output_type": "stream",
     "text": [
      "100%|███████████████████████████████████████████████████████████████| 20/20 [00:04<00:00,  4.97it/s]\n"
     ]
    }
   ],
   "source": [
    "import time\n",
    "from tqdm import tqdm\n",
    "\n",
    "for i in tqdm(range(20), ncols=100):\n",
    "    time.sleep(0.2)"
   ]
  },
  {
   "cell_type": "markdown",
   "id": "dfc0850d",
   "metadata": {},
   "source": [
    "And can display colorful ANSI output from command line programs:"
   ]
  },
  {
   "cell_type": "code",
   "execution_count": 3,
   "id": "6e2484f6",
   "metadata": {
    "execute": {
     "shell": {
      "execute_reply": "2022-01-13T16:03:33.512122+00:00"
     }
    },
    "iopub": {
     "execute_input": "2022-01-13T16:03:33.343231+00:00",
     "status": {
      "busy": "2022-01-13T16:03:33.342304+00:00",
      "idle": "2022-01-13T16:03:33.513024+00:00"
     }
    }
   },
   "outputs": [
    {
     "name": "stdout",
     "output_type": "stream",
     "text": [
      "\u001b[1;34md\u001b[0m\u001b[32mr\u001b[33mw\u001b[31mx\u001b[32mr\u001b[38;5;245m-\u001b[31mx\u001b[32mr\u001b[38;5;245m-\u001b[31mx\u001b[0m \u001b[38;5;230mjosiah\u001b[0m \u001b[38;5;187mjosiah\u001b[0m \u001b[38;5;229m4.0\u001b[0m \u001b[38;5;229mKB\u001b[0m \u001b[38;5;36mMon Jan 10 14:57:41 2022\u001b[0m \u001b[1;34m __pycache__\u001b[0m\r\n",
      ".\u001b[32mr\u001b[33mw\u001b[38;5;245m-\u001b[32mr\u001b[38;5;245m--\u001b[32mr\u001b[38;5;245m--\u001b[0m \u001b[38;5;230mjosiah\u001b[0m \u001b[38;5;187mjosiah\u001b[0m \u001b[38;5;229m1.2\u001b[0m \u001b[38;5;229mKB\u001b[0m \u001b[38;5;42mWed Jan 12 18:06:31 2022\u001b[0m  CHANGELOG.rst\r\n",
      "\u001b[1;34md\u001b[0m\u001b[32mr\u001b[33mw\u001b[31mx\u001b[32mr\u001b[38;5;245m-\u001b[31mx\u001b[32mr\u001b[38;5;245m-\u001b[31mx\u001b[0m \u001b[38;5;230mjosiah\u001b[0m \u001b[38;5;187mjosiah\u001b[0m \u001b[38;5;229m4.0\u001b[0m \u001b[38;5;229mKB\u001b[0m \u001b[38;5;36mMon Jan 10 18:11:45 2022\u001b[0m \u001b[1;34m dist\u001b[0m\r\n",
      "\u001b[1;34md\u001b[0m\u001b[32mr\u001b[33mw\u001b[31mx\u001b[32mr\u001b[38;5;245m-\u001b[31mx\u001b[32mr\u001b[38;5;245m-\u001b[31mx\u001b[0m \u001b[38;5;230mjosiah\u001b[0m \u001b[38;5;187mjosiah\u001b[0m \u001b[38;5;229m4.0\u001b[0m \u001b[38;5;229mKB\u001b[0m \u001b[38;5;42mThu Jan 13 15:01:42 2022\u001b[0m \u001b[1;34m euporie\u001b[0m\r\n",
      ".\u001b[32mr\u001b[33mw\u001b[38;5;245m-\u001b[32mr\u001b[38;5;245m--\u001b[32mr\u001b[38;5;245m--\u001b[0m \u001b[38;5;230mjosiah\u001b[0m \u001b[38;5;187mjosiah\u001b[0m \u001b[38;5;229m1.1\u001b[0m \u001b[38;5;229mKB\u001b[0m \u001b[38;5;36mFri May 21 07:59:37 2021\u001b[0m  LICENSE\r\n",
      ".\u001b[32mr\u001b[33mw\u001b[38;5;245m-\u001b[32mr\u001b[38;5;245m--\u001b[32mr\u001b[38;5;245m--\u001b[0m \u001b[38;5;230mjosiah\u001b[0m \u001b[38;5;187m100\u001b[0m     \u001b[38;5;216m55\u001b[0m \u001b[38;5;216mMB\u001b[0m \u001b[38;5;40mThu Jan 13 16:03:33 2022\u001b[0m  log.log\r\n",
      "\u001b[1;34md\u001b[0m\u001b[32mr\u001b[33mw\u001b[31mx\u001b[32mr\u001b[38;5;245m-\u001b[31mx\u001b[32mr\u001b[38;5;245m-\u001b[31mx\u001b[0m \u001b[38;5;230mjosiah\u001b[0m \u001b[38;5;187mjosiah\u001b[0m \u001b[38;5;229m4.0\u001b[0m \u001b[38;5;229mKB\u001b[0m \u001b[38;5;36mWed Jun 30 09:24:27 2021\u001b[0m \u001b[1;34m media\u001b[0m\r\n",
      ".\u001b[32mr\u001b[33mw\u001b[38;5;245m-\u001b[32mr\u001b[38;5;245m--\u001b[32mr\u001b[38;5;245m--\u001b[0m \u001b[38;5;230mjosiah\u001b[0m \u001b[38;5;187mjosiah\u001b[0m \u001b[38;5;229m4.0\u001b[0m \u001b[38;5;229mKB\u001b[0m \u001b[38;5;36mWed Jan  5 17:12:18 2022\u001b[0m  noxfile.py\r\n",
      ".\u001b[32mr\u001b[33mw\u001b[38;5;245m-\u001b[32mr\u001b[38;5;245m--\u001b[32mr\u001b[38;5;245m--\u001b[0m \u001b[38;5;230mjosiah\u001b[0m \u001b[38;5;187mjosiah\u001b[0m \u001b[38;5;229m144\u001b[0m \u001b[38;5;229mKB\u001b[0m \u001b[38;5;40mThu Jan 13 16:00:33 2022\u001b[0m  poetry.lock\r\n",
      ".\u001b[32mr\u001b[33mw\u001b[38;5;245m-\u001b[32mr\u001b[38;5;245m--\u001b[32mr\u001b[38;5;245m--\u001b[0m \u001b[38;5;230mjosiah\u001b[0m \u001b[38;5;187mjosiah\u001b[0m \u001b[38;5;229m4.0\u001b[0m \u001b[38;5;229mKB\u001b[0m \u001b[38;5;36mThu Jun 17 21:30:37 2021\u001b[0m  publish.log\r\n",
      ".\u001b[32mr\u001b[33mw\u001b[38;5;245m-\u001b[32mr\u001b[38;5;245m--\u001b[32mr\u001b[38;5;245m--\u001b[0m \u001b[38;5;230mjosiah\u001b[0m \u001b[38;5;187mjosiah\u001b[0m \u001b[38;5;229m1.6\u001b[0m \u001b[38;5;229mKB\u001b[0m \u001b[38;5;42mThu Jan 13 10:06:10 2022\u001b[0m  pyproject.toml\r\n",
      ".\u001b[32mr\u001b[33mw\u001b[38;5;245m-\u001b[32mr\u001b[38;5;245m--\u001b[32mr\u001b[38;5;245m--\u001b[0m \u001b[38;5;230mjosiah\u001b[0m \u001b[38;5;187mjosiah\u001b[0m  \u001b[38;5;229m13\u001b[0m \u001b[38;5;229mKB\u001b[0m \u001b[38;5;36mThu Jan  6 10:26:20 2022\u001b[0m  README.md\r\n",
      "\u001b[1;34md\u001b[0m\u001b[32mr\u001b[33mw\u001b[31mx\u001b[32mr\u001b[38;5;245m-\u001b[31mx\u001b[32mr\u001b[38;5;245m-\u001b[31mx\u001b[0m \u001b[38;5;230mjosiah\u001b[0m \u001b[38;5;187mjosiah\u001b[0m \u001b[38;5;229m4.0\u001b[0m \u001b[38;5;229mKB\u001b[0m \u001b[38;5;42mWed Jan 12 18:07:28 2022\u001b[0m \u001b[1;34m scripts\u001b[0m\r\n",
      "\u001b[1;34md\u001b[0m\u001b[32mr\u001b[33mw\u001b[31mx\u001b[32mr\u001b[38;5;245m-\u001b[31mx\u001b[32mr\u001b[38;5;245m-\u001b[31mx\u001b[0m \u001b[38;5;230mjosiah\u001b[0m \u001b[38;5;187mjosiah\u001b[0m \u001b[38;5;229m4.0\u001b[0m \u001b[38;5;229mKB\u001b[0m \u001b[38;5;42mWed Jan 12 18:07:28 2022\u001b[0m \u001b[1;34m tests\u001b[0m\r\n",
      ".\u001b[32mr\u001b[33mw\u001b[38;5;245m-\u001b[32mr\u001b[38;5;245m--\u001b[32mr\u001b[38;5;245m--\u001b[0m \u001b[38;5;230mjosiah\u001b[0m \u001b[38;5;187mjosiah\u001b[0m \u001b[38;5;229m2.7\u001b[0m \u001b[38;5;229mKB\u001b[0m \u001b[38;5;42mWed Jan 12 21:25:41 2022\u001b[0m  TODO.log\r\n"
     ]
    }
   ],
   "source": [
    "!ls -l --color=always"
   ]
  }
 ],
 "metadata": {
  "kernelspec": {
   "display_name": "Python 3 (ipykernel)",
   "language": "python",
   "name": "python3"
  },
  "language_info": {
   "codemirror_mode": {
    "name": "ipython",
    "version": 3
   },
   "file_extension": ".py",
   "mimetype": "text/x-python",
   "name": "python",
   "nbconvert_exporter": "python",
   "pygments_lexer": "ipython3",
   "version": "3.10.1"
  }
 },
 "nbformat": 4,
 "nbformat_minor": 5
}
