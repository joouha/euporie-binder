{
 "cells": [
  {
   "cell_type": "markdown",
   "id": "33c6cb91",
   "metadata": {
    "execute": {
     "shell": {
      "execute_reply": "2022-02-03T11:12:36.270550+00:00"
     }
    },
    "iopub": {
     "execute_input": "2022-02-03T11:12:36.263550+00:00",
     "status": {
      "busy": "2022-02-03T11:12:36.263144+00:00",
      "idle": "2021-12-17T08:24:16.475079+00:00"
     }
    }
   },
   "source": [
    "# euporie\n",
    "\n",
    "Welcome to `euporie`, a terminal based interactive development environment for Jupyter notebooks.\n",
    "\n",
    "- Use `Up` and `Down` to navigate, `Enter` to edit a cell, and `Esc` to stop editing a cell\n",
    "- Use `Ctrl+Enter` to run or render a cell, or `Shift+Enter` to additionally select the next cell.\n",
    "- You can view all keyboard shortcuts in the `Help` menu\n",
    "- The online documentation is available at [https://euporie.readthedocs.io](https://euporie.readthedocs.io)\n",
    "---"
   ]
  },
  {
   "cell_type": "markdown",
   "id": "1e737449",
   "metadata": {},
   "source": [
    "## Markdown Cells\n",
    "\n",
    "`euporie` will render markdown cells in notebooks, including elements such as:\n",
    "\n",
    "> Quote blocks\n",
    "\n",
    "1. Ordered lists\n",
    "    - Unordered lists\n",
    "    - (Another list item)\n",
    "2. **Bold**, *Italic*, ~~strikethrough~~, `code`\n",
    "\n",
    "```python\n",
    "def code_blocks():\n",
    "    return True\n",
    "```\n",
    "\n",
    "| Tables       | *with* | ~~formatting~~ |\n",
    "|-------------:|:------:|:---------------|\n",
    "| **and**      | cell   | alignment      |\n",
    "\n",
    "Inline maths: $x =\\frac{-b \\pm \\sqrt{\\frac{1}{2} a b^2}}{2a}$ and maths blocks:\n",
    "\n",
    "$$\n",
    "f = \\sum_{i = 0}^{\\infty} \\frac{f^{(i)}(0)}{i!} x^i\n",
    "$$\n",
    "\n",
    "Links: [https://euporie.readthedocs.io](https://euporie.readthedocs.io)\n",
    "\n",
    "Inline images ![](https://user-images.githubusercontent.com/12154190/160242688-440c67ca-fdba-4ca4-a941-a35e200f9813.svg) in paragraphs.\n",
    "\n",
    "---"
   ]
  },
  {
   "cell_type": "markdown",
   "id": "39eae66d",
   "metadata": {},
   "source": [
    "## Cell Output\n",
    "\n",
    "`Euporie` will also render the output of code cells.\n",
    "\n",
    "This includes displaying Markdown, LaTeX, Images, HTML, SVG, JSON, and ANSI text:"
   ]
  },
  {
   "cell_type": "code",
   "execution_count": 1,
   "id": "aa1d9c37",
   "metadata": {
    "execute": {
     "shell": {
      "execute_reply": "2022-02-16T11:08:19.149766+00:00"
     }
    },
    "iopub": {
     "execute_input": "2022-02-16T11:08:19.137229+00:00",
     "status": {
      "busy": "2022-02-16T11:08:19.135967+00:00",
      "idle": "2022-02-16T11:08:19.150514+00:00"
     }
    }
   },
   "outputs": [
    {
     "data": {
      "text/html": [
       "<b>Bold</b> <u>Underlined</u> <i>Italic</i>"
      ]
     },
     "metadata": {},
     "output_type": "display_data"
    }
   ],
   "source": [
    "display({\"text/html\": \"<b>Bold</b> <u>Underlined</u> <i>Italic</i>\"}, raw=True)"
   ]
  },
  {
   "cell_type": "code",
   "execution_count": 2,
   "id": "583a8b24",
   "metadata": {
    "execute": {
     "shell": {
      "execute_reply": "2022-02-16T11:08:19.156306+00:00"
     }
    },
    "iopub": {
     "execute_input": "2022-02-16T11:08:19.152478+00:00",
     "status": {
      "busy": "2022-02-16T11:08:19.152175+00:00",
      "idle": "2022-02-16T11:08:19.156885+00:00"
     }
    }
   },
   "outputs": [
    {
     "data": {
      "text/latex": [
       "$x =\\frac{-b \\pm \\sqrt{\\frac{1}{2} a b^2}}{2a}$"
      ]
     },
     "metadata": {},
     "output_type": "display_data"
    }
   ],
   "source": [
    "display({\"text/latex\": r\"$x =\\frac{-b \\pm \\sqrt{\\frac{1}{2} a b^2}}{2a}$\"}, raw=True)"
   ]
  },
  {
   "cell_type": "code",
   "execution_count": 3,
   "id": "97e10f0f",
   "metadata": {
    "execute": {
     "shell": {
      "execute_reply": "2022-02-16T11:08:19.526395+00:00"
     }
    },
    "iopub": {
     "execute_input": "2022-02-16T11:08:19.157955+00:00",
     "status": {
      "busy": "2022-02-16T11:08:19.157765+00:00",
      "idle": "2022-02-16T11:08:19.527257+00:00"
     }
    }
   },
   "outputs": [
    {
     "data": {
      "image/png": "[encoded data removed]",
      "text/plain": [
       "<IPython.core.display.Image object>"
      ]
     },
     "execution_count": 3,
     "metadata": {},
     "output_type": "execute_result"
    }
   ],
   "source": [
    "from IPython.display import *\n",
    "import urllib.request\n",
    "data = urllib.request.urlopen(\"https://www.python.org/static/img/python-logo.png\").read()\n",
    "Image(data)"
   ]
  },
  {
   "cell_type": "markdown",
   "id": "43a7ed60",
   "metadata": {
    "execute": {
     "shell": {
      "execute_reply": "2022-02-03T11:12:36.282953+00:00"
     }
    },
    "iopub": {
     "status": {
      "busy": "2022-02-03T11:12:36.282693+00:00",
      "idle": "2022-02-03T11:12:36.283084+00:00"
     }
    }
   },
   "source": [
    "This means you can use libraries like `pandas`, and display dataframes as you would expect:"
   ]
  },
  {
   "cell_type": "code",
   "execution_count": 4,
   "id": "5dc84d78",
   "metadata": {
    "execute": {
     "shell": {
      "execute_reply": "2022-02-16T11:08:20.296522+00:00"
     }
    },
    "iopub": {
     "execute_input": "2022-02-16T11:08:19.528869+00:00",
     "status": {
      "busy": "2022-02-16T11:08:19.528528+00:00",
      "idle": "2022-02-16T11:08:20.297331+00:00"
     }
    }
   },
   "outputs": [
    {
     "data": {
      "text/html": [
       "<style type=\"text/css\">\n",
       "#T_9853a_row0_col0, #T_9853a_row2_col0, #T_9853a_row8_col2, #T_9853a_row12_col1, #T_9853a_row12_col3 {\n",
       "  background-color: #440154;\n",
       "  color: #f1f1f1;\n",
       "}\n",
       "#T_9853a_row0_col1 {\n",
       "  background-color: #b8de29;\n",
       "  color: #000000;\n",
       "}\n",
       "#T_9853a_row0_col2, #T_9853a_row4_col1, #T_9853a_row9_col3, #T_9853a_row11_col0 {\n",
       "  background-color: #fde725;\n",
       "  color: #000000;\n",
       "}\n",
       "#T_9853a_row0_col3 {\n",
       "  background-color: #20a486;\n",
       "  color: #f1f1f1;\n",
       "}\n",
       "#T_9853a_row1_col0 {\n",
       "  background-color: #440256;\n",
       "  color: #f1f1f1;\n",
       "}\n",
       "#T_9853a_row1_col1 {\n",
       "  background-color: #277f8e;\n",
       "  color: #f1f1f1;\n",
       "}\n",
       "#T_9853a_row1_col2 {\n",
       "  background-color: #bade28;\n",
       "  color: #000000;\n",
       "}\n",
       "#T_9853a_row1_col3 {\n",
       "  background-color: #3b518b;\n",
       "  color: #f1f1f1;\n",
       "}\n",
       "#T_9853a_row2_col1 {\n",
       "  background-color: #472d7b;\n",
       "  color: #f1f1f1;\n",
       "}\n",
       "#T_9853a_row2_col2 {\n",
       "  background-color: #48c16e;\n",
       "  color: #f1f1f1;\n",
       "}\n",
       "#T_9853a_row2_col3 {\n",
       "  background-color: #95d840;\n",
       "  color: #000000;\n",
       "}\n",
       "#T_9853a_row3_col0 {\n",
       "  background-color: #1f9f88;\n",
       "  color: #f1f1f1;\n",
       "}\n",
       "#T_9853a_row3_col1 {\n",
       "  background-color: #cae11f;\n",
       "  color: #000000;\n",
       "}\n",
       "#T_9853a_row3_col2 {\n",
       "  background-color: #d2e21b;\n",
       "  color: #000000;\n",
       "}\n",
       "#T_9853a_row3_col3 {\n",
       "  background-color: #7cd250;\n",
       "  color: #000000;\n",
       "}\n",
       "#T_9853a_row4_col0 {\n",
       "  background-color: #482374;\n",
       "  color: #f1f1f1;\n",
       "}\n",
       "#T_9853a_row4_col2 {\n",
       "  background-color: #75d054;\n",
       "  color: #000000;\n",
       "}\n",
       "#T_9853a_row4_col3 {\n",
       "  background-color: #2eb37c;\n",
       "  color: #f1f1f1;\n",
       "}\n",
       "#T_9853a_row5_col0 {\n",
       "  background-color: #482979;\n",
       "  color: #f1f1f1;\n",
       "}\n",
       "#T_9853a_row5_col1 {\n",
       "  background-color: #297b8e;\n",
       "  color: #f1f1f1;\n",
       "}\n",
       "#T_9853a_row5_col2, #T_9853a_row14_col0 {\n",
       "  background-color: #355e8d;\n",
       "  color: #f1f1f1;\n",
       "}\n",
       "#T_9853a_row5_col3 {\n",
       "  background-color: #482475;\n",
       "  color: #f1f1f1;\n",
       "}\n",
       "#T_9853a_row6_col0 {\n",
       "  background-color: #34608d;\n",
       "  color: #f1f1f1;\n",
       "}\n",
       "#T_9853a_row6_col1 {\n",
       "  background-color: #306a8e;\n",
       "  color: #f1f1f1;\n",
       "}\n",
       "#T_9853a_row6_col2 {\n",
       "  background-color: #2c718e;\n",
       "  color: #f1f1f1;\n",
       "}\n",
       "#T_9853a_row6_col3 {\n",
       "  background-color: #2a768e;\n",
       "  color: #f1f1f1;\n",
       "}\n",
       "#T_9853a_row7_col0 {\n",
       "  background-color: #453882;\n",
       "  color: #f1f1f1;\n",
       "}\n",
       "#T_9853a_row7_col1 {\n",
       "  background-color: #f8e621;\n",
       "  color: #000000;\n",
       "}\n",
       "#T_9853a_row7_col2 {\n",
       "  background-color: #404588;\n",
       "  color: #f1f1f1;\n",
       "}\n",
       "#T_9853a_row7_col3 {\n",
       "  background-color: #460a5d;\n",
       "  color: #f1f1f1;\n",
       "}\n",
       "#T_9853a_row8_col0 {\n",
       "  background-color: #375b8d;\n",
       "  color: #f1f1f1;\n",
       "}\n",
       "#T_9853a_row8_col1 {\n",
       "  background-color: #58c765;\n",
       "  color: #000000;\n",
       "}\n",
       "#T_9853a_row8_col3 {\n",
       "  background-color: #2db27d;\n",
       "  color: #f1f1f1;\n",
       "}\n",
       "#T_9853a_row9_col0 {\n",
       "  background-color: #2f6c8e;\n",
       "  color: #f1f1f1;\n",
       "}\n",
       "#T_9853a_row9_col1 {\n",
       "  background-color: #33628d;\n",
       "  color: #f1f1f1;\n",
       "}\n",
       "#T_9853a_row9_col2 {\n",
       "  background-color: #3d4e8a;\n",
       "  color: #f1f1f1;\n",
       "}\n",
       "#T_9853a_row10_col0 {\n",
       "  background-color: #46337f;\n",
       "  color: #f1f1f1;\n",
       "}\n",
       "#T_9853a_row10_col1 {\n",
       "  background-color: #365c8d;\n",
       "  color: #f1f1f1;\n",
       "}\n",
       "#T_9853a_row10_col2 {\n",
       "  background-color: #4ec36b;\n",
       "  color: #000000;\n",
       "}\n",
       "#T_9853a_row10_col3 {\n",
       "  background-color: #25838e;\n",
       "  color: #f1f1f1;\n",
       "}\n",
       "#T_9853a_row11_col1 {\n",
       "  background-color: #35b779;\n",
       "  color: #f1f1f1;\n",
       "}\n",
       "#T_9853a_row11_col2 {\n",
       "  background-color: #3dbc74;\n",
       "  color: #f1f1f1;\n",
       "}\n",
       "#T_9853a_row11_col3 {\n",
       "  background-color: #375a8c;\n",
       "  color: #f1f1f1;\n",
       "}\n",
       "#T_9853a_row12_col0 {\n",
       "  background-color: #481b6d;\n",
       "  color: #f1f1f1;\n",
       "}\n",
       "#T_9853a_row12_col2 {\n",
       "  background-color: #c2df23;\n",
       "  color: #000000;\n",
       "}\n",
       "#T_9853a_row13_col0 {\n",
       "  background-color: #46327e;\n",
       "  color: #f1f1f1;\n",
       "}\n",
       "#T_9853a_row13_col1 {\n",
       "  background-color: #26828e;\n",
       "  color: #f1f1f1;\n",
       "}\n",
       "#T_9853a_row13_col2 {\n",
       "  background-color: #24878e;\n",
       "  color: #f1f1f1;\n",
       "}\n",
       "#T_9853a_row13_col3 {\n",
       "  background-color: #40bd72;\n",
       "  color: #f1f1f1;\n",
       "}\n",
       "#T_9853a_row14_col1 {\n",
       "  background-color: #3aba76;\n",
       "  color: #f1f1f1;\n",
       "}\n",
       "#T_9853a_row14_col2 {\n",
       "  background-color: #63cb5f;\n",
       "  color: #000000;\n",
       "}\n",
       "#T_9853a_row14_col3 {\n",
       "  background-color: #b5de2b;\n",
       "  color: #000000;\n",
       "}\n",
       "</style>\n",
       "<table id=\"T_9853a\">\n",
       "  <thead>\n",
       "    <tr>\n",
       "      <th class=\"blank level0\" >&nbsp;</th>\n",
       "      <th id=\"T_9853a_level0_col0\" class=\"col_heading level0 col0\" >a</th>\n",
       "      <th id=\"T_9853a_level0_col1\" class=\"col_heading level0 col1\" >b</th>\n",
       "      <th id=\"T_9853a_level0_col2\" class=\"col_heading level0 col2\" >c</th>\n",
       "      <th id=\"T_9853a_level0_col3\" class=\"col_heading level0 col3\" >d</th>\n",
       "    </tr>\n",
       "  </thead>\n",
       "  <tbody>\n",
       "    <tr>\n",
       "      <th id=\"T_9853a_level0_row0\" class=\"row_heading level0 row0\" >0</th>\n",
       "      <td id=\"T_9853a_row0_col0\" class=\"data row0 col0\" >0.003259</td>\n",
       "      <td id=\"T_9853a_row0_col1\" class=\"data row0 col1\" >0.774210</td>\n",
       "      <td id=\"T_9853a_row0_col2\" class=\"data row0 col2\" >0.896454</td>\n",
       "      <td id=\"T_9853a_row0_col3\" class=\"data row0 col3\" >0.780203</td>\n",
       "    </tr>\n",
       "    <tr>\n",
       "      <th id=\"T_9853a_level0_row1\" class=\"row_heading level0 row1\" >1</th>\n",
       "      <td id=\"T_9853a_row1_col0\" class=\"data row1 col0\" >0.004151</td>\n",
       "      <td id=\"T_9853a_row1_col1\" class=\"data row1 col1\" >0.442622</td>\n",
       "      <td id=\"T_9853a_row1_col2\" class=\"data row1 col2\" >0.847817</td>\n",
       "      <td id=\"T_9853a_row1_col3\" class=\"data row1 col3\" >0.637673</td>\n",
       "    </tr>\n",
       "    <tr>\n",
       "      <th id=\"T_9853a_level0_row2\" class=\"row_heading level0 row2\" >2</th>\n",
       "      <td id=\"T_9853a_row2_col0\" class=\"data row2 col0\" >0.001761</td>\n",
       "      <td id=\"T_9853a_row2_col1\" class=\"data row2 col1\" >0.229524</td>\n",
       "      <td id=\"T_9853a_row2_col2\" class=\"data row2 col2\" >0.757974</td>\n",
       "      <td id=\"T_9853a_row2_col3\" class=\"data row2 col3\" >0.890007</td>\n",
       "    </tr>\n",
       "    <tr>\n",
       "      <th id=\"T_9853a_level0_row3\" class=\"row_heading level0 row3\" >3</th>\n",
       "      <td id=\"T_9853a_row3_col0\" class=\"data row3 col0\" >0.269210</td>\n",
       "      <td id=\"T_9853a_row3_col1\" class=\"data row3 col1\" >0.794629</td>\n",
       "      <td id=\"T_9853a_row3_col2\" class=\"data row3 col2\" >0.863608</td>\n",
       "      <td id=\"T_9853a_row3_col3\" class=\"data row3 col3\" >0.874150</td>\n",
       "    </tr>\n",
       "    <tr>\n",
       "      <th id=\"T_9853a_level0_row4\" class=\"row_heading level0 row4\" >4</th>\n",
       "      <td id=\"T_9853a_row4_col0\" class=\"data row4 col0\" >0.047546</td>\n",
       "      <td id=\"T_9853a_row4_col1\" class=\"data row4 col1\" >0.850900</td>\n",
       "      <td id=\"T_9853a_row4_col2\" class=\"data row4 col2\" >0.797513</td>\n",
       "      <td id=\"T_9853a_row4_col3\" class=\"data row4 col3\" >0.807209</td>\n",
       "    </tr>\n",
       "    <tr>\n",
       "      <th id=\"T_9853a_level0_row5\" class=\"row_heading level0 row5\" >5</th>\n",
       "      <td id=\"T_9853a_row5_col0\" class=\"data row5 col0\" >0.055865</td>\n",
       "      <td id=\"T_9853a_row5_col1\" class=\"data row5 col1\" >0.431414</td>\n",
       "      <td id=\"T_9853a_row5_col2\" class=\"data row5 col2\" >0.560731</td>\n",
       "      <td id=\"T_9853a_row5_col3\" class=\"data row5 col3\" >0.574832</td>\n",
       "    </tr>\n",
       "    <tr>\n",
       "      <th id=\"T_9853a_level0_row6\" class=\"row_heading level0 row6\" >6</th>\n",
       "      <td id=\"T_9853a_row6_col0\" class=\"data row6 col0\" >0.146059</td>\n",
       "      <td id=\"T_9853a_row6_col1\" class=\"data row6 col1\" >0.382183</td>\n",
       "      <td id=\"T_9853a_row6_col2\" class=\"data row6 col2\" >0.598058</td>\n",
       "      <td id=\"T_9853a_row6_col3\" class=\"data row6 col3\" >0.698844</td>\n",
       "    </tr>\n",
       "    <tr>\n",
       "      <th id=\"T_9853a_level0_row7\" class=\"row_heading level0 row7\" >7</th>\n",
       "      <td id=\"T_9853a_row7_col0\" class=\"data row7 col0\" >0.079312</td>\n",
       "      <td id=\"T_9853a_row7_col1\" class=\"data row7 col1\" >0.843316</td>\n",
       "      <td id=\"T_9853a_row7_col2\" class=\"data row7 col2\" >0.518904</td>\n",
       "      <td id=\"T_9853a_row7_col3\" class=\"data row7 col3\" >0.542317</td>\n",
       "    </tr>\n",
       "    <tr>\n",
       "      <th id=\"T_9853a_level0_row8\" class=\"row_heading level0 row8\" >8</th>\n",
       "      <td id=\"T_9853a_row8_col0\" class=\"data row8 col0\" >0.137434</td>\n",
       "      <td id=\"T_9853a_row8_col1\" class=\"data row8 col1\" >0.664604</td>\n",
       "      <td id=\"T_9853a_row8_col2\" class=\"data row8 col2\" >0.420789</td>\n",
       "      <td id=\"T_9853a_row8_col3\" class=\"data row8 col3\" >0.805205</td>\n",
       "    </tr>\n",
       "    <tr>\n",
       "      <th id=\"T_9853a_level0_row9\" class=\"row_heading level0 row9\" >9</th>\n",
       "      <td id=\"T_9853a_row9_col0\" class=\"data row9 col0\" >0.168505</td>\n",
       "      <td id=\"T_9853a_row9_col1\" class=\"data row9 col1\" >0.358604</td>\n",
       "      <td id=\"T_9853a_row9_col2\" class=\"data row9 col2\" >0.532415</td>\n",
       "      <td id=\"T_9853a_row9_col3\" class=\"data row9 col3\" >0.957759</td>\n",
       "    </tr>\n",
       "    <tr>\n",
       "      <th id=\"T_9853a_level0_row10\" class=\"row_heading level0 row10\" >10</th>\n",
       "      <td id=\"T_9853a_row10_col0\" class=\"data row10 col0\" >0.071780</td>\n",
       "      <td id=\"T_9853a_row10_col1\" class=\"data row10 col1\" >0.342045</td>\n",
       "      <td id=\"T_9853a_row10_col2\" class=\"data row10 col2\" >0.763512</td>\n",
       "      <td id=\"T_9853a_row10_col3\" class=\"data row10 col3\" >0.722953</td>\n",
       "    </tr>\n",
       "    <tr>\n",
       "      <th id=\"T_9853a_level0_row11\" class=\"row_heading level0 row11\" >11</th>\n",
       "      <td id=\"T_9853a_row11_col0\" class=\"data row11 col0\" >0.479252</td>\n",
       "      <td id=\"T_9853a_row11_col1\" class=\"data row11 col1\" >0.614191</td>\n",
       "      <td id=\"T_9853a_row11_col2\" class=\"data row11 col2\" >0.746985</td>\n",
       "      <td id=\"T_9853a_row11_col3\" class=\"data row11 col3\" >0.650710</td>\n",
       "    </tr>\n",
       "    <tr>\n",
       "      <th id=\"T_9853a_level0_row12\" class=\"row_heading level0 row12\" >12</th>\n",
       "      <td id=\"T_9853a_row12_col0\" class=\"data row12 col0\" >0.036609</td>\n",
       "      <td id=\"T_9853a_row12_col1\" class=\"data row12 col1\" >0.138304</td>\n",
       "      <td id=\"T_9853a_row12_col2\" class=\"data row12 col2\" >0.852930</td>\n",
       "      <td id=\"T_9853a_row12_col3\" class=\"data row12 col3\" >0.531633</td>\n",
       "    </tr>\n",
       "    <tr>\n",
       "      <th id=\"T_9853a_level0_row13\" class=\"row_heading level0 row13\" >13</th>\n",
       "      <td id=\"T_9853a_row13_col0\" class=\"data row13 col0\" >0.068955</td>\n",
       "      <td id=\"T_9853a_row13_col1\" class=\"data row13 col1\" >0.454261</td>\n",
       "      <td id=\"T_9853a_row13_col2\" class=\"data row13 col2\" >0.641144</td>\n",
       "      <td id=\"T_9853a_row13_col3\" class=\"data row13 col3\" >0.827327</td>\n",
       "    </tr>\n",
       "    <tr>\n",
       "      <th id=\"T_9853a_level0_row14\" class=\"row_heading level0 row14\" >14</th>\n",
       "      <td id=\"T_9853a_row14_col0\" class=\"data row14 col0\" >0.142360</td>\n",
       "      <td id=\"T_9853a_row14_col1\" class=\"data row14 col1\" >0.620112</td>\n",
       "      <td id=\"T_9853a_row14_col2\" class=\"data row14 col2\" >0.781901</td>\n",
       "      <td id=\"T_9853a_row14_col3\" class=\"data row14 col3\" >0.910570</td>\n",
       "    </tr>\n",
       "  </tbody>\n",
       "</table>\n"
      ],
      "text/plain": [
       "<pandas.io.formats.style.Styler at 0x7ff8f32ca8f0>"
      ]
     },
     "execution_count": 4,
     "metadata": {},
     "output_type": "execute_result"
    }
   ],
   "source": [
    "import pandas as pd\n",
    "import numpy as np\n",
    "\n",
    "x = np.arange(20_000)\n",
    "\n",
    "df = pd.DataFrame(\n",
    "    {\n",
    "        col: np.random.beta(i+1, 3, x.shape)\n",
    "        for col, i in zip(\"abcd\", [0, 2, 4, 6])\n",
    "    },\n",
    "    index = x,\n",
    ")\n",
    "df.head(15).style.background_gradient(cmap=\"viridis\")"
   ]
  },
  {
   "cell_type": "markdown",
   "id": "10690823",
   "metadata": {
    "execute": {
     "shell": {
      "execute_reply": "2022-02-03T11:12:36.286420+00:00"
     }
    },
    "iopub": {
     "status": {
      "busy": "2022-02-03T11:12:36.286194+00:00",
      "idle": "2022-02-03T11:12:36.286552+00:00"
     }
    }
   },
   "source": [
    "`euporie` can render images using Sixel graphics if your terminal supports it. Otherwise it will fall back to using character-based terminal graphics.\n",
    "\n",
    "This means you can produce plots with `matplotlib` and `euporie` will display them in the best way it can:"
   ]
  },
  {
   "cell_type": "markdown",
   "id": "3adda7cd",
   "metadata": {
    "execute": {
     "shell": {
      "execute_reply": "2022-02-03T11:12:36.292730+00:00"
     }
    },
    "iopub": {
     "status": {
      "busy": "2022-02-03T11:12:36.292507+00:00",
      "idle": "2022-02-03T11:12:36.292880+00:00"
     }
    }
   },
   "source": [
    "It can also display SVG output:"
   ]
  },
  {
   "cell_type": "code",
   "execution_count": 5,
   "id": "600da1a5",
   "metadata": {
    "execute": {
     "shell": {
      "execute_reply": "2022-02-16T11:08:21.852100+00:00"
     }
    },
    "iopub": {
     "execute_input": "2022-02-16T11:08:20.300070+00:00",
     "status": {
      "busy": "2022-02-16T11:08:20.299711+00:00",
      "idle": "2022-02-16T11:08:21.852873+00:00"
     }
    }
   },
   "outputs": [
    {
     "data": {
      "image/png": "[encoded data removed]",
      "text/plain": [
       "<Figure size 800x200 with 1 Axes>"
      ]
     },
     "metadata": {},
     "output_type": "display_data"
    }
   ],
   "source": [
    "from matplotlib import pyplot as plt\n",
    "\n",
    "fig, ax = plt.subplots(figsize=(8,2), facecolor=\"#FFF\")\n",
    "df.plot.hist(ax=ax, bins=80, alpha=0.75)\n",
    "plt.show()"
   ]
  },
  {
   "cell_type": "code",
   "execution_count": 6,
   "id": "02fe9798",
   "metadata": {
    "execute": {
     "shell": {
      "execute_reply": "2022-02-16T11:08:22.063910+00:00"
     }
    },
    "iopub": {
     "execute_input": "2022-02-16T11:08:22.058466+00:00",
     "status": {
      "busy": "2022-02-16T11:08:22.058214+00:00",
      "idle": "2022-02-16T11:08:22.064507+00:00"
     }
    }
   },
   "outputs": [
    {
     "data": {
      "image/svg+xml": [
       "<svg width=\"200\" height=\"200\"><polygon points=\"105,5 45,185 195,65 5,65 165,185\" fill=\"yellow\"/></svg>"
      ],
      "text/plain": [
       "<IPython.core.display.SVG object>"
      ]
     },
     "execution_count": 6,
     "metadata": {},
     "output_type": "execute_result"
    }
   ],
   "source": [
    "from IPython.display import SVG\n",
    "\n",
    "SVG(\n",
    "    '<svg width=\"200\" height=\"200\"><polygon points=\"105,5 45,185 195,65 5,65 165,185\" fill=\"yellow\" /></svg>'\n",
    ")"
   ]
  },
  {
   "cell_type": "markdown",
   "id": "1bd9c919",
   "metadata": {},
   "source": [
    "Euporie can display JSON output interactively. Try clicking to expand and collapse items in the output:"
   ]
  },
  {
   "cell_type": "code",
   "execution_count": 7,
   "id": "28fae044",
   "metadata": {},
   "outputs": [
    {
     "data": {
      "application/json": {
       "bool": true,
       "dict": {
        "bool": true,
        "list": [
         "First",
         "Second",
         "Third",
         "Fourth"
        ],
        "number": 123.456,
        "string": "This is a string"
       },
       "list": [
        "First",
        "Second",
        "Third",
        "Fourth"
       ],
       "number": 123.456,
       "string": "This is a string"
      },
      "text/plain": [
       "<IPython.core.display.JSON object>"
      ]
     },
     "execution_count": 7,
     "metadata": {
      "application/json": {
       "expanded": true,
       "root": "My JSON document"
      }
     },
     "output_type": "execute_result"
    }
   ],
   "source": [
    "from IPython.display import JSON\n",
    "\n",
    "JSON(\n",
    "    {\n",
    "        \"number\": 123.456,\n",
    "        \"bool\": True,\n",
    "        \"string\": \"This is a string\",\n",
    "        \"list\": [\"First\", \"Second\", \"Third\", \"Fourth\"],\n",
    "        \"dict\": {\n",
    "            \"number\": 123.456,\n",
    "            \"bool\": True,\n",
    "            \"string\": \"This is a string\",\n",
    "            \"list\": [\"First\", \"Second\", \"Third\", \"Fourth\"],\n",
    "        },\n",
    "    },\n",
    "    expanded=True,\n",
    "    root=\"My JSON document\",\n",
    ")"
   ]
  },
  {
   "cell_type": "markdown",
   "id": "930e6d01",
   "metadata": {
    "execute": {
     "shell": {
      "execute_reply": "2022-02-03T11:12:36.299041+00:00"
     }
    },
    "iopub": {
     "execute_input": "2022-02-03T11:10:23.378289+00:00",
     "status": {
      "busy": "2022-02-03T11:12:36.298716+00:00",
      "idle": "2022-02-03T11:12:36.299174+00:00"
     }
    }
   },
   "source": [
    "`euporie` supporst ANSI output, so  works with libraries like `tqdm` and `rich`:"
   ]
  },
  {
   "cell_type": "code",
   "execution_count": null,
   "id": "831136cb-3feb-4dc1-867c-cd35af15bdd1",
   "metadata": {
    "execute": {
     "shell": {
      "execute_reply": "2022-02-16T11:08:29.098413+00:00"
     }
    },
    "iopub": {
     "execute_input": "2022-02-16T11:08:25.039636+00:00",
     "status": {
      "busy": "2022-02-16T11:08:25.038767+00:00",
      "idle": "2022-02-16T11:08:29.099088+00:00"
     }
    }
   },
   "outputs": [],
   "source": [
    "import time\n",
    "from tqdm import tqdm\n",
    "\n",
    "for i in tqdm(range(20), ncols=100):\n",
    "    time.sleep(0.2)"
   ]
  },
  {
   "cell_type": "code",
   "execution_count": null,
   "id": "51d035f3-6cfb-4d0e-a72d-7787b0bc537b",
   "metadata": {
    "execute": {
     "shell": {
      "execute_reply": "2022-02-16T11:08:33.187586+00:00"
     }
    },
    "iopub": {
     "execute_input": "2022-02-16T11:08:29.100639+00:00",
     "status": {
      "busy": "2022-02-16T11:08:29.100293+00:00",
      "idle": "2022-02-16T11:08:33.188270+00:00"
     }
    }
   },
   "outputs": [],
   "source": [
    "from rich.progress import track\n",
    "\n",
    "for _ in track(range(20)):\n",
    "    time.sleep(0.2)"
   ]
  },
  {
   "cell_type": "markdown",
   "id": "b3a7402a",
   "metadata": {},
   "source": [
    "This means it can also display colored output from external commands:"
   ]
  },
  {
   "cell_type": "code",
   "execution_count": null,
   "id": "7a24ebae-fe8e-4bce-a964-b4010877c45a",
   "metadata": {
    "execute": {
     "shell": {
      "execute_reply": "2022-02-16T11:08:33.317773+00:00"
     }
    },
    "iopub": {
     "execute_input": "2022-02-16T11:08:33.189476+00:00",
     "status": {
      "busy": "2022-02-16T11:08:33.189220+00:00",
      "idle": "2022-02-16T11:08:33.320167+00:00"
     }
    }
   },
   "outputs": [],
   "source": [
    "!exa -l --icons --group-directories-first"
   ]
  },
  {
   "cell_type": "markdown",
   "id": "025efbf2",
   "metadata": {
    "execute": {
     "shell": {
      "execute_reply": "2022-02-03T11:12:36.296087+00:00"
     }
    },
    "iopub": {
     "status": {
      "busy": "2022-02-03T11:12:36.295875+00:00",
      "idle": "2022-02-03T11:12:36.296226+00:00"
     }
    }
   },
   "source": [
    "## Requesting input\n",
    "\n",
    "`euoporie` can response to requests for user input from the kernel (press enter to send your input):"
   ]
  },
  {
   "cell_type": "code",
   "execution_count": null,
   "id": "849afa5d-dd52-4ae4-87ad-9c2ab1f33792",
   "metadata": {
    "execute": {
     "shell": {
      "execute_reply": "2022-02-16T11:08:25.034779+00:00"
     }
    },
    "iopub": {
     "execute_input": "2022-02-16T11:08:22.065738+00:00",
     "status": {
      "busy": "2022-02-16T11:08:22.065489+00:00",
      "idle": "2022-02-16T11:08:25.037180+00:00"
     }
    }
   },
   "outputs": [],
   "source": [
    "name = input(\"Enter your name:\")\n",
    "print(f\"Hello {name}\")"
   ]
  },
  {
   "cell_type": "markdown",
   "id": "6e805611",
   "metadata": {},
   "source": [
    "## `ipywidgets`\n",
    "\n",
    "Euporie supports most of the widgets in `ipywidgets`, allowing you to build interactive applications inside your notebook in the terminal.\n",
    "\n",
    "Run the following cell to try it out:"
   ]
  },
  {
   "cell_type": "code",
   "execution_count": null,
   "id": "83c380bc-26e2-4008-9f11-f0a603e7f86d",
   "metadata": {},
   "outputs": [],
   "source": [
    "import numpy as np\n",
    "from matplotlib import pyplot as plt\n",
    "from ipywidgets import widgets as w\n",
    "from ipywidgets import interactive\n",
    "\n",
    "def plot(n, color):\n",
    "    x = np.arange(-20, 20, 0.1)\n",
    "    y = np.sin(n*x) / x\n",
    "    fig, ax = plt.subplots(figsize=(8,2))\n",
    "    ax.plot(x, y, c=color, lw=5)\n",
    "    plt.show()\n",
    "\n",
    "n=w.IntSlider(description=\"n\", value=2, min=-10, max=10)\n",
    "color = w.ColorPicker(value=\"red\", description=\"Colour\")\n",
    "output = w.interactive_output(plot, {'n':n, 'color': color})\n",
    "\n",
    "w.HBox([w.VBox([n, color]), output])"
   ]
  },
  {
   "cell_type": "markdown",
   "id": "84724255",
   "metadata": {},
   "source": [
    "---\n",
    "\n",
    "If you like `euporie`, please [star it on GitHub](https://github.com/joouha/euporie/)\n",
    "\n",
    "⭐ https://github.com/joouha/euporie/"
   ]
  }
 ],
 "metadata": {
  "kernelspec": {
   "display_name": "Python 3 (ipykernel)",
   "language": "python",
   "name": "python3"
  },
  "language_info": {
   "codemirror_mode": {
    "name": "ipython",
    "version": 3
   },
   "file_extension": ".py",
   "mimetype": "text/x-python",
   "name": "python",
   "nbconvert_exporter": "python",
   "pygments_lexer": "ipython3",
   "version": "3.10.6"
  },
  "widgets": {
   "application/vnd.jupyter.widget-state+json": {
    "state": {
     "18390409fde441609da9deb0b389b93a": {
      "model_module": "@jupyter-widgets/base",
      "model_module_version": "2.0.0",
      "model_name": "LayoutModel",
      "state": {}
     },
     "1f9ab10e417f4abeb4a4c2cb499db430": {
      "model_module": "@jupyter-widgets/base",
      "model_module_version": "2.0.0",
      "model_name": "LayoutModel",
      "state": {}
     },
     "2f70381c678b45b7b8b8e344d4957c0f": {
      "model_module": "@jupyter-widgets/controls",
      "model_module_version": "2.0.0",
      "model_name": "IntSliderModel",
      "state": {
       "behavior": "drag-tap",
       "description": "n",
       "layout": "IPY_MODEL_18390409fde441609da9deb0b389b93a",
       "max": 10,
       "min": -10,
       "style": "IPY_MODEL_de8ab52100964472a8a7e166cfcd796e",
       "value": 2
      }
     },
     "3879f32d73fe4b7eb229c912258cb089": {
      "model_module": "@jupyter-widgets/controls",
      "model_module_version": "2.0.0",
      "model_name": "VBoxModel",
      "state": {
       "children": [
        "IPY_MODEL_2f70381c678b45b7b8b8e344d4957c0f",
        "IPY_MODEL_77c2d442c1fa4ac4b5f48fbcc576c234"
       ],
       "layout": "IPY_MODEL_1f9ab10e417f4abeb4a4c2cb499db430"
      }
     },
     "4f95b174a020442b90cd9757e884da3d": {
      "model_module": "@jupyter-widgets/base",
      "model_module_version": "2.0.0",
      "model_name": "LayoutModel",
      "state": {}
     },
     "550238c05c3641cf87df0c34b36cf039": {
      "model_module": "@jupyter-widgets/controls",
      "model_module_version": "2.0.0",
      "model_name": "HBoxModel",
      "state": {
       "children": [
        "IPY_MODEL_3879f32d73fe4b7eb229c912258cb089",
        "IPY_MODEL_7ad1dbd333da42868894e4f348af56f3"
       ],
       "layout": "IPY_MODEL_553ce9f5f03241b5ba5da5ec08941ead"
      }
     },
     "553ce9f5f03241b5ba5da5ec08941ead": {
      "model_module": "@jupyter-widgets/base",
      "model_module_version": "2.0.0",
      "model_name": "LayoutModel",
      "state": {}
     },
     "60aaab5fb2ac41e88d93f04161b0ead2": {
      "model_module": "@jupyter-widgets/base",
      "model_module_version": "2.0.0",
      "model_name": "LayoutModel",
      "state": {}
     },
     "77c2d442c1fa4ac4b5f48fbcc576c234": {
      "model_module": "@jupyter-widgets/controls",
      "model_module_version": "2.0.0",
      "model_name": "ColorPickerModel",
      "state": {
       "description": "Colour",
       "disabled": false,
       "layout": "IPY_MODEL_60aaab5fb2ac41e88d93f04161b0ead2",
       "style": "IPY_MODEL_d50250a82733449e95d90cbbaa9938d0",
       "value": "red"
      }
     },
     "7ad1dbd333da42868894e4f348af56f3": {
      "model_module": "@jupyter-widgets/output",
      "model_module_version": "1.0.0",
      "model_name": "OutputModel",
      "state": {
       "layout": "IPY_MODEL_e83df82b84944e8287ce13d98917c5e7",
       "outputs": [
        {
         "data": {
          "image/png": "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\n",
          "text/plain": "<Figure size 800x200 with 1 Axes>"
         },
         "metadata": {},
         "output_type": "display_data"
        }
       ]
      }
     },
     "d50250a82733449e95d90cbbaa9938d0": {
      "model_module": "@jupyter-widgets/controls",
      "model_module_version": "2.0.0",
      "model_name": "DescriptionStyleModel",
      "state": {
       "description_width": ""
      }
     },
     "d63bff99fac244bd8036eabf9aadf1d8": {
      "model_module": "@jupyter-widgets/output",
      "model_module_version": "1.0.0",
      "model_name": "OutputModel",
      "state": {
       "layout": "IPY_MODEL_4f95b174a020442b90cd9757e884da3d",
       "outputs": [
        {
         "data": {
          "text/html": "<pre style=\"white-space:pre;overflow-x:auto;line-height:normal;font-family:Menlo,'DejaVu Sans Mono',consolas,'Courier New',monospace\">Working... <span style=\"color: #729c1f; text-decoration-color: #729c1f\">━━━━━━━━━━━━━━━━━━━━━━━━━━━━━━━━━━━━━━━━</span> <span style=\"color: #800080; text-decoration-color: #800080\">100%</span> <span style=\"color: #008080; text-decoration-color: #008080\">0:00:00</span>\n</pre>\n",
          "text/plain": "Working... \u001b[38;2;114;156;31m━━━━━━━━━━━━━━━━━━━━━━━━━━━━━━━━━━━━━━━━\u001b[0m \u001b[35m100%\u001b[0m \u001b[36m0:00:00\u001b[0m\n"
         },
         "metadata": {},
         "output_type": "display_data"
        }
       ]
      }
     },
     "de8ab52100964472a8a7e166cfcd796e": {
      "model_module": "@jupyter-widgets/controls",
      "model_module_version": "2.0.0",
      "model_name": "SliderStyleModel",
      "state": {
       "description_width": ""
      }
     },
     "e83df82b84944e8287ce13d98917c5e7": {
      "model_module": "@jupyter-widgets/base",
      "model_module_version": "2.0.0",
      "model_name": "LayoutModel",
      "state": {}
     }
    },
    "version_major": 2,
    "version_minor": 0
   }
  }
 },
 "nbformat": 4,
 "nbformat_minor": 5
}
