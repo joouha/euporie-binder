{
 "cells": [
  {
   "cell_type": "markdown",
   "id": "33c6cb91",
   "metadata": {
    "execute": {
     "shell": {
      "execute_reply": "2021-12-17T08:24:16.474532+00:00"
     }
    },
    "iopub": {
     "execute_input": "2021-12-17T08:24:16.436450+00:00",
     "status": {
      "busy": "2021-12-17T08:24:16.435832+00:00",
      "idle": "2021-12-17T08:24:16.475079+00:00"
     }
    }
   },
   "source": [
    "# euporie\n",
    "\n",
    "Welcome to this demo of `euporie`, a terminal based interactive development environment for Jupyter notebooks.\n",
    "\n",
    "- Use the arrow keys or the mouse to navigate between cells\n",
    "- Use `[` and `]` (or the mouse wheel) to scroll up and down\n",
    "- Press `Enter` to edit a cell\n",
    "- Press `Esc Esc` to stop editing a cell\n",
    "- Press `Ctrl+e` to execute or render a cell, or `Ctrl+r` to run a cell and select the next cel\n",
    "\n",
    "---"
   ]
  },
  {
   "cell_type": "markdown",
   "id": "ce4eccd0",
   "metadata": {},
   "source": [
    "## Markdown\n",
    "\n",
    "`euporie` will render the _markdown cells_ in your notebook:\n",
    "\n",
    "> - This includes rendering blocks, list, and inline styles\n",
    "> - *Like* **this**"
   ]
  },
  {
   "cell_type": "markdown",
   "id": "c44fe2a8",
   "metadata": {},
   "source": [
    "This also includes rendering tables:\n",
    "\n",
    "\n",
    "| Item       | Can `euporie` display it? |\n",
    "|-----------:|:--------------------------|\n",
    "| **Markdown** | Yes\n",
    "| **Tables** | Yes\n",
    "| **LaTeX**  | Yes"
   ]
  },
  {
   "cell_type": "markdown",
   "id": "f48ff2a5",
   "metadata": {},
   "source": [
    "It can also render LaTex maths equations in markdown cells:\n",
    "\n",
    "$$\n",
    "s = ut + \\frac{1}{2} a t^2\n",
    "$$\n",
    "\n",
    "$$\n",
    "x =\\frac{-b \\pm \\sqrt{\\frac{1}{2} a b^2}}{2a}\n",
    "$$\n",
    "\n",
    "$$\n",
    "f(s) = \\sum_{i = 0}^{\\infty} \\frac{f^{(i)}(0)}{i!} x^i\n",
    "$$"
   ]
  },
  {
   "cell_type": "markdown",
   "id": "dbbd1fdd",
   "metadata": {},
   "source": [
    "## Cell Output\n",
    "\n",
    "`euporie` also renders rich cell output, including Markdown, HTML, and images:"
   ]
  },
  {
   "cell_type": "code",
   "execution_count": 1,
   "id": "bac4fa8d",
   "metadata": {
    "execute": {
     "shell": {
      "execute_reply": "2022-01-21T11:19:55.445014+00:00"
     }
    },
    "iopub": {
     "execute_input": "2022-01-21T11:19:55.414003+00:00",
     "status": {
      "busy": "2022-01-21T11:19:55.413440+00:00",
      "idle": "2022-01-21T11:19:55.445774+00:00"
     }
    }
   },
   "outputs": [
    {
     "data": {
      "text/markdown": [
       "Regular *Italic* **Bold**"
      ]
     },
     "metadata": {},
     "output_type": "display_data"
    }
   ],
   "source": [
    "from IPython.display import *\n",
    "\n",
    "display({\"text/markdown\": \"Regular *Italic* **Bold**\"}, raw=True)"
   ]
  },
  {
   "cell_type": "code",
   "execution_count": 2,
   "id": "912b196a",
   "metadata": {
    "execute": {
     "shell": {
      "execute_reply": "2022-01-21T11:19:56.535952+00:00"
     }
    },
    "iopub": {
     "execute_input": "2022-01-21T11:19:56.205419+00:00",
     "status": {
      "busy": "2022-01-21T11:19:56.204143+00:00",
      "idle": "2022-01-21T11:19:56.536800+00:00"
     }
    }
   },
   "outputs": [
    {
     "data": {
      "image/png": "[encoded data removed]",
      "text/plain": [
       "<IPython.core.display.Image object>"
      ]
     },
     "execution_count": 2,
     "metadata": {},
     "output_type": "execute_result"
    }
   ],
   "source": [
    "import urllib.request\n",
    "data = urllib.request.urlopen(\"https://www.python.org/static/img/python-logo.png\").read()\n",
    "Image(data)"
   ]
  },
  {
   "cell_type": "markdown",
   "id": "43a7ed60",
   "metadata": {},
   "source": [
    "This means you can use libraries like `pandas`, and display dataframes as you would expect:"
   ]
  },
  {
   "cell_type": "code",
   "execution_count": 3,
   "id": "5dc84d78",
   "metadata": {
    "execute": {
     "shell": {
      "execute_reply": "2022-01-21T11:19:59.176770+00:00"
     }
    },
    "iopub": {
     "execute_input": "2022-01-21T11:19:57.997974+00:00",
     "status": {
      "busy": "2022-01-21T11:19:57.996959+00:00",
      "idle": "2022-01-21T11:19:59.177792+00:00"
     }
    }
   },
   "outputs": [
    {
     "data": {
      "text/html": [
       "<div>\n",
       "<style scoped>\n",
       "    .dataframe tbody tr th:only-of-type {\n",
       "        vertical-align: middle;\n",
       "    }\n",
       "\n",
       "    .dataframe tbody tr th {\n",
       "        vertical-align: top;\n",
       "    }\n",
       "\n",
       "    .dataframe thead th {\n",
       "        text-align: right;\n",
       "    }\n",
       "</style>\n",
       "<table border=\"1\" class=\"dataframe\">\n",
       "  <thead>\n",
       "    <tr style=\"text-align: right;\">\n",
       "      <th></th>\n",
       "      <th>a</th>\n",
       "      <th>b</th>\n",
       "      <th>c</th>\n",
       "      <th>d</th>\n",
       "    </tr>\n",
       "  </thead>\n",
       "  <tbody>\n",
       "    <tr>\n",
       "      <th>0</th>\n",
       "      <td>0.352636</td>\n",
       "      <td>0.774813</td>\n",
       "      <td>0.556753</td>\n",
       "      <td>0.730479</td>\n",
       "    </tr>\n",
       "    <tr>\n",
       "      <th>1</th>\n",
       "      <td>0.352300</td>\n",
       "      <td>0.287779</td>\n",
       "      <td>0.532414</td>\n",
       "      <td>0.839349</td>\n",
       "    </tr>\n",
       "    <tr>\n",
       "      <th>2</th>\n",
       "      <td>0.574851</td>\n",
       "      <td>0.521019</td>\n",
       "      <td>0.654930</td>\n",
       "      <td>0.788900</td>\n",
       "    </tr>\n",
       "    <tr>\n",
       "      <th>3</th>\n",
       "      <td>0.247060</td>\n",
       "      <td>0.745438</td>\n",
       "      <td>0.664290</td>\n",
       "      <td>0.559434</td>\n",
       "    </tr>\n",
       "    <tr>\n",
       "      <th>4</th>\n",
       "      <td>0.115679</td>\n",
       "      <td>0.749551</td>\n",
       "      <td>0.745407</td>\n",
       "      <td>0.895824</td>\n",
       "    </tr>\n",
       "  </tbody>\n",
       "</table>\n",
       "</div>"
      ],
      "text/plain": [
       "          a         b         c         d\n",
       "0  0.352636  0.774813  0.556753  0.730479\n",
       "1  0.352300  0.287779  0.532414  0.839349\n",
       "2  0.574851  0.521019  0.654930  0.788900\n",
       "3  0.247060  0.745438  0.664290  0.559434\n",
       "4  0.115679  0.749551  0.745407  0.895824"
      ]
     },
     "execution_count": 3,
     "metadata": {},
     "output_type": "execute_result"
    }
   ],
   "source": [
    "import pandas as pd\n",
    "import numpy as np\n",
    "\n",
    "x = np.arange(20_000)\n",
    "\n",
    "df = pd.DataFrame(\n",
    "    {\n",
    "        col: np.random.beta(i+1, 3, x.shape)\n",
    "        for col, i in zip(\"abcd\", [0, 2, 4, 6])\n",
    "    },\n",
    "    index = x,\n",
    ")\n",
    "df.head()"
   ]
  },
  {
   "cell_type": "markdown",
   "id": "10690823",
   "metadata": {},
   "source": [
    "`euporie` can render images using Sixel graphics if your terminal supports it. Otherwise it will fall back to using character-based terminal graphics.\n",
    "\n",
    "This means you can produce plots with `matplotlib` and `euporie` will display them in the best way it can:"
   ]
  },
  {
   "cell_type": "code",
   "execution_count": 4,
   "id": "2017c662",
   "metadata": {
    "execute": {
     "shell": {
      "execute_reply": "2022-01-21T11:20:02.245941+00:00"
     }
    },
    "iopub": {
     "execute_input": "2022-01-21T11:20:00.489488+00:00",
     "status": {
      "busy": "2022-01-21T11:20:00.488838+00:00",
      "idle": "2022-01-21T11:20:02.246796+00:00"
     }
    }
   },
   "outputs": [
    {
     "data": {
      "image/png": "[encoded data removed]",
      "text/plain": [
       "<Figure size 1080x288 with 1 Axes>"
      ]
     },
     "metadata": {},
     "output_type": "display_data"
    }
   ],
   "source": [
    "from matplotlib import pyplot as plt\n",
    "\n",
    "fig, ax = plt.subplots(figsize=(15, 4), facecolor=\"#FFF\")\n",
    "df.plot.hist(ax=ax, bins=80, alpha=0.75)\n",
    "plt.show()"
   ]
  },
  {
   "cell_type": "markdown",
   "id": "f85075bd",
   "metadata": {},
   "source": [
    "If your terminal does not support graphics, the excellent `plotext` library works very well with euporie:"
   ]
  },
  {
   "cell_type": "code",
   "execution_count": 5,
   "id": "a36015d6",
   "metadata": {
    "execute": {
     "shell": {
      "execute_reply": "2022-01-21T11:20:04.201529+00:00"
     }
    },
    "iopub": {
     "execute_input": "2022-01-21T11:20:03.899650+00:00",
     "status": {
      "busy": "2022-01-21T11:20:03.898517+00:00",
      "idle": "2022-01-21T11:20:04.202085+00:00"
     }
    }
   },
   "outputs": [
    {
     "name": "stdout",
     "output_type": "stream",
     "text": [
      "\u001b[107m\u001b[30m                                  Histogram Plot                                \u001b[0m\n",
      "\u001b[107m\u001b[30m     ┌─────────────────────────────────────────────────────────────────────────┐\u001b[0m\n",
      "\u001b[107m\u001b[30m726.0┤\u001b[0m\u001b[107m \u001b[0m\u001b[107m\u001b[94m▖▖▖\u001b[0m\u001b[107m\u001b[30m a \u001b[0m\u001b[107m                                                                  \u001b[0m\u001b[107m\u001b[30m│\u001b[0m\n",
      "\u001b[107m\u001b[30m     │\u001b[0m\u001b[107m \u001b[0m\u001b[107m\u001b[92m▖▖▖\u001b[0m\u001b[107m\u001b[30m b \u001b[0m\u001b[107m\u001b[94m▄▖\u001b[0m\u001b[107m                                             \u001b[0m\u001b[107m\u001b[96m▗▄\u001b[0m\u001b[107m                 \u001b[0m\u001b[107m\u001b[30m│\u001b[0m\n",
      "\u001b[107m\u001b[30m605.0┤\u001b[0m\u001b[107m \u001b[0m\u001b[107m\u001b[91m▖▖▖\u001b[0m\u001b[107m\u001b[30m c \u001b[0m\u001b[107m\u001b[94m█▙▄\u001b[0m\u001b[107m \u001b[0m\u001b[107m\u001b[94m▄\u001b[0m\u001b[107m                                   \u001b[0m\u001b[107m\u001b[91m▄\u001b[0m\u001b[107m \u001b[0m\u001b[107m\u001b[96m▐█▄▄▄▟█▟▙█▗▖\u001b[0m\u001b[107m            \u001b[0m\u001b[107m\u001b[30m│\u001b[0m\n",
      "\u001b[107m\u001b[30m484.0┤\u001b[0m\u001b[107m \u001b[0m\u001b[107m\u001b[96m▖▖▖\u001b[0m\u001b[107m\u001b[30m d \u001b[0m\u001b[107m\u001b[94m███▄█▄▟▙▖\u001b[0m\u001b[107m                \u001b[0m\u001b[107m\u001b[92m▄▖\u001b[0m\u001b[107m  \u001b[0m\u001b[107m\u001b[92m▄▄\u001b[0m\u001b[107m   \u001b[0m\u001b[107m\u001b[91m▄▄▟██\u001b[0m\u001b[107m\u001b[96m████████████████▄\u001b[0m\u001b[107m          \u001b[0m\u001b[107m\u001b[30m│\u001b[0m\n",
      "\u001b[107m\u001b[30m     │       \u001b[0m\u001b[107m\u001b[94m██████████▙█▄▄\u001b[0m\u001b[107m     \u001b[0m\u001b[107m\u001b[92m▄▄▄▄▄▟████\u001b[0m\u001b[107m\u001b[91m████████\u001b[0m\u001b[107m\u001b[96m███████████████████▖\u001b[0m\u001b[107m         \u001b[0m\u001b[107m\u001b[30m│\u001b[0m\n",
      "\u001b[107m\u001b[30m363.0┤\u001b[0m\u001b[107m\u001b[94m█████████████████████\u001b[0m\u001b[107m\u001b[92m▄▄▖██████████\u001b[0m\u001b[107m\u001b[91m████████\u001b[0m\u001b[107m\u001b[96m██████████████████████▙\u001b[0m\u001b[107m        \u001b[0m\u001b[107m\u001b[30m│\u001b[0m\n",
      "\u001b[107m\u001b[30m     │\u001b[0m\u001b[107m\u001b[94m██████████████████\u001b[0m\u001b[107m\u001b[92m█████████████\u001b[0m\u001b[107m\u001b[91m███████\u001b[0m\u001b[107m\u001b[96m███████████████████████████▄▄\u001b[0m\u001b[107m      \u001b[0m\u001b[107m\u001b[30m│\u001b[0m\n",
      "\u001b[107m\u001b[30m242.0┤\u001b[0m\u001b[107m\u001b[94m██████████████\u001b[0m\u001b[107m\u001b[92m█████████████\u001b[0m\u001b[107m\u001b[91m██████████\u001b[0m\u001b[107m\u001b[96m██████████████████████████████▖\u001b[0m\u001b[107m     \u001b[0m\u001b[107m\u001b[30m│\u001b[0m\n",
      "\u001b[107m\u001b[30m121.0┤\u001b[0m\u001b[107m\u001b[94m███████████\u001b[0m\u001b[107m\u001b[92m████████████\u001b[0m\u001b[107m\u001b[91m█████████\u001b[0m\u001b[107m\u001b[96m█████████████████████████████████████\u001b[0m\u001b[107m    \u001b[0m\u001b[107m\u001b[30m│\u001b[0m\n",
      "\u001b[107m\u001b[30m     │\u001b[0m\u001b[107m\u001b[94m██████\u001b[0m\u001b[107m\u001b[92m███████████\u001b[0m\u001b[107m\u001b[91m██████████\u001b[0m\u001b[107m\u001b[96m███████████████████████████████████████████▌\u001b[0m\u001b[107m  \u001b[0m\u001b[107m\u001b[30m│\u001b[0m\n",
      "\u001b[107m\u001b[30m  0.0┤\u001b[0m\u001b[107m\u001b[94m█\u001b[0m\u001b[107m\u001b[92m███\u001b[0m\u001b[107m\u001b[91m████████\u001b[0m\u001b[107m\u001b[96m████████████████████████████████████████████████████████████▄\u001b[0m\u001b[107m\u001b[30m│\u001b[0m\n",
      "\u001b[107m\u001b[30m     └┬─────────────────┬─────────────────┬─────────────────┬─────────────────┬┘\u001b[0m\n",
      "\u001b[107m\u001b[30m      0.00            0.25              0.50              0.75             1.00 \u001b[0m\u001b[0m\n"
     ]
    }
   ],
   "source": [
    "import plotext as plt\n",
    "\n",
    "plt.clear_figure()\n",
    "plt.plot_size(100, 15)\n",
    "for name, col in df.items():\n",
    "    plt.hist(col.values, 80, label=name)\n",
    "plt.title(\"Histogram Plot\")\n",
    "plt.show()"
   ]
  },
  {
   "cell_type": "markdown",
   "id": "3adda7cd",
   "metadata": {},
   "source": [
    "It can also display SVG output:"
   ]
  },
  {
   "cell_type": "code",
   "execution_count": 6,
   "id": "02fe9798",
   "metadata": {
    "execute": {
     "shell": {
      "execute_reply": "2022-01-21T11:20:06.013703+00:00"
     }
    },
    "iopub": {
     "execute_input": "2022-01-21T11:20:05.991509+00:00",
     "status": {
      "busy": "2022-01-21T11:20:05.990915+00:00",
      "idle": "2022-01-21T11:20:06.014698+00:00"
     }
    }
   },
   "outputs": [
    {
     "data": {
      "image/svg+xml": [
       "<svg width=\"200\" height=\"200\"><polygon points=\"100,5 40,180 190,60 5,60 160,180\" fill=\"yellow\"/></svg>"
      ],
      "text/plain": [
       "<IPython.core.display.SVG object>"
      ]
     },
     "execution_count": 6,
     "metadata": {},
     "output_type": "execute_result"
    }
   ],
   "source": [
    "from IPython.display import SVG\n",
    "SVG('<svg width=\"200\" height=\"200\"><polygon points=\"100,5 40,180 190,60 5,60 160,180\" fill=\"yellow\" /></svg>')"
   ]
  },
  {
   "cell_type": "markdown",
   "id": "2c5ea8bf",
   "metadata": {},
   "source": [
    "`euoporie` can response to requests for user input from the kernel (press enter to send your input):"
   ]
  },
  {
   "cell_type": "code",
   "execution_count": 7,
   "id": "e7ba2b1c",
   "metadata": {
    "execute": {
     "shell": {
      "execute_reply": "2022-01-21T11:20:10.829558+00:00"
     }
    },
    "iopub": {
     "execute_input": "2022-01-21T11:20:08.101563+00:00",
     "status": {
      "busy": "2022-01-21T11:20:08.098083+00:00",
      "idle": "2022-01-21T11:20:10.830560+00:00"
     }
    }
   },
   "outputs": [
    {
     "name": "stdout",
     "output_type": "stream",
     "text": [
      "Hello Josiah\n"
     ]
    }
   ],
   "source": [
    "name = input(\"Enter your name:\")\n",
    "print(f\"Hello {name}\")"
   ]
  },
  {
   "cell_type": "markdown",
   "id": "930e6d01",
   "metadata": {},
   "source": [
    "`euporie` works with `tqdm`, so you can display progress-bars in your notebooks:"
   ]
  },
  {
   "cell_type": "code",
   "execution_count": 8,
   "id": "647ba74c",
   "metadata": {
    "execute": {
     "shell": {
      "execute_reply": "2022-01-21T11:20:17.067063+00:00"
     }
    },
    "iopub": {
     "execute_input": "2022-01-21T11:20:12.998560+00:00",
     "status": {
      "busy": "2022-01-21T11:20:12.997900+00:00",
      "idle": "2022-01-21T11:20:17.068115+00:00"
     }
    }
   },
   "outputs": [
    {
     "name": "stderr",
     "output_type": "stream",
     "text": [
      "\r",
      "  0%|                                                                        | 0/20 [00:00<?, ?it/s]\r",
      "  5%|███▏                                                            | 1/20 [00:00<00:03,  4.99it/s]\r",
      " 10%|██████▍                                                         | 2/20 [00:00<00:03,  4.98it/s]\r",
      " 15%|█████████▌                                                      | 3/20 [00:00<00:03,  4.97it/s]\r",
      " 20%|████████████▊                                                   | 4/20 [00:00<00:03,  4.94it/s]\r",
      " 25%|████████████████                                                | 5/20 [00:01<00:03,  4.95it/s]\r",
      " 30%|███████████████████▏                                            | 6/20 [00:01<00:02,  4.96it/s]\r",
      " 35%|██████████████████████▍                                         | 7/20 [00:01<00:02,  4.96it/s]\r",
      " 40%|█████████████████████████▌                                      | 8/20 [00:01<00:02,  4.96it/s]\r",
      " 45%|████████████████████████████▊                                   | 9/20 [00:01<00:02,  4.97it/s]\r",
      " 50%|███████████████████████████████▌                               | 10/20 [00:02<00:02,  4.97it/s]\r",
      " 55%|██████████████████████████████████▋                            | 11/20 [00:02<00:01,  4.97it/s]\r",
      " 60%|█████████████████████████████████████▊                         | 12/20 [00:02<00:01,  4.97it/s]\r",
      " 65%|████████████████████████████████████████▉                      | 13/20 [00:02<00:01,  4.97it/s]\r",
      " 70%|████████████████████████████████████████████                   | 14/20 [00:02<00:01,  4.97it/s]\r",
      " 75%|███████████████████████████████████████████████▎               | 15/20 [00:03<00:01,  4.97it/s]\r",
      " 80%|██████████████████████████████████████████████████▍            | 16/20 [00:03<00:00,  4.97it/s]\r",
      " 85%|█████████████████████████████████████████████████████▌         | 17/20 [00:03<00:00,  4.97it/s]\r",
      " 90%|████████████████████████████████████████████████████████▋      | 18/20 [00:03<00:00,  4.97it/s]\r",
      " 95%|███████████████████████████████████████████████████████████▊   | 19/20 [00:03<00:00,  4.97it/s]\r",
      "100%|███████████████████████████████████████████████████████████████| 20/20 [00:04<00:00,  4.97it/s]\r",
      "100%|███████████████████████████████████████████████████████████████| 20/20 [00:04<00:00,  4.96it/s]\n"
     ]
    }
   ],
   "source": [
    "import time\n",
    "from tqdm import tqdm\n",
    "\n",
    "for i in tqdm(range(20), ncols=100):\n",
    "    time.sleep(0.2)"
   ]
  },
  {
   "cell_type": "markdown",
   "id": "dfc0850d",
   "metadata": {},
   "source": [
    "And can display colorful ANSI output from command line programs:"
   ]
  },
  {
   "cell_type": "code",
   "execution_count": 9,
   "id": "6e2484f6",
   "metadata": {
    "execute": {
     "shell": {
      "execute_reply": "2022-01-21T11:20:20.740399+00:00"
     }
    },
    "iopub": {
     "execute_input": "2022-01-21T11:20:20.571054+00:00",
     "status": {
      "busy": "2022-01-21T11:20:20.570742+00:00",
      "idle": "2022-01-21T11:20:20.744035+00:00"
     }
    }
   },
   "outputs": [
    {
     "name": "stdout",
     "output_type": "stream",
     "text": [
      "\u001b[38;5;4m\u001b[1md\u001b[0m\u001b[38;5;2mr\u001b[39m\u001b[38;5;3mw\u001b[39m\u001b[38;5;1mx\u001b[39m\u001b[38;5;2mr\u001b[39m\u001b[38;5;245m-\u001b[39m\u001b[38;5;1mx\u001b[39m\u001b[38;5;2mr\u001b[39m\u001b[38;5;245m-\u001b[39m\u001b[38;5;1mx\u001b[39m \u001b[38;5;230mjosiah\u001b[39m \u001b[38;5;187mjosiah\u001b[39m \u001b[38;5;229m4.0\u001b[39m \u001b[38;5;229mKB\u001b[39m \u001b[38;5;42mThu Jan 20 12:37:51 2022\u001b[39m \u001b[38;5;4m\u001b[1m __pycache__\u001b[0m\r\n",
      ".\u001b[38;5;2mr\u001b[39m\u001b[38;5;3mw\u001b[39m\u001b[38;5;245m-\u001b[39m\u001b[38;5;2mr\u001b[39m\u001b[38;5;245m-\u001b[39m\u001b[38;5;245m-\u001b[39m\u001b[38;5;2mr\u001b[39m\u001b[38;5;245m-\u001b[39m\u001b[38;5;245m-\u001b[39m \u001b[38;5;230mjosiah\u001b[39m \u001b[38;5;187mjosiah\u001b[39m \u001b[38;5;229m1.4\u001b[39m \u001b[38;5;229mKB\u001b[39m \u001b[38;5;42mFri Jan 21 08:53:02 2022\u001b[39m  CHANGELOG.rst\r\n",
      "\u001b[38;5;4m\u001b[1md\u001b[0m\u001b[38;5;2mr\u001b[39m\u001b[38;5;3mw\u001b[39m\u001b[38;5;1mx\u001b[39m\u001b[38;5;2mr\u001b[39m\u001b[38;5;245m-\u001b[39m\u001b[38;5;1mx\u001b[39m\u001b[38;5;2mr\u001b[39m\u001b[38;5;245m-\u001b[39m\u001b[38;5;1mx\u001b[39m \u001b[38;5;230mjosiah\u001b[39m \u001b[38;5;187mjosiah\u001b[39m \u001b[38;5;229m4.0\u001b[39m \u001b[38;5;229mKB\u001b[39m \u001b[38;5;42mThu Jan 20 17:20:21 2022\u001b[39m \u001b[38;5;4m\u001b[1m dist\u001b[0m\r\n",
      "\u001b[38;5;4m\u001b[1md\u001b[0m\u001b[38;5;2mr\u001b[39m\u001b[38;5;3mw\u001b[39m\u001b[38;5;1mx\u001b[39m\u001b[38;5;2mr\u001b[39m\u001b[38;5;245m-\u001b[39m\u001b[38;5;1mx\u001b[39m\u001b[38;5;2mr\u001b[39m\u001b[38;5;245m-\u001b[39m\u001b[38;5;1mx\u001b[39m \u001b[38;5;230mjosiah\u001b[39m \u001b[38;5;187mjosiah\u001b[39m \u001b[38;5;229m4.0\u001b[39m \u001b[38;5;229mKB\u001b[39m \u001b[38;5;40mFri Jan 21 10:49:37 2022\u001b[39m \u001b[38;5;4m\u001b[1m euporie\u001b[0m\r\n",
      ".\u001b[38;5;2mr\u001b[39m\u001b[38;5;3mw\u001b[39m\u001b[38;5;245m-\u001b[39m\u001b[38;5;2mr\u001b[39m\u001b[38;5;245m-\u001b[39m\u001b[38;5;245m-\u001b[39m\u001b[38;5;2mr\u001b[39m\u001b[38;5;245m-\u001b[39m\u001b[38;5;245m-\u001b[39m \u001b[38;5;230mjosiah\u001b[39m \u001b[38;5;187mjosiah\u001b[39m \u001b[38;5;229m1.1\u001b[39m \u001b[38;5;229mKB\u001b[39m \u001b[38;5;36mFri May 21 07:59:37 2021\u001b[39m  LICENSE\r\n",
      ".\u001b[38;5;2mr\u001b[39m\u001b[38;5;3mw\u001b[39m\u001b[38;5;245m-\u001b[39m\u001b[38;5;2mr\u001b[39m\u001b[38;5;245m-\u001b[39m\u001b[38;5;245m-\u001b[39m\u001b[38;5;2mr\u001b[39m\u001b[38;5;245m-\u001b[39m\u001b[38;5;245m-\u001b[39m \u001b[38;5;230mjosiah\u001b[39m \u001b[38;5;187mjosiah\u001b[39m \u001b[38;5;216m110\u001b[39m \u001b[38;5;216mMB\u001b[39m \u001b[38;5;40mFri Jan 21 11:20:20 2022\u001b[39m  log.log\r\n",
      "\u001b[38;5;4m\u001b[1md\u001b[0m\u001b[38;5;2mr\u001b[39m\u001b[38;5;3mw\u001b[39m\u001b[38;5;1mx\u001b[39m\u001b[38;5;2mr\u001b[39m\u001b[38;5;245m-\u001b[39m\u001b[38;5;1mx\u001b[39m\u001b[38;5;2mr\u001b[39m\u001b[38;5;245m-\u001b[39m\u001b[38;5;1mx\u001b[39m \u001b[38;5;230mjosiah\u001b[39m \u001b[38;5;187mjosiah\u001b[39m \u001b[38;5;229m4.0\u001b[39m \u001b[38;5;229mKB\u001b[39m \u001b[38;5;36mWed Jun 30 09:24:27 2021\u001b[39m \u001b[38;5;4m\u001b[1m media\u001b[0m\r\n",
      ".\u001b[38;5;2mr\u001b[39m\u001b[38;5;3mw\u001b[39m\u001b[38;5;245m-\u001b[39m\u001b[38;5;2mr\u001b[39m\u001b[38;5;245m-\u001b[39m\u001b[38;5;245m-\u001b[39m\u001b[38;5;2mr\u001b[39m\u001b[38;5;245m-\u001b[39m\u001b[38;5;245m-\u001b[39m \u001b[38;5;230mjosiah\u001b[39m \u001b[38;5;187mjosiah\u001b[39m \u001b[38;5;229m4.0\u001b[39m \u001b[38;5;229mKB\u001b[39m \u001b[38;5;36mWed Jan 19 19:19:50 2022\u001b[39m  noxfile.py\r\n",
      ".\u001b[38;5;2mr\u001b[39m\u001b[38;5;3mw\u001b[39m\u001b[38;5;245m-\u001b[39m\u001b[38;5;2mr\u001b[39m\u001b[38;5;245m-\u001b[39m\u001b[38;5;245m-\u001b[39m\u001b[38;5;2mr\u001b[39m\u001b[38;5;245m-\u001b[39m\u001b[38;5;245m-\u001b[39m \u001b[38;5;230mjosiah\u001b[39m \u001b[38;5;187mjosiah\u001b[39m \u001b[38;5;229m146\u001b[39m \u001b[38;5;229mKB\u001b[39m \u001b[38;5;42mFri Jan 21 08:53:02 2022\u001b[39m  poetry.lock\r\n",
      ".\u001b[38;5;2mr\u001b[39m\u001b[38;5;3mw\u001b[39m\u001b[38;5;245m-\u001b[39m\u001b[38;5;2mr\u001b[39m\u001b[38;5;245m-\u001b[39m\u001b[38;5;245m-\u001b[39m\u001b[38;5;2mr\u001b[39m\u001b[38;5;245m-\u001b[39m\u001b[38;5;245m-\u001b[39m \u001b[38;5;230mjosiah\u001b[39m \u001b[38;5;187mjosiah\u001b[39m \u001b[38;5;229m4.0\u001b[39m \u001b[38;5;229mKB\u001b[39m \u001b[38;5;36mThu Jun 17 21:30:37 2021\u001b[39m  publish.log\r\n",
      ".\u001b[38;5;2mr\u001b[39m\u001b[38;5;3mw\u001b[39m\u001b[38;5;245m-\u001b[39m\u001b[38;5;2mr\u001b[39m\u001b[38;5;245m-\u001b[39m\u001b[38;5;245m-\u001b[39m\u001b[38;5;2mr\u001b[39m\u001b[38;5;245m-\u001b[39m\u001b[38;5;245m-\u001b[39m \u001b[38;5;230mjosiah\u001b[39m \u001b[38;5;187mjosiah\u001b[39m \u001b[38;5;229m1.8\u001b[39m \u001b[38;5;229mKB\u001b[39m \u001b[38;5;42mFri Jan 21 08:53:02 2022\u001b[39m  pyproject.toml\r\n",
      ".\u001b[38;5;2mr\u001b[39m\u001b[38;5;3mw\u001b[39m\u001b[38;5;245m-\u001b[39m\u001b[38;5;2mr\u001b[39m\u001b[38;5;245m-\u001b[39m\u001b[38;5;245m-\u001b[39m\u001b[38;5;2mr\u001b[39m\u001b[38;5;245m-\u001b[39m\u001b[38;5;245m-\u001b[39m \u001b[38;5;230mjosiah\u001b[39m \u001b[38;5;187mjosiah\u001b[39m  \u001b[38;5;229m13\u001b[39m \u001b[38;5;229mKB\u001b[39m \u001b[38;5;36mThu Jan  6 10:26:20 2022\u001b[39m  README.md\r\n",
      "\u001b[38;5;4m\u001b[1md\u001b[0m\u001b[38;5;2mr\u001b[39m\u001b[38;5;3mw\u001b[39m\u001b[38;5;1mx\u001b[39m\u001b[38;5;2mr\u001b[39m\u001b[38;5;245m-\u001b[39m\u001b[38;5;1mx\u001b[39m\u001b[38;5;2mr\u001b[39m\u001b[38;5;245m-\u001b[39m\u001b[38;5;1mx\u001b[39m \u001b[38;5;230mjosiah\u001b[39m \u001b[38;5;187mjosiah\u001b[39m \u001b[38;5;229m4.0\u001b[39m \u001b[38;5;229mKB\u001b[39m \u001b[38;5;40mFri Jan 21 10:49:37 2022\u001b[39m \u001b[38;5;4m\u001b[1m scripts\u001b[0m\r\n",
      "\u001b[38;5;4m\u001b[1md\u001b[0m\u001b[38;5;2mr\u001b[39m\u001b[38;5;3mw\u001b[39m\u001b[38;5;1mx\u001b[39m\u001b[38;5;2mr\u001b[39m\u001b[38;5;245m-\u001b[39m\u001b[38;5;1mx\u001b[39m\u001b[38;5;2mr\u001b[39m\u001b[38;5;245m-\u001b[39m\u001b[38;5;1mx\u001b[39m \u001b[38;5;230mjosiah\u001b[39m \u001b[38;5;187mjosiah\u001b[39m \u001b[38;5;229m4.0\u001b[39m \u001b[38;5;229mKB\u001b[39m \u001b[38;5;40mFri Jan 21 10:49:37 2022\u001b[39m \u001b[38;5;4m\u001b[1m tests\u001b[0m\r\n",
      ".\u001b[38;5;2mr\u001b[39m\u001b[38;5;3mw\u001b[39m\u001b[38;5;245m-\u001b[39m\u001b[38;5;2mr\u001b[39m\u001b[38;5;245m-\u001b[39m\u001b[38;5;245m-\u001b[39m\u001b[38;5;2mr\u001b[39m\u001b[38;5;245m-\u001b[39m\u001b[38;5;245m-\u001b[39m \u001b[38;5;230mjosiah\u001b[39m \u001b[38;5;187mjosiah\u001b[39m \u001b[38;5;229m3.2\u001b[39m \u001b[38;5;229mKB\u001b[39m \u001b[38;5;40mFri Jan 21 10:41:57 2022\u001b[39m  TODO.log\r\n"
     ]
    }
   ],
   "source": [
    "!ls -l --color=always"
   ]
  }
 ],
 "metadata": {
  "kernelspec": {
   "display_name": "Python 3 (ipykernel)",
   "language": "python",
   "name": "python3"
  },
  "language_info": {
   "codemirror_mode": {
    "name": "ipython",
    "version": 3
   },
   "file_extension": ".py",
   "mimetype": "text/x-python",
   "name": "python",
   "nbconvert_exporter": "python",
   "pygments_lexer": "ipython3",
   "version": "3.10.1"
  }
 },
 "nbformat": 4,
 "nbformat_minor": 5
}
