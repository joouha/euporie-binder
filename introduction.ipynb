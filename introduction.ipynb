{
 "cells": [
  {
   "cell_type": "markdown",
   "execution_count": 2,
   "id": "33c6cb91",
   "metadata": {
    "execute": {
     "shell": {
      "execute_reply": "2022-02-03T11:12:36.270550+00:00"
     }
    },
    "iopub": {
     "execute_input": "2022-02-03T11:12:36.263550+00:00",
     "status": {
      "busy": "2022-02-03T11:12:36.263144+00:00",
      "idle": "2021-12-17T08:24:16.475079+00:00"
     }
    }
   },
   "outputs": [
    {
     "ename": "SyntaxError",
     "evalue": "invalid syntax (2694064221.py, line 3)",
     "output_type": "error",
     "traceback": [
      "\u001b[0;36m  Input \u001b[0;32mIn [2]\u001b[0;36m\u001b[0m\n\u001b[0;31m    Welcome to `euporie`, a terminal based interactive development environment for Jupyter notebooks.\u001b[0m\n\u001b[0m            ^\u001b[0m\n\u001b[0;31mSyntaxError\u001b[0m\u001b[0;31m:\u001b[0m invalid syntax\n"
     ]
    }
   ],
   "source": [
    "# euporie\n",
    "\n",
    "Welcome to `euporie`, a terminal based interactive development environment for Jupyter notebooks.\n",
    "\n",
    "- Use `Up` and `Down` to navigate, `Enter` to edit a cell, and `Esc Esc` to stop editing a cell\n",
    "- Use `Ctrl+e` to execute or render a cell, or `Ctrl+r` to run a cell and select the next cell\n",
    "- You can view all keyboard shortcuts in the `Help` menu\n",
    "- The online documentation is available at [https://euporie.readthedocs.io](https://euporie.readthedocs.io)\n",
    "---"
   ]
  },
  {
   "cell_type": "markdown",
   "id": "1e737449",
   "metadata": {},
   "source": [
    "## Markdown Cells\n",
    "\n",
    "`euporie` will render markdown cells in notebooks, including elements such as:"
   ]
  },
  {
   "cell_type": "markdown",
   "execution_count": null,
   "id": "f25acbf0",
   "metadata": {
    "execute": {
     "shell": {
      "execute_reply": "2022-02-03T11:12:36.273231+00:00"
     }
    },
    "iopub": {
     "status": {
      "busy": "2022-02-03T11:12:36.273087+00:00",
      "idle": "2022-02-03T11:12:36.273358+00:00"
     }
    }
   },
   "source": [
    "Code blocks:\n",
    "\n",
    "```python\n",
    "def hello():\n",
    "    print(\"Hello world!\")\n",
    "```"
   ]
  },
  {
   "cell_type": "markdown",
   "execution_count": null,
   "id": "4946d7d3",
   "metadata": {
    "execute": {
     "shell": {
      "execute_reply": "2022-02-03T11:12:36.273231+00:00"
     }
    },
    "iopub": {
     "status": {
      "busy": "2022-02-03T11:12:36.273087+00:00",
      "idle": "2022-02-03T11:12:36.273358+00:00"
     }
    }
   },
   "source": [
    "Tables:\n",
    "\n",
    "| Item         | Can `euporie` display it? |\n",
    "|-------------:|:--------------------------|\n",
    "| **Markdown** | Yes\n",
    "| **Tables**   | Yes\n",
    "| **LaTeX**    | Yes"
   ]
  },
  {
   "cell_type": "markdown",
   "execution_count": null,
   "id": "3de54f9c",
   "metadata": {
    "execute": {
     "shell": {
      "execute_reply": "2022-02-03T11:12:36.273231+00:00"
     }
    },
    "iopub": {
     "status": {
      "busy": "2022-02-03T11:12:36.273087+00:00",
      "idle": "2022-02-03T11:12:36.273358+00:00"
     }
    }
   },
   "source": [
    "LaTex maths equations:\n",
    "\n",
    "$$\n",
    "s = ut + \\frac{1}{2}at^2\n",
    "$$\n",
    "$$\n",
    "x =\\frac{-b \\pm \\sqrt{\\frac{1}{2} a b^2}}{2a}\n",
    "$$\n",
    "$$\n",
    "f = \\sum_{i = 0}^{\\infty} \\frac{f^{(i)}(0)}{i!} x^i\n",
    "$$"
   ]
  },
  {
   "cell_type": "markdown",
   "id": "b1a9de46",
   "metadata": {},
   "source": [
    "> Quote blocks\n",
    "\n",
    "- Lists\n",
    "\n",
    "*Inline* **styles** and `inline code`"
   ]
  },
  {
   "cell_type": "markdown",
   "id": "39eae66d",
   "metadata": {},
   "source": [
    "## Cell Output\n",
    "\n",
    "`Euporie` will also render the output of code cells.\n",
    "\n",
    "This includes displaying Markdown, LaTeX, Images, HTML, SVG, and ANSI text:"
   ]
  },
  {
   "cell_type": "code",
   "execution_count": 1,
   "id": "e9bdc4c2",
   "metadata": {
    "execute": {
     "shell": {
      "execute_reply": "2022-02-16T11:08:19.149766+00:00"
     }
    },
    "iopub": {
     "execute_input": "2022-02-16T11:08:19.137229+00:00",
     "status": {
      "busy": "2022-02-16T11:08:19.135967+00:00",
      "idle": "2022-02-16T11:08:19.150514+00:00"
     }
    }
   },
   "outputs": [
    {
     "data": {
      "text/markdown": [
       "Regular *Italic* **Bold**"
      ]
     },
     "metadata": {},
     "output_type": "display_data"
    }
   ],
   "source": [
    "display({\"text/markdown\": \"Regular *Italic* **Bold**\"}, raw=True)"
   ]
  },
  {
   "cell_type": "code",
   "execution_count": 2,
   "id": "583a8b24",
   "metadata": {
    "execute": {
     "shell": {
      "execute_reply": "2022-02-16T11:08:19.156306+00:00"
     }
    },
    "iopub": {
     "execute_input": "2022-02-16T11:08:19.152478+00:00",
     "status": {
      "busy": "2022-02-16T11:08:19.152175+00:00",
      "idle": "2022-02-16T11:08:19.156885+00:00"
     }
    }
   },
   "outputs": [
    {
     "data": {
      "text/latex": [
       "$x =\\frac{-b \\pm \\sqrt{\\frac{1}{2} a b^2}}{2a}$"
      ]
     },
     "metadata": {},
     "output_type": "display_data"
    }
   ],
   "source": [
    "display({\"text/latex\": r\"$x =\\frac{-b \\pm \\sqrt{\\frac{1}{2} a b^2}}{2a}$\"}, raw=True)"
   ]
  },
  {
   "cell_type": "code",
   "execution_count": 3,
   "id": "97e10f0f",
   "metadata": {
    "execute": {
     "shell": {
      "execute_reply": "2022-02-16T11:08:19.526395+00:00"
     }
    },
    "iopub": {
     "execute_input": "2022-02-16T11:08:19.157955+00:00",
     "status": {
      "busy": "2022-02-16T11:08:19.157765+00:00",
      "idle": "2022-02-16T11:08:19.527257+00:00"
     }
    }
   },
   "outputs": [
    {
     "data": {
      "image/png": "[encoded data removed]",
      "text/plain": [
       "<IPython.core.display.Image object>"
      ]
     },
     "execution_count": 3,
     "metadata": {},
     "output_type": "execute_result"
    }
   ],
   "source": [
    "from IPython.display import *\n",
    "import urllib.request\n",
    "data = urllib.request.urlopen(\"https://www.python.org/static/img/python-logo.png\").read()\n",
    "Image(data)"
   ]
  },
  {
   "cell_type": "markdown",
   "execution_count": null,
   "id": "43a7ed60",
   "metadata": {
    "execute": {
     "shell": {
      "execute_reply": "2022-02-03T11:12:36.282953+00:00"
     }
    },
    "iopub": {
     "status": {
      "busy": "2022-02-03T11:12:36.282693+00:00",
      "idle": "2022-02-03T11:12:36.283084+00:00"
     }
    }
   },
   "source": [
    "This means you can use libraries like `pandas`, and display dataframes as you would expect:"
   ]
  },
  {
   "cell_type": "code",
   "execution_count": 4,
   "id": "5dc84d78",
   "metadata": {
    "execute": {
     "shell": {
      "execute_reply": "2022-02-16T11:08:20.296522+00:00"
     }
    },
    "iopub": {
     "execute_input": "2022-02-16T11:08:19.528869+00:00",
     "status": {
      "busy": "2022-02-16T11:08:19.528528+00:00",
      "idle": "2022-02-16T11:08:20.297331+00:00"
     }
    }
   },
   "outputs": [
    {
     "data": {
      "text/html": [
       "<div>\n",
       "<style scoped>\n",
       "    .dataframe tbody tr th:only-of-type {\n",
       "        vertical-align: middle;\n",
       "    }\n",
       "\n",
       "    .dataframe tbody tr th {\n",
       "        vertical-align: top;\n",
       "    }\n",
       "\n",
       "    .dataframe thead th {\n",
       "        text-align: right;\n",
       "    }\n",
       "</style>\n",
       "<table border=\"1\" class=\"dataframe\">\n",
       "  <thead>\n",
       "    <tr style=\"text-align: right;\">\n",
       "      <th></th>\n",
       "      <th>a</th>\n",
       "      <th>b</th>\n",
       "      <th>c</th>\n",
       "      <th>d</th>\n",
       "    </tr>\n",
       "  </thead>\n",
       "  <tbody>\n",
       "    <tr>\n",
       "      <th>0</th>\n",
       "      <td>0.047565</td>\n",
       "      <td>0.559159</td>\n",
       "      <td>0.825131</td>\n",
       "      <td>0.734244</td>\n",
       "    </tr>\n",
       "    <tr>\n",
       "      <th>1</th>\n",
       "      <td>0.211812</td>\n",
       "      <td>0.582306</td>\n",
       "      <td>0.851747</td>\n",
       "      <td>0.736035</td>\n",
       "    </tr>\n",
       "    <tr>\n",
       "      <th>2</th>\n",
       "      <td>0.197174</td>\n",
       "      <td>0.342539</td>\n",
       "      <td>0.855740</td>\n",
       "      <td>0.818069</td>\n",
       "    </tr>\n",
       "    <tr>\n",
       "      <th>3</th>\n",
       "      <td>0.401556</td>\n",
       "      <td>0.740108</td>\n",
       "      <td>0.742639</td>\n",
       "      <td>0.800052</td>\n",
       "    </tr>\n",
       "    <tr>\n",
       "      <th>4</th>\n",
       "      <td>0.343826</td>\n",
       "      <td>0.344034</td>\n",
       "      <td>0.500477</td>\n",
       "      <td>0.608586</td>\n",
       "    </tr>\n",
       "    <tr>\n",
       "      <th>...</th>\n",
       "      <td>...</td>\n",
       "      <td>...</td>\n",
       "      <td>...</td>\n",
       "      <td>...</td>\n",
       "    </tr>\n",
       "    <tr>\n",
       "      <th>19995</th>\n",
       "      <td>0.353868</td>\n",
       "      <td>0.229238</td>\n",
       "      <td>0.660691</td>\n",
       "      <td>0.821696</td>\n",
       "    </tr>\n",
       "    <tr>\n",
       "      <th>19996</th>\n",
       "      <td>0.030828</td>\n",
       "      <td>0.625994</td>\n",
       "      <td>0.778932</td>\n",
       "      <td>0.699474</td>\n",
       "    </tr>\n",
       "    <tr>\n",
       "      <th>19997</th>\n",
       "      <td>0.243155</td>\n",
       "      <td>0.344380</td>\n",
       "      <td>0.489134</td>\n",
       "      <td>0.783750</td>\n",
       "    </tr>\n",
       "    <tr>\n",
       "      <th>19998</th>\n",
       "      <td>0.411775</td>\n",
       "      <td>0.829925</td>\n",
       "      <td>0.382035</td>\n",
       "      <td>0.413990</td>\n",
       "    </tr>\n",
       "    <tr>\n",
       "      <th>19999</th>\n",
       "      <td>0.396063</td>\n",
       "      <td>0.562643</td>\n",
       "      <td>0.636709</td>\n",
       "      <td>0.632444</td>\n",
       "    </tr>\n",
       "  </tbody>\n",
       "</table>\n",
       "<p>20000 rows × 4 columns</p>\n",
       "</div>"
      ],
      "text/plain": [
       "              a         b         c         d\n",
       "0      0.047565  0.559159  0.825131  0.734244\n",
       "1      0.211812  0.582306  0.851747  0.736035\n",
       "2      0.197174  0.342539  0.855740  0.818069\n",
       "3      0.401556  0.740108  0.742639  0.800052\n",
       "4      0.343826  0.344034  0.500477  0.608586\n",
       "...         ...       ...       ...       ...\n",
       "19995  0.353868  0.229238  0.660691  0.821696\n",
       "19996  0.030828  0.625994  0.778932  0.699474\n",
       "19997  0.243155  0.344380  0.489134  0.783750\n",
       "19998  0.411775  0.829925  0.382035  0.413990\n",
       "19999  0.396063  0.562643  0.636709  0.632444\n",
       "\n",
       "[20000 rows x 4 columns]"
      ]
     },
     "execution_count": 4,
     "metadata": {},
     "output_type": "execute_result"
    }
   ],
   "source": [
    "import pandas as pd\n",
    "import numpy as np\n",
    "\n",
    "x = np.arange(20_000)\n",
    "\n",
    "df = pd.DataFrame(\n",
    "    {\n",
    "        col: np.random.beta(i+1, 3, x.shape)\n",
    "        for col, i in zip(\"abcd\", [0, 2, 4, 6])\n",
    "    },\n",
    "    index = x,\n",
    ")\n",
    "df#.head()"
   ]
  },
  {
   "cell_type": "markdown",
   "execution_count": null,
   "id": "10690823",
   "metadata": {
    "execute": {
     "shell": {
      "execute_reply": "2022-02-03T11:12:36.286420+00:00"
     }
    },
    "iopub": {
     "status": {
      "busy": "2022-02-03T11:12:36.286194+00:00",
      "idle": "2022-02-03T11:12:36.286552+00:00"
     }
    }
   },
   "source": [
    "`euporie` can render images using Sixel graphics if your terminal supports it. Otherwise it will fall back to using character-based terminal graphics.\n",
    "\n",
    "This means you can produce plots with `matplotlib` and `euporie` will display them in the best way it can:"
   ]
  },
  {
   "cell_type": "code",
   "execution_count": 5,
   "id": "2017c662",
   "metadata": {
    "execute": {
     "shell": {
      "execute_reply": "2022-02-16T11:08:21.852100+00:00"
     }
    },
    "iopub": {
     "execute_input": "2022-02-16T11:08:20.300070+00:00",
     "status": {
      "busy": "2022-02-16T11:08:20.299711+00:00",
      "idle": "2022-02-16T11:08:21.852873+00:00"
     }
    }
   },
   "outputs": [
    {
     "data": {
      "image/png": "[encoded data removed]",
      "text/plain": [
       "<Figure size 1080x288 with 1 Axes>"
      ]
     },
     "metadata": {},
     "output_type": "display_data"
    }
   ],
   "source": [
    "from matplotlib import pyplot as plt\n",
    "\n",
    "fig, ax = plt.subplots(figsize=(15, 4), facecolor=\"#FFF\")\n",
    "df.plot.hist(ax=ax, bins=80, alpha=0.75)\n",
    "plt.show()"
   ]
  },
  {
   "cell_type": "markdown",
   "execution_count": null,
   "id": "f85075bd",
   "metadata": {
    "execute": {
     "shell": {
      "execute_reply": "2022-02-03T11:12:36.289180+00:00"
     }
    },
    "iopub": {
     "status": {
      "busy": "2022-02-03T11:12:36.288988+00:00",
      "idle": "2022-02-03T11:12:36.289313+00:00"
     }
    }
   },
   "source": [
    "If your terminal does not support graphics, the excellent `plotext` library works very well with euporie:"
   ]
  },
  {
   "cell_type": "code",
   "execution_count": 6,
   "id": "a36015d6",
   "metadata": {
    "execute": {
     "shell": {
      "execute_reply": "2022-02-16T11:08:22.056580+00:00"
     }
    },
    "iopub": {
     "execute_input": "2022-02-16T11:08:21.854124+00:00",
     "status": {
      "busy": "2022-02-16T11:08:21.853852+00:00",
      "idle": "2022-02-16T11:08:22.057262+00:00"
     }
    }
   },
   "outputs": [
    {
     "name": "stdout",
     "output_type": "stream",
     "text": [
      "\u001b[107m\u001b[30m                                  Histogram Plot                                \u001b[0m\n",
      "\u001b[107m\u001b[30m     ┌─────────────────────────────────────────────────────────────────────────┐\u001b[0m\n",
      "\u001b[107m\u001b[30m771.0┤\u001b[0m\u001b[107m \u001b[0m\u001b[107m\u001b[94m▖▖▖\u001b[0m\u001b[107m\u001b[30m a \u001b[0m\u001b[107m                                                                  \u001b[0m\u001b[107m\u001b[30m│\u001b[0m\n",
      "\u001b[107m\u001b[30m     │\u001b[0m\u001b[107m \u001b[0m\u001b[107m\u001b[92m▖▖▖\u001b[0m\u001b[107m\u001b[30m b \u001b[0m\u001b[107m                                                                  \u001b[0m\u001b[107m\u001b[30m│\u001b[0m\n",
      "\u001b[107m\u001b[30m642.5┤\u001b[0m\u001b[107m \u001b[0m\u001b[107m\u001b[91m▖▖▖\u001b[0m\u001b[107m\u001b[30m c \u001b[0m\u001b[107m\u001b[94m▖\u001b[0m\u001b[107m  \u001b[0m\u001b[107m\u001b[94m▄▄\u001b[0m\u001b[107m                                       \u001b[0m\u001b[107m\u001b[96m▄▄▟▙██\u001b[0m\u001b[107m                \u001b[0m\u001b[107m\u001b[30m│\u001b[0m\n",
      "\u001b[107m\u001b[30m514.0┤\u001b[0m\u001b[107m \u001b[0m\u001b[107m\u001b[96m▖▖▖\u001b[0m\u001b[107m\u001b[30m d \u001b[0m\u001b[107m\u001b[94m█████\u001b[0m\u001b[107m                              \u001b[0m\u001b[107m\u001b[91m▗▄▄▄\u001b[0m\u001b[107m\u001b[96m▄▖▟█▙████████▄▄▖\u001b[0m\u001b[107m           \u001b[0m\u001b[107m\u001b[30m│\u001b[0m\n",
      "\u001b[107m\u001b[30m     │       \u001b[0m\u001b[107m\u001b[94m███████▙▟▙█▌\u001b[0m\u001b[107m       \u001b[0m\u001b[107m\u001b[92m▗▄\u001b[0m\u001b[107m   \u001b[0m\u001b[107m\u001b[92m█▙█▄▟██\u001b[0m\u001b[107m\u001b[91m█▙▄▄██\u001b[0m\u001b[107m\u001b[96m██████████████████\u001b[0m\u001b[107m           \u001b[0m\u001b[107m\u001b[30m│\u001b[0m\n",
      "\u001b[107m\u001b[30m385.5┤\u001b[0m\u001b[107m\u001b[94m█████████████████████▄\u001b[0m\u001b[107m \u001b[0m\u001b[107m\u001b[92m▄▄▄▟████████\u001b[0m\u001b[107m\u001b[91m███████\u001b[0m\u001b[107m\u001b[96m██████████████████████▖\u001b[0m\u001b[107m        \u001b[0m\u001b[107m\u001b[30m│\u001b[0m\n",
      "\u001b[107m\u001b[30m     │\u001b[0m\u001b[107m\u001b[94m███████████████████\u001b[0m\u001b[107m\u001b[92m█████████████\u001b[0m\u001b[107m\u001b[91m███████\u001b[0m\u001b[107m\u001b[96m██████████████████████████▙\u001b[0m\u001b[107m       \u001b[0m\u001b[107m\u001b[30m│\u001b[0m\n",
      "\u001b[107m\u001b[30m257.0┤\u001b[0m\u001b[107m\u001b[94m███████████████\u001b[0m\u001b[107m\u001b[92m█████████████\u001b[0m\u001b[107m\u001b[91m█████████\u001b[0m\u001b[107m\u001b[96m██████████████████████████████▙▖\u001b[0m\u001b[107m    \u001b[0m\u001b[107m\u001b[30m│\u001b[0m\n",
      "\u001b[107m\u001b[30m128.5┤\u001b[0m\u001b[107m\u001b[94m███████████\u001b[0m\u001b[107m\u001b[92m██████████████\u001b[0m\u001b[107m\u001b[91m███████\u001b[0m\u001b[107m\u001b[96m████████████████████████████████████▙\u001b[0m\u001b[107m    \u001b[0m\u001b[107m\u001b[30m│\u001b[0m\n",
      "\u001b[107m\u001b[30m     │\u001b[0m\u001b[107m\u001b[94m███████\u001b[0m\u001b[107m\u001b[92m█████████\u001b[0m\u001b[107m\u001b[91m██\u001b[0m\u001b[107m\u001b[92m█\u001b[0m\u001b[107m\u001b[91m███████\u001b[0m\u001b[107m\u001b[96m████████████████████████████████████████████▄▖\u001b[0m\u001b[107m \u001b[0m\u001b[107m\u001b[30m│\u001b[0m\n",
      "\u001b[107m\u001b[30m  0.0┤\u001b[0m\u001b[107m\u001b[94m█\u001b[0m\u001b[107m\u001b[92m████\u001b[0m\u001b[107m\u001b[91m██████\u001b[0m\u001b[107m\u001b[96m█████████████████████████████████████████████████████████████▙\u001b[0m\u001b[107m\u001b[30m│\u001b[0m\n",
      "\u001b[107m\u001b[30m     └┬─────────────────┬─────────────────┬─────────────────┬─────────────────┬┘\u001b[0m\n",
      "\u001b[107m\u001b[30m      0.00            0.25              0.50              0.75             1.00 \u001b[0m\u001b[0m\n"
     ]
    }
   ],
   "source": [
    "import plotext as plt\n",
    "\n",
    "plt.clear_figure()\n",
    "plt.plot_size(100, 15)\n",
    "for name, col in df.items():\n",
    "    plt.hist(col.values, 80, label=name)\n",
    "plt.title(\"Histogram Plot\")\n",
    "plt.show()"
   ]
  },
  {
   "cell_type": "markdown",
   "execution_count": null,
   "id": "3adda7cd",
   "metadata": {
    "execute": {
     "shell": {
      "execute_reply": "2022-02-03T11:12:36.292730+00:00"
     }
    },
    "iopub": {
     "status": {
      "busy": "2022-02-03T11:12:36.292507+00:00",
      "idle": "2022-02-03T11:12:36.292880+00:00"
     }
    }
   },
   "source": [
    "It can also display SVG output:"
   ]
  },
  {
   "cell_type": "code",
   "execution_count": 7,
   "id": "02fe9798",
   "metadata": {
    "execute": {
     "shell": {
      "execute_reply": "2022-02-16T11:08:22.063910+00:00"
     }
    },
    "iopub": {
     "execute_input": "2022-02-16T11:08:22.058466+00:00",
     "status": {
      "busy": "2022-02-16T11:08:22.058214+00:00",
      "idle": "2022-02-16T11:08:22.064507+00:00"
     }
    }
   },
   "outputs": [
    {
     "data": {
      "image/svg+xml": [
       "<svg width=\"200\" height=\"200\"><polygon points=\"105,5 45,185 195,65 5,65 165,185\" fill=\"yellow\"/></svg>"
      ],
      "text/plain": [
       "<IPython.core.display.SVG object>"
      ]
     },
     "execution_count": 7,
     "metadata": {},
     "output_type": "execute_result"
    }
   ],
   "source": [
    "from IPython.display import SVG\n",
    "\n",
    "SVG(\n",
    "    '<svg width=\"200\" height=\"200\"><polygon points=\"105,5 45,185 195,65 5,65 165,185\" fill=\"yellow\" /></svg>'\n",
    ")"
   ]
  },
  {
   "cell_type": "markdown",
   "execution_count": null,
   "id": "2c5ea8bf",
   "metadata": {
    "execute": {
     "shell": {
      "execute_reply": "2022-02-03T11:12:36.296087+00:00"
     }
    },
    "iopub": {
     "status": {
      "busy": "2022-02-03T11:12:36.295875+00:00",
      "idle": "2022-02-03T11:12:36.296226+00:00"
     }
    }
   },
   "source": [
    "`euoporie` can response to requests for user input from the kernel (press enter to send your input):"
   ]
  },
  {
   "cell_type": "code",
   "execution_count": 8,
   "id": "e7ba2b1c",
   "metadata": {
    "execute": {
     "shell": {
      "execute_reply": "2022-02-16T11:08:25.034779+00:00"
     }
    },
    "iopub": {
     "execute_input": "2022-02-16T11:08:22.065738+00:00",
     "status": {
      "busy": "2022-02-16T11:08:22.065489+00:00",
      "idle": "2022-02-16T11:08:25.037180+00:00"
     }
    }
   },
   "outputs": [
    {
     "name": "stdout",
     "output_type": "stream",
     "text": [
      "Hello Josiah\n"
     ]
    }
   ],
   "source": [
    "name = input(\"Enter your name:\")\n",
    "print(f\"Hello {name}\")"
   ]
  },
  {
   "cell_type": "markdown",
   "execution_count": null,
   "id": "930e6d01",
   "metadata": {
    "execute": {
     "shell": {
      "execute_reply": "2022-02-03T11:12:36.299041+00:00"
     }
    },
    "iopub": {
     "execute_input": "2022-02-03T11:10:23.378289+00:00",
     "status": {
      "busy": "2022-02-03T11:12:36.298716+00:00",
      "idle": "2022-02-03T11:12:36.299174+00:00"
     }
    }
   },
   "source": [
    "`euporie` supporst ANSI output, so  works with libraries like `tqdm` and `rich`:"
   ]
  },
  {
   "cell_type": "code",
   "execution_count": 9,
   "id": "647ba74c",
   "metadata": {
    "execute": {
     "shell": {
      "execute_reply": "2022-02-16T11:08:29.098413+00:00"
     }
    },
    "iopub": {
     "execute_input": "2022-02-16T11:08:25.039636+00:00",
     "status": {
      "busy": "2022-02-16T11:08:25.038767+00:00",
      "idle": "2022-02-16T11:08:29.099088+00:00"
     }
    }
   },
   "outputs": [
    {
     "name": "stderr",
     "output_type": "stream",
     "text": [
      "\r",
      "  0%|                                                                        | 0/20 [00:00<?, ?it/s]\r",
      "  5%|███▏                                                            | 1/20 [00:00<00:03,  4.99it/s]\r",
      " 10%|██████▍                                                         | 2/20 [00:00<00:03,  4.98it/s]\r",
      " 15%|█████████▌                                                      | 3/20 [00:00<00:03,  4.97it/s]\r",
      " 20%|████████████▊                                                   | 4/20 [00:00<00:03,  4.97it/s]\r",
      " 25%|████████████████                                                | 5/20 [00:01<00:03,  4.97it/s]\r",
      " 30%|███████████████████▏                                            | 6/20 [00:01<00:02,  4.97it/s]\r",
      " 35%|██████████████████████▍                                         | 7/20 [00:01<00:02,  4.97it/s]\r",
      " 40%|█████████████████████████▌                                      | 8/20 [00:01<00:02,  4.97it/s]\r",
      " 45%|████████████████████████████▊                                   | 9/20 [00:01<00:02,  4.97it/s]\r",
      " 50%|███████████████████████████████▌                               | 10/20 [00:02<00:02,  4.97it/s]\r",
      " 55%|██████████████████████████████████▋                            | 11/20 [00:02<00:01,  4.97it/s]\r",
      " 60%|█████████████████████████████████████▊                         | 12/20 [00:02<00:01,  4.97it/s]\r",
      " 65%|████████████████████████████████████████▉                      | 13/20 [00:02<00:01,  4.97it/s]\r",
      " 70%|████████████████████████████████████████████                   | 14/20 [00:02<00:01,  4.97it/s]\r",
      " 75%|███████████████████████████████████████████████▎               | 15/20 [00:03<00:01,  4.96it/s]\r",
      " 80%|██████████████████████████████████████████████████▍            | 16/20 [00:03<00:00,  4.96it/s]\r",
      " 85%|█████████████████████████████████████████████████████▌         | 17/20 [00:03<00:00,  4.96it/s]\r",
      " 90%|████████████████████████████████████████████████████████▋      | 18/20 [00:03<00:00,  4.96it/s]\r",
      " 95%|███████████████████████████████████████████████████████████▊   | 19/20 [00:03<00:00,  4.95it/s]\r",
      "100%|███████████████████████████████████████████████████████████████| 20/20 [00:04<00:00,  4.93it/s]\r",
      "100%|███████████████████████████████████████████████████████████████| 20/20 [00:04<00:00,  4.96it/s]\n"
     ]
    }
   ],
   "source": [
    "import time\n",
    "from tqdm import tqdm\n",
    "\n",
    "for i in tqdm(range(20), ncols=100):\n",
    "    time.sleep(0.2)"
   ]
  },
  {
   "cell_type": "code",
   "execution_count": 10,
   "id": "438b1715",
   "metadata": {
    "execute": {
     "shell": {
      "execute_reply": "2022-02-16T11:08:33.187586+00:00"
     }
    },
    "iopub": {
     "execute_input": "2022-02-16T11:08:29.100639+00:00",
     "status": {
      "busy": "2022-02-16T11:08:29.100293+00:00",
      "idle": "2022-02-16T11:08:33.188270+00:00"
     }
    }
   },
   "outputs": [
    {
     "name": "stdout",
     "output_type": "stream",
     "text": [
      "\u001b[?25l\r",
      "\u001b[2KWorking... \u001b[38;5;237m━━━━━━━━━━━━━━━━━━━━━━━━━━━━━━━━━━━━━━━━\u001b[0m \u001b[35m  0%\u001b[0m \u001b[36m-:--:--\u001b[0m\r",
      "\u001b[2KWorking... \u001b[38;5;237m━━━━━━━━━━━━━━━━━━━━━━━━━━━━━━━━━━━━━━━━\u001b[0m \u001b[35m  0%\u001b[0m \u001b[36m-:--:--\u001b[0m\r",
      "\u001b[2KWorking... \u001b[38;5;237m━━━━━━━━━━━━━━━━━━━━━━━━━━━━━━━━━━━━━━━━\u001b[0m \u001b[35m  0%\u001b[0m \u001b[36m-:--:--\u001b[0m\r",
      "\u001b[2KWorking... \u001b[38;2;249;38;114m━━\u001b[0m\u001b[38;5;237m╺\u001b[0m\u001b[38;5;237m━━━━━━━━━━━━━━━━━━━━━━━━━━━━━━━━━━━━━\u001b[0m \u001b[35m  5%\u001b[0m \u001b[36m-:--:--\u001b[0m\r",
      "\u001b[2KWorking... \u001b[38;2;249;38;114m━━\u001b[0m\u001b[38;5;237m╺\u001b[0m\u001b[38;5;237m━━━━━━━━━━━━━━━━━━━━━━━━━━━━━━━━━━━━━\u001b[0m \u001b[35m  5%\u001b[0m \u001b[36m-:--:--\u001b[0m\r",
      "\u001b[2KWorking... \u001b[38;2;249;38;114m━━━━\u001b[0m\u001b[38;5;237m╺\u001b[0m\u001b[38;5;237m━━━━━━━━━━━━━━━━━━━━━━━━━━━━━━━━━━━\u001b[0m \u001b[35m 10%\u001b[0m \u001b[36m0:00:04\u001b[0m\r",
      "\u001b[2KWorking... \u001b[38;2;249;38;114m━━━━\u001b[0m\u001b[38;5;237m╺\u001b[0m\u001b[38;5;237m━━━━━━━━━━━━━━━━━━━━━━━━━━━━━━━━━━━\u001b[0m \u001b[35m 10%\u001b[0m \u001b[36m0:00:04\u001b[0m\r",
      "\u001b[2KWorking... \u001b[38;2;249;38;114m━━━━━━\u001b[0m\u001b[38;5;237m╺\u001b[0m\u001b[38;5;237m━━━━━━━━━━━━━━━━━━━━━━━━━━━━━━━━━\u001b[0m \u001b[35m 15%\u001b[0m \u001b[36m0:00:04\u001b[0m\r",
      "\u001b[2KWorking... \u001b[38;2;249;38;114m━━━━━━\u001b[0m\u001b[38;5;237m╺\u001b[0m\u001b[38;5;237m━━━━━━━━━━━━━━━━━━━━━━━━━━━━━━━━━\u001b[0m \u001b[35m 15%\u001b[0m \u001b[36m0:00:04\u001b[0m\r",
      "\u001b[2KWorking... \u001b[38;2;249;38;114m━━━━━━━━\u001b[0m\u001b[38;5;237m╺\u001b[0m\u001b[38;5;237m━━━━━━━━━━━━━━━━━━━━━━━━━━━━━━━\u001b[0m \u001b[35m 20%\u001b[0m \u001b[36m0:00:04\u001b[0m\r",
      "\u001b[2KWorking... \u001b[38;2;249;38;114m━━━━━━━━\u001b[0m\u001b[38;5;237m╺\u001b[0m\u001b[38;5;237m━━━━━━━━━━━━━━━━━━━━━━━━━━━━━━━\u001b[0m \u001b[35m 20%\u001b[0m \u001b[36m0:00:04\u001b[0m\r",
      "\u001b[2KWorking... \u001b[38;2;249;38;114m━━━━━━━━━━\u001b[0m\u001b[38;5;237m╺\u001b[0m\u001b[38;5;237m━━━━━━━━━━━━━━━━━━━━━━━━━━━━━\u001b[0m \u001b[35m 25%\u001b[0m \u001b[36m0:00:04\u001b[0m\r",
      "\u001b[2KWorking... \u001b[38;2;249;38;114m━━━━━━━━━━\u001b[0m\u001b[38;5;237m╺\u001b[0m\u001b[38;5;237m━━━━━━━━━━━━━━━━━━━━━━━━━━━━━\u001b[0m \u001b[35m 25%\u001b[0m \u001b[36m0:00:04\u001b[0m\r",
      "\u001b[2KWorking... \u001b[38;2;249;38;114m━━━━━━━━━━━━\u001b[0m\u001b[38;5;237m╺\u001b[0m\u001b[38;5;237m━━━━━━━━━━━━━━━━━━━━━━━━━━━\u001b[0m \u001b[35m 30%\u001b[0m \u001b[36m0:00:03\u001b[0m\r",
      "\u001b[2KWorking... \u001b[38;2;249;38;114m━━━━━━━━━━━━\u001b[0m\u001b[38;5;237m╺\u001b[0m\u001b[38;5;237m━━━━━━━━━━━━━━━━━━━━━━━━━━━\u001b[0m \u001b[35m 30%\u001b[0m \u001b[36m0:00:03\u001b[0m\r",
      "\u001b[2KWorking... \u001b[38;2;249;38;114m━━━━━━━━━━━━━━\u001b[0m\u001b[38;5;237m╺\u001b[0m\u001b[38;5;237m━━━━━━━━━━━━━━━━━━━━━━━━━\u001b[0m \u001b[35m 35%\u001b[0m \u001b[36m0:00:03\u001b[0m\r",
      "\u001b[2KWorking... \u001b[38;2;249;38;114m━━━━━━━━━━━━━━\u001b[0m\u001b[38;5;237m╺\u001b[0m\u001b[38;5;237m━━━━━━━━━━━━━━━━━━━━━━━━━\u001b[0m \u001b[35m 35%\u001b[0m \u001b[36m0:00:03\u001b[0m\r",
      "\u001b[2KWorking... \u001b[38;2;249;38;114m━━━━━━━━━━━━━━━━\u001b[0m\u001b[38;5;237m╺\u001b[0m\u001b[38;5;237m━━━━━━━━━━━━━━━━━━━━━━━\u001b[0m \u001b[35m 40%\u001b[0m \u001b[36m0:00:03\u001b[0m\r",
      "\u001b[2KWorking... \u001b[38;2;249;38;114m━━━━━━━━━━━━━━━━\u001b[0m\u001b[38;5;237m╺\u001b[0m\u001b[38;5;237m━━━━━━━━━━━━━━━━━━━━━━━\u001b[0m \u001b[35m 40%\u001b[0m \u001b[36m0:00:03\u001b[0m\r",
      "\u001b[2KWorking... \u001b[38;2;249;38;114m━━━━━━━━━━━━━━━━━━\u001b[0m\u001b[38;5;237m╺\u001b[0m\u001b[38;5;237m━━━━━━━━━━━━━━━━━━━━━\u001b[0m \u001b[35m 45%\u001b[0m \u001b[36m0:00:03\u001b[0m\r",
      "\u001b[2KWorking... \u001b[38;2;249;38;114m━━━━━━━━━━━━━━━━━━\u001b[0m\u001b[38;5;237m╺\u001b[0m\u001b[38;5;237m━━━━━━━━━━━━━━━━━━━━━\u001b[0m \u001b[35m 45%\u001b[0m \u001b[36m0:00:03\u001b[0m\r",
      "\u001b[2KWorking... \u001b[38;2;249;38;114m━━━━━━━━━━━━━━━━━━━━\u001b[0m\u001b[38;5;237m╺\u001b[0m\u001b[38;5;237m━━━━━━━━━━━━━━━━━━━\u001b[0m \u001b[35m 50%\u001b[0m \u001b[36m0:00:03\u001b[0m\r",
      "\u001b[2KWorking... \u001b[38;2;249;38;114m━━━━━━━━━━━━━━━━━━━━━━\u001b[0m\u001b[38;5;237m╺\u001b[0m\u001b[38;5;237m━━━━━━━━━━━━━━━━━\u001b[0m \u001b[35m 55%\u001b[0m \u001b[36m0:00:02\u001b[0m\r",
      "\u001b[2KWorking... \u001b[38;2;249;38;114m━━━━━━━━━━━━━━━━━━━━━━\u001b[0m\u001b[38;5;237m╺\u001b[0m\u001b[38;5;237m━━━━━━━━━━━━━━━━━\u001b[0m \u001b[35m 55%\u001b[0m \u001b[36m0:00:02\u001b[0m\r",
      "\u001b[2KWorking... \u001b[38;2;249;38;114m━━━━━━━━━━━━━━━━━━━━━━━━\u001b[0m\u001b[38;5;237m╺\u001b[0m\u001b[38;5;237m━━━━━━━━━━━━━━━\u001b[0m \u001b[35m 60%\u001b[0m \u001b[36m0:00:02\u001b[0m\r",
      "\u001b[2KWorking... \u001b[38;2;249;38;114m━━━━━━━━━━━━━━━━━━━━━━━━\u001b[0m\u001b[38;5;237m╺\u001b[0m\u001b[38;5;237m━━━━━━━━━━━━━━━\u001b[0m \u001b[35m 60%\u001b[0m \u001b[36m0:00:02\u001b[0m\r",
      "\u001b[2KWorking... \u001b[38;2;249;38;114m━━━━━━━━━━━━━━━━━━━━━━━━━━\u001b[0m\u001b[38;5;237m╺\u001b[0m\u001b[38;5;237m━━━━━━━━━━━━━\u001b[0m \u001b[35m 65%\u001b[0m \u001b[36m0:00:02\u001b[0m\r",
      "\u001b[2KWorking... \u001b[38;2;249;38;114m━━━━━━━━━━━━━━━━━━━━━━━━━━\u001b[0m\u001b[38;5;237m╺\u001b[0m\u001b[38;5;237m━━━━━━━━━━━━━\u001b[0m \u001b[35m 65%\u001b[0m \u001b[36m0:00:02\u001b[0m\r",
      "\u001b[2KWorking... \u001b[38;2;249;38;114m━━━━━━━━━━━━━━━━━━━━━━━━━━━━\u001b[0m\u001b[38;5;237m╺\u001b[0m\u001b[38;5;237m━━━━━━━━━━━\u001b[0m \u001b[35m 70%\u001b[0m \u001b[36m0:00:02\u001b[0m\r",
      "\u001b[2KWorking... \u001b[38;2;249;38;114m━━━━━━━━━━━━━━━━━━━━━━━━━━━━\u001b[0m\u001b[38;5;237m╺\u001b[0m\u001b[38;5;237m━━━━━━━━━━━\u001b[0m \u001b[35m 70%\u001b[0m \u001b[36m0:00:02\u001b[0m\r",
      "\u001b[2KWorking... \u001b[38;2;249;38;114m━━━━━━━━━━━━━━━━━━━━━━━━━━━━━━\u001b[0m\u001b[38;5;237m╺\u001b[0m\u001b[38;5;237m━━━━━━━━━\u001b[0m \u001b[35m 75%\u001b[0m \u001b[36m0:00:01\u001b[0m\r",
      "\u001b[2KWorking... \u001b[38;2;249;38;114m━━━━━━━━━━━━━━━━━━━━━━━━━━━━━━\u001b[0m\u001b[38;5;237m╺\u001b[0m\u001b[38;5;237m━━━━━━━━━\u001b[0m \u001b[35m 75%\u001b[0m \u001b[36m0:00:01\u001b[0m\r",
      "\u001b[2KWorking... \u001b[38;2;249;38;114m━━━━━━━━━━━━━━━━━━━━━━━━━━━━━━━━\u001b[0m\u001b[38;5;237m╺\u001b[0m\u001b[38;5;237m━━━━━━━\u001b[0m \u001b[35m 80%\u001b[0m \u001b[36m0:00:01\u001b[0m\r",
      "\u001b[2KWorking... \u001b[38;2;249;38;114m━━━━━━━━━━━━━━━━━━━━━━━━━━━━━━━━━━\u001b[0m\u001b[38;5;237m╺\u001b[0m\u001b[38;5;237m━━━━━\u001b[0m \u001b[35m 85%\u001b[0m \u001b[36m0:00:01\u001b[0m\r",
      "\u001b[2KWorking... \u001b[38;2;249;38;114m━━━━━━━━━━━━━━━━━━━━━━━━━━━━━━━━━━\u001b[0m\u001b[38;5;237m╺\u001b[0m\u001b[38;5;237m━━━━━\u001b[0m \u001b[35m 85%\u001b[0m \u001b[36m0:00:01\u001b[0m\r",
      "\u001b[2KWorking... \u001b[38;2;249;38;114m━━━━━━━━━━━━━━━━━━━━━━━━━━━━━━━━━━━━\u001b[0m\u001b[38;5;237m╺\u001b[0m\u001b[38;5;237m━━━\u001b[0m \u001b[35m 90%\u001b[0m \u001b[36m0:00:01\u001b[0m\r",
      "\u001b[2KWorking... \u001b[38;2;249;38;114m━━━━━━━━━━━━━━━━━━━━━━━━━━━━━━━━━━━━\u001b[0m\u001b[38;5;237m╺\u001b[0m\u001b[38;5;237m━━━\u001b[0m \u001b[35m 90%\u001b[0m \u001b[36m0:00:01\u001b[0m\r",
      "\u001b[2KWorking... \u001b[38;2;249;38;114m━━━━━━━━━━━━━━━━━━━━━━━━━━━━━━━━━━━━━━\u001b[0m\u001b[38;5;237m╺\u001b[0m\u001b[38;5;237m━\u001b[0m \u001b[35m 95%\u001b[0m \u001b[36m0:00:01\u001b[0m\r",
      "\u001b[2KWorking... \u001b[38;2;249;38;114m━━━━━━━━━━━━━━━━━━━━━━━━━━━━━━━━━━━━━━\u001b[0m\u001b[38;5;237m╺\u001b[0m\u001b[38;5;237m━\u001b[0m \u001b[35m 95%\u001b[0m \u001b[36m0:00:01\u001b[0m\r",
      "\u001b[2KWorking... \u001b[38;2;114;156;31m━━━━━━━━━━━━━━━━━━━━━━━━━━━━━━━━━━━━━━━━\u001b[0m \u001b[35m100%\u001b[0m \u001b[36m0:00:00\u001b[0m\r",
      "\u001b[2KWorking... \u001b[38;2;114;156;31m━━━━━━━━━━━━━━━━━━━━━━━━━━━━━━━━━━━━━━━━\u001b[0m \u001b[35m100%\u001b[0m \u001b[36m0:00:00\u001b[0m\n",
      "\u001b[?25h"
     ]
    }
   ],
   "source": [
    "from rich.console import Console\n",
    "from rich.progress import track\n",
    "\n",
    "console = Console(force_jupyter=False, force_terminal=True)\n",
    "for _ in track(range(20), console=console):\n",
    "    time.sleep(0.2)"
   ]
  },
  {
   "cell_type": "code",
   "execution_count": 11,
   "id": "6e2484f6",
   "metadata": {
    "execute": {
     "shell": {
      "execute_reply": "2022-02-16T11:08:33.317773+00:00"
     }
    },
    "iopub": {
     "execute_input": "2022-02-16T11:08:33.189476+00:00",
     "status": {
      "busy": "2022-02-16T11:08:33.189220+00:00",
      "idle": "2022-02-16T11:08:33.320167+00:00"
     }
    }
   },
   "outputs": [
    {
     "name": "stdout",
     "output_type": "stream",
     "text": [
      "\u001b[1;34md\u001b[33mr\u001b[31mw\u001b[32mx\u001b[0m\u001b[33mr\u001b[38;5;244m-\u001b[32mx\u001b[33mr\u001b[38;5;244m-\u001b[32mx\u001b[0m    \u001b[38;5;244m-\u001b[0m \u001b[1;33mjosiah\u001b[0m \u001b[34m21 Jan 10:52\u001b[0m \u001b[34m \u001b[1mbinder\u001b[0m\r\n",
      "\u001b[1;34md\u001b[33mr\u001b[31mw\u001b[32mx\u001b[0m\u001b[33mr\u001b[38;5;244m-\u001b[32mx\u001b[33mr\u001b[38;5;244m-\u001b[32mx\u001b[0m    \u001b[38;5;244m-\u001b[0m \u001b[1;33mjosiah\u001b[0m \u001b[34m16 Dec  2021\u001b[0m \u001b[34m \u001b[1mbuild\u001b[0m\r\n",
      "\u001b[1;34md\u001b[33mr\u001b[31mw\u001b[32mx\u001b[0m\u001b[33mr\u001b[38;5;244m-\u001b[32mx\u001b[33mr\u001b[38;5;244m-\u001b[32mx\u001b[0m    \u001b[38;5;244m-\u001b[0m \u001b[1;33mjosiah\u001b[0m \u001b[34m17 Dec  2021\u001b[0m \u001b[34m \u001b[1mdist\u001b[0m\r\n",
      "\u001b[1;34md\u001b[33mr\u001b[31mw\u001b[32mx\u001b[0m\u001b[33mr\u001b[38;5;244m-\u001b[32mx\u001b[33mr\u001b[38;5;244m-\u001b[32mx\u001b[0m    \u001b[38;5;244m-\u001b[0m \u001b[1;33mjosiah\u001b[0m \u001b[34m17 Dec  2021\u001b[0m \u001b[34m \u001b[1meuporie_binder\u001b[0m\r\n",
      "\u001b[1;34md\u001b[33mr\u001b[31mw\u001b[32mx\u001b[0m\u001b[33mr\u001b[38;5;244m-\u001b[32mx\u001b[33mr\u001b[38;5;244m-\u001b[32mx\u001b[0m    \u001b[38;5;244m-\u001b[0m \u001b[1;33mjosiah\u001b[0m \u001b[34m14 Jan 09:31\u001b[0m \u001b[34m \u001b[1meuporie_binder.egg-info\u001b[0m\r\n",
      "\u001b[1;34md\u001b[33mr\u001b[31mw\u001b[32mx\u001b[0m\u001b[33mr\u001b[38;5;244m-\u001b[32mx\u001b[33mr\u001b[38;5;244m-\u001b[32mx\u001b[0m    \u001b[38;5;244m-\u001b[0m \u001b[1;33mjosiah\u001b[0m \u001b[34m16 Dec  2021\u001b[0m \u001b[34m \u001b[1mjupyter-config\u001b[0m\r\n",
      "\u001b[1;34md\u001b[33mr\u001b[31mw\u001b[32mx\u001b[0m\u001b[33mr\u001b[38;5;244m-\u001b[32mx\u001b[33mr\u001b[38;5;244m-\u001b[32mx\u001b[0m    \u001b[38;5;244m-\u001b[0m \u001b[1;33mjosiah\u001b[0m \u001b[34m16 Dec  2021\u001b[0m \u001b[34m \u001b[1mnode_modules\u001b[0m\r\n",
      "\u001b[1;34md\u001b[33mr\u001b[31mw\u001b[32mx\u001b[0m\u001b[33mr\u001b[38;5;244m-\u001b[32mx\u001b[33mr\u001b[38;5;244m-\u001b[32mx\u001b[0m    \u001b[38;5;244m-\u001b[0m \u001b[1;33mjosiah\u001b[0m \u001b[34m16 Dec  2021\u001b[0m \u001b[34m \u001b[1mpackage\u001b[0m\r\n",
      "\u001b[1;34md\u001b[33mr\u001b[31mw\u001b[32mx\u001b[0m\u001b[33mr\u001b[38;5;244m-\u001b[32mx\u001b[33mr\u001b[38;5;244m-\u001b[32mx\u001b[0m    \u001b[38;5;244m-\u001b[0m \u001b[1;33mjosiah\u001b[0m \u001b[34m16 Dec  2021\u001b[0m \u001b[34m \u001b[1mtests\u001b[0m\r\n",
      ".\u001b[1;33mr\u001b[31mw\u001b[0m\u001b[38;5;244m-\u001b[33mr\u001b[38;5;244m--\u001b[33mr\u001b[38;5;244m--\u001b[0m  \u001b[1;32m74\u001b[0m\u001b[32mk\u001b[0m \u001b[1;33mjosiah\u001b[0m \u001b[34m16 Feb 11:08\u001b[0m  introduction.ipynb\r\n",
      ".\u001b[1;33mr\u001b[31mw\u001b[0m\u001b[38;5;244m-\u001b[33mr\u001b[38;5;244m--\u001b[33mr\u001b[38;5;244m--\u001b[0m \u001b[1;32m1.1\u001b[0m\u001b[32mk\u001b[0m \u001b[1;33mjosiah\u001b[0m \u001b[34m15 Dec  2021\u001b[0m  LICENSE\r\n",
      ".\u001b[1;33mr\u001b[31mw\u001b[0m\u001b[38;5;244m-\u001b[33mr\u001b[38;5;244m--\u001b[33mr\u001b[38;5;244m--\u001b[0m \u001b[1;32m247\u001b[0m\u001b[32mk\u001b[0m \u001b[1;33mjosiah\u001b[0m \u001b[34m16 Dec  2021\u001b[0m  package-lock.json\r\n",
      ".\u001b[1;33mr\u001b[31mw\u001b[0m\u001b[38;5;244m-\u001b[33mr\u001b[38;5;244m--\u001b[33mr\u001b[38;5;244m--\u001b[0m  \u001b[1;32m866\u001b[0m \u001b[1;33mjosiah\u001b[0m \u001b[34m16 Dec  2021\u001b[0m \u001b[33m \u001b[1;4mpackage.json\u001b[0m\r\n",
      ".\u001b[1;33mr\u001b[31mw\u001b[0m\u001b[38;5;244m-\u001b[33mr\u001b[38;5;244m--\u001b[33mr\u001b[38;5;244m--\u001b[0m  \u001b[1;32m453\u001b[0m \u001b[1;33mjosiah\u001b[0m \u001b[34m16 Dec  2021\u001b[0m  pyproject.toml\r\n",
      ".\u001b[1;33mr\u001b[31mw\u001b[0m\u001b[38;5;244m-\u001b[33mr\u001b[38;5;244m--\u001b[33mr\u001b[38;5;244m--\u001b[0m  \u001b[1;32m191\u001b[0m \u001b[1;33mjosiah\u001b[0m \u001b[34m17 Dec  2021\u001b[0m \u001b[33m \u001b[1;4mREADME.rst\u001b[0m\r\n",
      ".\u001b[1;33mr\u001b[31mw\u001b[0m\u001b[38;5;244m-\u001b[33mr\u001b[38;5;244m--\u001b[33mr\u001b[38;5;244m--\u001b[0m \u001b[1;32m1.3\u001b[0m\u001b[32mk\u001b[0m \u001b[1;33mjosiah\u001b[0m \u001b[34m17 Dec  2021\u001b[0m  setup.cfg\r\n",
      ".\u001b[1;33mr\u001b[31mw\u001b[0m\u001b[38;5;244m-\u001b[33mr\u001b[38;5;244m--\u001b[33mr\u001b[38;5;244m--\u001b[0m \u001b[1;32m1.4\u001b[0m\u001b[32mk\u001b[0m \u001b[1;33mjosiah\u001b[0m \u001b[34m15 Dec  2021\u001b[0m \u001b[33m \u001b[1;4mwebpack.config.js\u001b[0m\r\n"
     ]
    }
   ],
   "source": [
    "!exa -l --icons --group-directories-first"
   ]
  },
  {
   "cell_type": "markdown",
   "id": "84724255",
   "metadata": {},
   "source": [
    "---\n",
    "\n",
    "If you like `euporie`, please [star it on GitHub](https://github.com/joouha/euporie/)\n",
    "\n",
    "⭐ https://github.com/joouha/euporie/"
   ]
  }
 ],
 "metadata": {
  "kernelspec": {
   "display_name": "Python 3 (ipykernel)",
   "language": "python",
   "name": "python3"
  },
  "language_info": {
   "codemirror_mode": {
    "name": "ipython",
    "version": 3
   },
   "file_extension": ".py",
   "mimetype": "text/x-python",
   "name": "python",
   "nbconvert_exporter": "python",
   "pygments_lexer": "ipython3",
   "version": "3.10.2"
  }
 },
 "nbformat": 4,
 "nbformat_minor": 5
}
