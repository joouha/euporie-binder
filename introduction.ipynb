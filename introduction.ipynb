{
 "cells": [
  {
   "cell_type": "markdown",
   "execution_count": 2,
   "id": "33c6cb91",
   "metadata": {
    "execute": {
     "shell": {
      "execute_reply": "2022-02-03T11:12:36.270550+00:00"
     }
    },
    "iopub": {
     "execute_input": "2022-02-03T11:12:36.263550+00:00",
     "status": {
      "busy": "2022-02-03T11:12:36.263144+00:00",
      "idle": "2021-12-17T08:24:16.475079+00:00"
     }
    }
   },
   "outputs": [
    {
     "ename": "SyntaxError",
     "evalue": "invalid syntax (2694064221.py, line 3)",
     "output_type": "error",
     "traceback": [
      "\u001b[0;36m  Input \u001b[0;32mIn [2]\u001b[0;36m\u001b[0m\n\u001b[0;31m    Welcome to `euporie`, a terminal based interactive development environment for Jupyter notebooks.\u001b[0m\n\u001b[0m            ^\u001b[0m\n\u001b[0;31mSyntaxError\u001b[0m\u001b[0;31m:\u001b[0m invalid syntax\n"
     ]
    }
   ],
   "source": [
    "# euporie\n",
    "\n",
    "Welcome to `euporie`, a terminal based interactive development environment for Jupyter notebooks.\n",
    "\n",
    "- Use `Up` and `Down` to navigate, `Enter` to edit a cell, and `Esc Esc` to stop editing a cell\n",
    "- Use `Ctrl+e` to execute or render a cell, or `Ctrl+r` to run a cell and select the next cell\n",
    "- You can view all keyboard shortcuts in the `Help` menu\n",
    "- The online documentation is available at [https://euporie.readthedocs.io](https://euporie.readthedocs.io)\n",
    "---"
   ]
  },
  {
   "cell_type": "markdown",
   "id": "1e737449",
   "metadata": {},
   "source": [
    "## Markdown Cells\n",
    "\n",
    "`euporie` will render markdown cells in notebooks, including elements such as:"
   ]
  },
  {
   "cell_type": "markdown",
   "execution_count": null,
   "id": "f25acbf0",
   "metadata": {
    "execute": {
     "shell": {
      "execute_reply": "2022-02-03T11:12:36.273231+00:00"
     }
    },
    "iopub": {
     "status": {
      "busy": "2022-02-03T11:12:36.273087+00:00",
      "idle": "2022-02-03T11:12:36.273358+00:00"
     }
    }
   },
   "source": [
    "Code blocks:\n",
    "\n",
    "```python\n",
    "def hello():\n",
    "    print(\"Hello world!\")\n",
    "```"
   ]
  },
  {
   "cell_type": "markdown",
   "execution_count": null,
   "id": "4946d7d3",
   "metadata": {
    "execute": {
     "shell": {
      "execute_reply": "2022-02-03T11:12:36.273231+00:00"
     }
    },
    "iopub": {
     "status": {
      "busy": "2022-02-03T11:12:36.273087+00:00",
      "idle": "2022-02-03T11:12:36.273358+00:00"
     }
    }
   },
   "source": [
    "Tables:\n",
    "\n",
    "| Item         | Can `euporie` display it? |\n",
    "|-------------:|:--------------------------|\n",
    "| **Markdown** | Yes\n",
    "| **Tables**   | Yes\n",
    "| **LaTeX**    | Yes"
   ]
  },
  {
   "cell_type": "markdown",
   "execution_count": null,
   "id": "3de54f9c",
   "metadata": {
    "execute": {
     "shell": {
      "execute_reply": "2022-02-03T11:12:36.273231+00:00"
     }
    },
    "iopub": {
     "status": {
      "busy": "2022-02-03T11:12:36.273087+00:00",
      "idle": "2022-02-03T11:12:36.273358+00:00"
     }
    }
   },
   "source": [
    "LaTex maths equations:\n",
    "\n",
    "$$\n",
    "s = ut + \\frac{1}{2}at^2\n",
    "$$\n",
    "$$\n",
    "x =\\frac{-b \\pm \\sqrt{\\frac{1}{2} a b^2}}{2a}\n",
    "$$\n",
    "$$\n",
    "f = \\sum_{i = 0}^{\\infty} \\frac{f^{(i)}(0)}{i!} x^i\n",
    "$$"
   ]
  },
  {
   "cell_type": "markdown",
   "id": "b1a9de46",
   "metadata": {},
   "source": [
    "> Quote blocks\n",
    "\n",
    "- Lists\n",
    "\n",
    "*Inline* **styles** and `inline code`"
   ]
  },
  {
   "cell_type": "markdown",
   "id": "39eae66d",
   "metadata": {},
   "source": [
    "## Cell Output\n",
    "\n",
    "`Euporie` will also render the output of code cells.\n",
    "\n",
    "This includes displaying Images, HTML, SVG, Markdown, LaTeX and ANSI text:"
   ]
  },
  {
   "cell_type": "code",
   "execution_count": 1,
   "id": "e9bdc4c2",
   "metadata": {
    "execute": {
     "shell": {
      "execute_reply": "2022-02-03T11:16:45.706321+00:00"
     }
    },
    "iopub": {
     "execute_input": "2022-02-03T11:16:45.680757+00:00",
     "status": {
      "busy": "2022-02-03T11:16:45.680102+00:00",
      "idle": "2022-02-03T11:16:45.707077+00:00"
     }
    }
   },
   "outputs": [
    {
     "data": {
      "text/markdown": [
       "Regular *Italic* **Bold**"
      ]
     },
     "metadata": {},
     "output_type": "display_data"
    }
   ],
   "source": [
    "display({\"text/markdown\": \"Regular *Italic* **Bold**\"}, raw=True)"
   ]
  },
  {
   "cell_type": "code",
   "execution_count": 2,
   "id": "97e10f0f",
   "metadata": {
    "execute": {
     "shell": {
      "execute_reply": "2022-02-03T12:00:59.532572+00:00"
     }
    },
    "iopub": {
     "execute_input": "2022-02-03T12:00:59.240490+00:00",
     "status": {
      "busy": "2022-02-03T12:00:59.240049+00:00",
      "idle": "2022-02-03T12:00:59.533308+00:00"
     }
    }
   },
   "outputs": [
    {
     "data": {
      "image/png": "[encoded data removed]",
      "text/plain": [
       "<IPython.core.display.Image object>"
      ]
     },
     "execution_count": 2,
     "metadata": {},
     "output_type": "execute_result"
    }
   ],
   "source": [
    "from IPython.display import *\n",
    "import urllib.request\n",
    "data = urllib.request.urlopen(\"https://www.python.org/static/img/python-logo.png\").read()\n",
    "Image(data)"
   ]
  },
  {
   "cell_type": "markdown",
   "execution_count": null,
   "id": "43a7ed60",
   "metadata": {
    "execute": {
     "shell": {
      "execute_reply": "2022-02-03T11:12:36.282953+00:00"
     }
    },
    "iopub": {
     "status": {
      "busy": "2022-02-03T11:12:36.282693+00:00",
      "idle": "2022-02-03T11:12:36.283084+00:00"
     }
    }
   },
   "source": [
    "This means you can use libraries like `pandas`, and display dataframes as you would expect:"
   ]
  },
  {
   "cell_type": "code",
   "execution_count": 3,
   "id": "5dc84d78",
   "metadata": {
    "execute": {
     "shell": {
      "execute_reply": "2022-02-03T11:13:17.216188+00:00"
     }
    },
    "iopub": {
     "execute_input": "2022-02-03T11:13:16.826509+00:00",
     "status": {
      "busy": "2022-02-03T11:13:16.826132+00:00",
      "idle": "2022-02-03T11:13:17.216973+00:00"
     }
    }
   },
   "outputs": [
    {
     "data": {
      "text/html": [
       "<div>\n",
       "<style scoped>\n",
       "    .dataframe tbody tr th:only-of-type {\n",
       "        vertical-align: middle;\n",
       "    }\n",
       "\n",
       "    .dataframe tbody tr th {\n",
       "        vertical-align: top;\n",
       "    }\n",
       "\n",
       "    .dataframe thead th {\n",
       "        text-align: right;\n",
       "    }\n",
       "</style>\n",
       "<table border=\"1\" class=\"dataframe\">\n",
       "  <thead>\n",
       "    <tr style=\"text-align: right;\">\n",
       "      <th></th>\n",
       "      <th>a</th>\n",
       "      <th>b</th>\n",
       "      <th>c</th>\n",
       "      <th>d</th>\n",
       "    </tr>\n",
       "  </thead>\n",
       "  <tbody>\n",
       "    <tr>\n",
       "      <th>0</th>\n",
       "      <td>0.444948</td>\n",
       "      <td>0.926781</td>\n",
       "      <td>0.595965</td>\n",
       "      <td>0.569567</td>\n",
       "    </tr>\n",
       "    <tr>\n",
       "      <th>1</th>\n",
       "      <td>0.001776</td>\n",
       "      <td>0.741923</td>\n",
       "      <td>0.745243</td>\n",
       "      <td>0.764558</td>\n",
       "    </tr>\n",
       "    <tr>\n",
       "      <th>2</th>\n",
       "      <td>0.580319</td>\n",
       "      <td>0.480798</td>\n",
       "      <td>0.225887</td>\n",
       "      <td>0.821960</td>\n",
       "    </tr>\n",
       "    <tr>\n",
       "      <th>3</th>\n",
       "      <td>0.361174</td>\n",
       "      <td>0.553646</td>\n",
       "      <td>0.635718</td>\n",
       "      <td>0.494219</td>\n",
       "    </tr>\n",
       "    <tr>\n",
       "      <th>4</th>\n",
       "      <td>0.021670</td>\n",
       "      <td>0.662095</td>\n",
       "      <td>0.517518</td>\n",
       "      <td>0.703006</td>\n",
       "    </tr>\n",
       "    <tr>\n",
       "      <th>...</th>\n",
       "      <td>...</td>\n",
       "      <td>...</td>\n",
       "      <td>...</td>\n",
       "      <td>...</td>\n",
       "    </tr>\n",
       "    <tr>\n",
       "      <th>19995</th>\n",
       "      <td>0.099640</td>\n",
       "      <td>0.182113</td>\n",
       "      <td>0.558024</td>\n",
       "      <td>0.865261</td>\n",
       "    </tr>\n",
       "    <tr>\n",
       "      <th>19996</th>\n",
       "      <td>0.588418</td>\n",
       "      <td>0.335961</td>\n",
       "      <td>0.843030</td>\n",
       "      <td>0.631858</td>\n",
       "    </tr>\n",
       "    <tr>\n",
       "      <th>19997</th>\n",
       "      <td>0.539659</td>\n",
       "      <td>0.428418</td>\n",
       "      <td>0.433103</td>\n",
       "      <td>0.789560</td>\n",
       "    </tr>\n",
       "    <tr>\n",
       "      <th>19998</th>\n",
       "      <td>0.088412</td>\n",
       "      <td>0.272005</td>\n",
       "      <td>0.702432</td>\n",
       "      <td>0.705069</td>\n",
       "    </tr>\n",
       "    <tr>\n",
       "      <th>19999</th>\n",
       "      <td>0.528337</td>\n",
       "      <td>0.915118</td>\n",
       "      <td>0.362468</td>\n",
       "      <td>0.536370</td>\n",
       "    </tr>\n",
       "  </tbody>\n",
       "</table>\n",
       "<p>20000 rows × 4 columns</p>\n",
       "</div>"
      ],
      "text/plain": [
       "              a         b         c         d\n",
       "0      0.444948  0.926781  0.595965  0.569567\n",
       "1      0.001776  0.741923  0.745243  0.764558\n",
       "2      0.580319  0.480798  0.225887  0.821960\n",
       "3      0.361174  0.553646  0.635718  0.494219\n",
       "4      0.021670  0.662095  0.517518  0.703006\n",
       "...         ...       ...       ...       ...\n",
       "19995  0.099640  0.182113  0.558024  0.865261\n",
       "19996  0.588418  0.335961  0.843030  0.631858\n",
       "19997  0.539659  0.428418  0.433103  0.789560\n",
       "19998  0.088412  0.272005  0.702432  0.705069\n",
       "19999  0.528337  0.915118  0.362468  0.536370\n",
       "\n",
       "[20000 rows x 4 columns]"
      ]
     },
     "execution_count": 3,
     "metadata": {},
     "output_type": "execute_result"
    }
   ],
   "source": [
    "import pandas as pd\n",
    "import numpy as np\n",
    "\n",
    "x = np.arange(20_000)\n",
    "\n",
    "df = pd.DataFrame(\n",
    "    {\n",
    "        col: np.random.beta(i+1, 3, x.shape)\n",
    "        for col, i in zip(\"abcd\", [0, 2, 4, 6])\n",
    "    },\n",
    "    index = x,\n",
    ")\n",
    "df#.head()"
   ]
  },
  {
   "cell_type": "markdown",
   "execution_count": null,
   "id": "10690823",
   "metadata": {
    "execute": {
     "shell": {
      "execute_reply": "2022-02-03T11:12:36.286420+00:00"
     }
    },
    "iopub": {
     "status": {
      "busy": "2022-02-03T11:12:36.286194+00:00",
      "idle": "2022-02-03T11:12:36.286552+00:00"
     }
    }
   },
   "source": [
    "`euporie` can render images using Sixel graphics if your terminal supports it. Otherwise it will fall back to using character-based terminal graphics.\n",
    "\n",
    "This means you can produce plots with `matplotlib` and `euporie` will display them in the best way it can:"
   ]
  },
  {
   "cell_type": "code",
   "execution_count": 4,
   "id": "2017c662",
   "metadata": {
    "execute": {
     "shell": {
      "execute_reply": "2022-02-03T11:13:20.245551+00:00"
     }
    },
    "iopub": {
     "execute_input": "2022-02-03T11:13:18.441457+00:00",
     "status": {
      "busy": "2022-02-03T11:13:18.441022+00:00",
      "idle": "2022-02-03T11:13:20.246191+00:00"
     }
    }
   },
   "outputs": [
    {
     "data": {
      "image/png": "[encoded data removed]",
      "text/plain": [
       "<Figure size 1080x288 with 1 Axes>"
      ]
     },
     "metadata": {},
     "output_type": "display_data"
    }
   ],
   "source": [
    "from matplotlib import pyplot as plt\n",
    "\n",
    "fig, ax = plt.subplots(figsize=(15, 4), facecolor=\"#FFF\")\n",
    "df.plot.hist(ax=ax, bins=80, alpha=0.75)\n",
    "plt.show()"
   ]
  },
  {
   "cell_type": "markdown",
   "execution_count": null,
   "id": "f85075bd",
   "metadata": {
    "execute": {
     "shell": {
      "execute_reply": "2022-02-03T11:12:36.289180+00:00"
     }
    },
    "iopub": {
     "status": {
      "busy": "2022-02-03T11:12:36.288988+00:00",
      "idle": "2022-02-03T11:12:36.289313+00:00"
     }
    }
   },
   "source": [
    "If your terminal does not support graphics, the excellent `plotext` library works very well with euporie:"
   ]
  },
  {
   "cell_type": "code",
   "execution_count": 5,
   "id": "a36015d6",
   "metadata": {
    "execute": {
     "shell": {
      "execute_reply": "2022-02-03T11:13:20.434270+00:00"
     }
    },
    "iopub": {
     "execute_input": "2022-02-03T11:13:20.247598+00:00",
     "status": {
      "busy": "2022-02-03T11:13:20.247348+00:00",
      "idle": "2022-02-03T11:13:20.434850+00:00"
     }
    }
   },
   "outputs": [
    {
     "name": "stdout",
     "output_type": "stream",
     "text": [
      "\u001b[107m\u001b[30m                                  Histogram Plot                                \u001b[0m\n",
      "\u001b[107m\u001b[30m     ┌─────────────────────────────────────────────────────────────────────────┐\u001b[0m\n",
      "\u001b[107m\u001b[30m742.0┤\u001b[0m\u001b[107m \u001b[0m\u001b[107m\u001b[94m▖▖▖\u001b[0m\u001b[107m\u001b[30m a \u001b[0m\u001b[107m                                                                  \u001b[0m\u001b[107m\u001b[30m│\u001b[0m\n",
      "\u001b[107m\u001b[30m     │\u001b[0m\u001b[107m \u001b[0m\u001b[107m\u001b[92m▖▖▖\u001b[0m\u001b[107m\u001b[30m b \u001b[0m\u001b[107m                                                \u001b[0m\u001b[107m\u001b[96m▄\u001b[0m\u001b[107m                 \u001b[0m\u001b[107m\u001b[30m│\u001b[0m\n",
      "\u001b[107m\u001b[30m618.3┤\u001b[0m\u001b[107m \u001b[0m\u001b[107m\u001b[91m▖▖▖\u001b[0m\u001b[107m\u001b[30m c \u001b[0m\u001b[107m\u001b[94m█▌\u001b[0m\u001b[107m                                       \u001b[0m\u001b[107m\u001b[96m▄\u001b[0m\u001b[107m \u001b[0m\u001b[107m\u001b[96m▄▟█▖██▟▙▄\u001b[0m\u001b[107m              \u001b[0m\u001b[107m\u001b[30m│\u001b[0m\n",
      "\u001b[107m\u001b[30m494.7┤\u001b[0m\u001b[107m \u001b[0m\u001b[107m\u001b[96m▖▖▖\u001b[0m\u001b[107m\u001b[30m d \u001b[0m\u001b[107m\u001b[94m█▙███▄▖\u001b[0m\u001b[107m \u001b[0m\u001b[107m\u001b[94m▄\u001b[0m\u001b[107m                  \u001b[0m\u001b[107m\u001b[92m▗▖\u001b[0m\u001b[107m  \u001b[0m\u001b[107m\u001b[92m▄▗▄\u001b[0m\u001b[107m\u001b[91m▄▟█▄██\u001b[0m\u001b[107m\u001b[96m████████████▙▄\u001b[0m\u001b[107m            \u001b[0m\u001b[107m\u001b[30m│\u001b[0m\n",
      "\u001b[107m\u001b[30m     │       \u001b[0m\u001b[107m\u001b[94m██████████▟█\u001b[0m\u001b[107m       \u001b[0m\u001b[107m\u001b[92m▗▄▖▄▄▐█████\u001b[0m\u001b[107m\u001b[91m▙███████\u001b[0m\u001b[107m\u001b[96m██████████████████▖\u001b[0m\u001b[107m         \u001b[0m\u001b[107m\u001b[30m│\u001b[0m\n",
      "\u001b[107m\u001b[30m371.0┤\u001b[0m\u001b[107m\u001b[94m█████████████████████▙\u001b[0m\u001b[107m\u001b[92m▄▄▄▟████████\u001b[0m\u001b[107m\u001b[91m███████\u001b[0m\u001b[107m\u001b[96m███████████████████████▙\u001b[0m\u001b[107m        \u001b[0m\u001b[107m\u001b[30m│\u001b[0m\n",
      "\u001b[107m\u001b[30m     │\u001b[0m\u001b[107m\u001b[94m██████████████████\u001b[0m\u001b[107m\u001b[92m█████████████\u001b[0m\u001b[107m\u001b[91m███████\u001b[0m\u001b[107m\u001b[96m████████████████████████████\u001b[0m\u001b[107m       \u001b[0m\u001b[107m\u001b[30m│\u001b[0m\n",
      "\u001b[107m\u001b[30m247.3┤\u001b[0m\u001b[107m\u001b[94m███████████████\u001b[0m\u001b[107m\u001b[92m███████████\u001b[0m\u001b[107m\u001b[91m█████████\u001b[0m\u001b[107m\u001b[96m████████████████████████████████▙\u001b[0m\u001b[107m     \u001b[0m\u001b[107m\u001b[30m│\u001b[0m\n",
      "\u001b[107m\u001b[30m123.7┤\u001b[0m\u001b[107m\u001b[94m███████████\u001b[0m\u001b[107m\u001b[92m███████████\u001b[0m\u001b[107m\u001b[91m██████████\u001b[0m\u001b[107m\u001b[96m████████████████████████████████████▄▖\u001b[0m\u001b[107m   \u001b[0m\u001b[107m\u001b[30m│\u001b[0m\n",
      "\u001b[107m\u001b[30m     │\u001b[0m\u001b[107m\u001b[94m███████\u001b[0m\u001b[107m\u001b[92m████████████\u001b[0m\u001b[107m\u001b[91m███████\u001b[0m\u001b[107m\u001b[96m███████████████████████████████████████████▙▖\u001b[0m\u001b[107m  \u001b[0m\u001b[107m\u001b[30m│\u001b[0m\n",
      "\u001b[107m\u001b[30m  0.0┤\u001b[0m\u001b[107m\u001b[92m██████\u001b[0m\u001b[107m\u001b[91m█████\u001b[0m\u001b[107m\u001b[96m█████████████████████████████████████████████████████████████▄\u001b[0m\u001b[107m\u001b[30m│\u001b[0m\n",
      "\u001b[107m\u001b[30m     └┬─────────────────┬─────────────────┬─────────────────┬─────────────────┬┘\u001b[0m\n",
      "\u001b[107m\u001b[30m      0.00            0.25              0.50              0.75             1.00 \u001b[0m\u001b[0m\n"
     ]
    }
   ],
   "source": [
    "import plotext as plt\n",
    "\n",
    "plt.clear_figure()\n",
    "plt.plot_size(100, 15)\n",
    "for name, col in df.items():\n",
    "    plt.hist(col.values, 80, label=name)\n",
    "plt.title(\"Histogram Plot\")\n",
    "plt.show()"
   ]
  },
  {
   "cell_type": "markdown",
   "execution_count": null,
   "id": "3adda7cd",
   "metadata": {
    "execute": {
     "shell": {
      "execute_reply": "2022-02-03T11:12:36.292730+00:00"
     }
    },
    "iopub": {
     "status": {
      "busy": "2022-02-03T11:12:36.292507+00:00",
      "idle": "2022-02-03T11:12:36.292880+00:00"
     }
    }
   },
   "source": [
    "It can also display SVG output:"
   ]
  },
  {
   "cell_type": "code",
   "execution_count": 6,
   "id": "02fe9798",
   "metadata": {
    "execute": {
     "shell": {
      "execute_reply": "2022-02-03T11:13:23.080606+00:00"
     }
    },
    "iopub": {
     "execute_input": "2022-02-03T11:13:23.061784+00:00",
     "status": {
      "busy": "2022-02-03T11:13:23.061229+00:00",
      "idle": "2022-02-03T11:13:23.081194+00:00"
     }
    }
   },
   "outputs": [
    {
     "data": {
      "image/svg+xml": [
       "<svg width=\"200\" height=\"200\"><polygon points=\"100,5 40,180 190,60 5,60 160,180\" fill=\"yellow\"/></svg>"
      ],
      "text/plain": [
       "<IPython.core.display.SVG object>"
      ]
     },
     "execution_count": 6,
     "metadata": {},
     "output_type": "execute_result"
    }
   ],
   "source": [
    "from IPython.display import SVG\n",
    "SVG('<svg width=\"200\" height=\"200\"><polygon points=\"100,5 40,180 190,60 5,60 160,180\" fill=\"yellow\" /></svg>')"
   ]
  },
  {
   "cell_type": "markdown",
   "execution_count": null,
   "id": "2c5ea8bf",
   "metadata": {
    "execute": {
     "shell": {
      "execute_reply": "2022-02-03T11:12:36.296087+00:00"
     }
    },
    "iopub": {
     "status": {
      "busy": "2022-02-03T11:12:36.295875+00:00",
      "idle": "2022-02-03T11:12:36.296226+00:00"
     }
    }
   },
   "source": [
    "`euoporie` can response to requests for user input from the kernel (press enter to send your input):"
   ]
  },
  {
   "cell_type": "code",
   "execution_count": 7,
   "id": "e7ba2b1c",
   "metadata": {
    "execute": {
     "shell": {
      "execute_reply": "2022-02-03T11:13:27.733002+00:00"
     }
    },
    "iopub": {
     "execute_input": "2022-02-03T11:13:25.221841+00:00",
     "status": {
      "busy": "2022-02-03T11:13:25.221281+00:00",
      "idle": "2022-02-03T11:13:27.733653+00:00"
     }
    }
   },
   "outputs": [
    {
     "name": "stdout",
     "output_type": "stream",
     "text": [
      "Hello Josiah\n"
     ]
    }
   ],
   "source": [
    "name = input(\"Enter your name:\")\n",
    "print(f\"Hello {name}\")"
   ]
  },
  {
   "cell_type": "markdown",
   "execution_count": null,
   "id": "930e6d01",
   "metadata": {
    "execute": {
     "shell": {
      "execute_reply": "2022-02-03T11:12:36.299041+00:00"
     }
    },
    "iopub": {
     "execute_input": "2022-02-03T11:10:23.378289+00:00",
     "status": {
      "busy": "2022-02-03T11:12:36.298716+00:00",
      "idle": "2022-02-03T11:12:36.299174+00:00"
     }
    }
   },
   "source": [
    "`euporie` supporst ANSI output, so  works with libraries like `tqdm` and `rich`:"
   ]
  },
  {
   "cell_type": "code",
   "execution_count": 8,
   "id": "647ba74c",
   "metadata": {
    "execute": {
     "shell": {
      "execute_reply": "2022-02-03T11:13:34.056544+00:00"
     }
    },
    "iopub": {
     "execute_input": "2022-02-03T11:13:29.994312+00:00",
     "status": {
      "busy": "2022-02-03T11:13:29.993864+00:00",
      "idle": "2022-02-03T11:13:34.057173+00:00"
     }
    }
   },
   "outputs": [
    {
     "name": "stderr",
     "output_type": "stream",
     "text": [
      "\r",
      "  0%|                                                                        | 0/20 [00:00<?, ?it/s]\r",
      "  5%|███▏                                                            | 1/20 [00:00<00:03,  4.99it/s]\r",
      " 10%|██████▍                                                         | 2/20 [00:00<00:03,  4.98it/s]\r",
      " 15%|█████████▌                                                      | 3/20 [00:00<00:03,  4.97it/s]\r",
      " 20%|████████████▊                                                   | 4/20 [00:00<00:03,  4.97it/s]\r",
      " 25%|████████████████                                                | 5/20 [00:01<00:03,  4.97it/s]\r",
      " 30%|███████████████████▏                                            | 6/20 [00:01<00:02,  4.96it/s]\r",
      " 35%|██████████████████████▍                                         | 7/20 [00:01<00:02,  4.97it/s]\r",
      " 40%|█████████████████████████▌                                      | 8/20 [00:01<00:02,  4.96it/s]\r",
      " 45%|████████████████████████████▊                                   | 9/20 [00:01<00:02,  4.96it/s]\r",
      " 50%|███████████████████████████████▌                               | 10/20 [00:02<00:02,  4.97it/s]\r",
      " 55%|██████████████████████████████████▋                            | 11/20 [00:02<00:01,  4.97it/s]\r",
      " 60%|█████████████████████████████████████▊                         | 12/20 [00:02<00:01,  4.97it/s]\r",
      " 65%|████████████████████████████████████████▉                      | 13/20 [00:02<00:01,  4.97it/s]\r",
      " 70%|████████████████████████████████████████████                   | 14/20 [00:02<00:01,  4.97it/s]\r",
      " 75%|███████████████████████████████████████████████▎               | 15/20 [00:03<00:01,  4.93it/s]\r",
      " 80%|██████████████████████████████████████████████████▍            | 16/20 [00:03<00:00,  4.91it/s]\r",
      " 85%|█████████████████████████████████████████████████████▌         | 17/20 [00:03<00:00,  4.92it/s]\r",
      " 90%|████████████████████████████████████████████████████████▋      | 18/20 [00:03<00:00,  4.94it/s]\r",
      " 95%|███████████████████████████████████████████████████████████▊   | 19/20 [00:03<00:00,  4.94it/s]\r",
      "100%|███████████████████████████████████████████████████████████████| 20/20 [00:04<00:00,  4.95it/s]\r",
      "100%|███████████████████████████████████████████████████████████████| 20/20 [00:04<00:00,  4.95it/s]\n"
     ]
    }
   ],
   "source": [
    "import time\n",
    "from tqdm import tqdm\n",
    "\n",
    "for i in tqdm(range(20), ncols=100):\n",
    "    time.sleep(0.2)"
   ]
  },
  {
   "cell_type": "code",
   "execution_count": 9,
   "id": "438b1715",
   "metadata": {
    "execute": {
     "shell": {
      "execute_reply": "2022-02-03T11:13:38.128193+00:00"
     }
    },
    "iopub": {
     "execute_input": "2022-02-03T11:13:34.058498+00:00",
     "status": {
      "busy": "2022-02-03T11:13:34.058259+00:00",
      "idle": "2022-02-03T11:13:38.128843+00:00"
     }
    }
   },
   "outputs": [
    {
     "name": "stdout",
     "output_type": "stream",
     "text": [
      "\u001b[?25l\r",
      "\u001b[2KWorking... \u001b[38;5;237m━━━━━━━━━━━━━━━━━━━━━━━━━━━━━━━━━━━━━━━━\u001b[0m \u001b[35m  0%\u001b[0m \u001b[36m-:--:--\u001b[0m\r",
      "\u001b[2KWorking... \u001b[38;5;237m━━━━━━━━━━━━━━━━━━━━━━━━━━━━━━━━━━━━━━━━\u001b[0m \u001b[35m  0%\u001b[0m \u001b[36m-:--:--\u001b[0m\r",
      "\u001b[2KWorking... \u001b[38;5;237m━━━━━━━━━━━━━━━━━━━━━━━━━━━━━━━━━━━━━━━━\u001b[0m \u001b[35m  0%\u001b[0m \u001b[36m-:--:--\u001b[0m\r",
      "\u001b[2KWorking... \u001b[38;2;249;38;114m━━\u001b[0m\u001b[38;5;237m╺\u001b[0m\u001b[38;5;237m━━━━━━━━━━━━━━━━━━━━━━━━━━━━━━━━━━━━━\u001b[0m \u001b[35m  5%\u001b[0m \u001b[36m-:--:--\u001b[0m\r",
      "\u001b[2KWorking... \u001b[38;2;249;38;114m━━\u001b[0m\u001b[38;5;237m╺\u001b[0m\u001b[38;5;237m━━━━━━━━━━━━━━━━━━━━━━━━━━━━━━━━━━━━━\u001b[0m \u001b[35m  5%\u001b[0m \u001b[36m-:--:--\u001b[0m\r",
      "\u001b[2KWorking... \u001b[38;2;249;38;114m━━━━\u001b[0m\u001b[38;5;237m╺\u001b[0m\u001b[38;5;237m━━━━━━━━━━━━━━━━━━━━━━━━━━━━━━━━━━━\u001b[0m \u001b[35m 10%\u001b[0m \u001b[36m0:00:04\u001b[0m\r",
      "\u001b[2KWorking... \u001b[38;2;249;38;114m━━━━━━\u001b[0m\u001b[38;5;237m╺\u001b[0m\u001b[38;5;237m━━━━━━━━━━━━━━━━━━━━━━━━━━━━━━━━━\u001b[0m \u001b[35m 15%\u001b[0m \u001b[36m0:00:03\u001b[0m\r",
      "\u001b[2KWorking... \u001b[38;2;249;38;114m━━━━━━\u001b[0m\u001b[38;5;237m╺\u001b[0m\u001b[38;5;237m━━━━━━━━━━━━━━━━━━━━━━━━━━━━━━━━━\u001b[0m \u001b[35m 15%\u001b[0m \u001b[36m0:00:03\u001b[0m\r",
      "\u001b[2KWorking... \u001b[38;2;249;38;114m━━━━━━━━\u001b[0m\u001b[38;5;237m╺\u001b[0m\u001b[38;5;237m━━━━━━━━━━━━━━━━━━━━━━━━━━━━━━━\u001b[0m \u001b[35m 20%\u001b[0m \u001b[36m0:00:03\u001b[0m\r",
      "\u001b[2KWorking... \u001b[38;2;249;38;114m━━━━━━━━\u001b[0m\u001b[38;5;237m╺\u001b[0m\u001b[38;5;237m━━━━━━━━━━━━━━━━━━━━━━━━━━━━━━━\u001b[0m \u001b[35m 20%\u001b[0m \u001b[36m0:00:03\u001b[0m\r",
      "\u001b[2KWorking... \u001b[38;2;249;38;114m━━━━━━━━━━\u001b[0m\u001b[38;5;237m╺\u001b[0m\u001b[38;5;237m━━━━━━━━━━━━━━━━━━━━━━━━━━━━━\u001b[0m \u001b[35m 25%\u001b[0m \u001b[36m0:00:03\u001b[0m\r",
      "\u001b[2KWorking... \u001b[38;2;249;38;114m━━━━━━━━━━\u001b[0m\u001b[38;5;237m╺\u001b[0m\u001b[38;5;237m━━━━━━━━━━━━━━━━━━━━━━━━━━━━━\u001b[0m \u001b[35m 25%\u001b[0m \u001b[36m0:00:03\u001b[0m\r",
      "\u001b[2KWorking... \u001b[38;2;249;38;114m━━━━━━━━━━━━\u001b[0m\u001b[38;5;237m╺\u001b[0m\u001b[38;5;237m━━━━━━━━━━━━━━━━━━━━━━━━━━━\u001b[0m \u001b[35m 30%\u001b[0m \u001b[36m0:00:03\u001b[0m\r",
      "\u001b[2KWorking... \u001b[38;2;249;38;114m━━━━━━━━━━━━\u001b[0m\u001b[38;5;237m╺\u001b[0m\u001b[38;5;237m━━━━━━━━━━━━━━━━━━━━━━━━━━━\u001b[0m \u001b[35m 30%\u001b[0m \u001b[36m0:00:03\u001b[0m\r",
      "\u001b[2KWorking... \u001b[38;2;249;38;114m━━━━━━━━━━━━━━\u001b[0m\u001b[38;5;237m╺\u001b[0m\u001b[38;5;237m━━━━━━━━━━━━━━━━━━━━━━━━━\u001b[0m \u001b[35m 35%\u001b[0m \u001b[36m0:00:03\u001b[0m\r",
      "\u001b[2KWorking... \u001b[38;2;249;38;114m━━━━━━━━━━━━━━\u001b[0m\u001b[38;5;237m╺\u001b[0m\u001b[38;5;237m━━━━━━━━━━━━━━━━━━━━━━━━━\u001b[0m \u001b[35m 35%\u001b[0m \u001b[36m0:00:03\u001b[0m\r",
      "\u001b[2KWorking... \u001b[38;2;249;38;114m━━━━━━━━━━━━━━━━\u001b[0m\u001b[38;5;237m╺\u001b[0m\u001b[38;5;237m━━━━━━━━━━━━━━━━━━━━━━━\u001b[0m \u001b[35m 40%\u001b[0m \u001b[36m0:00:03\u001b[0m\r",
      "\u001b[2KWorking... \u001b[38;2;249;38;114m━━━━━━━━━━━━━━━━\u001b[0m\u001b[38;5;237m╺\u001b[0m\u001b[38;5;237m━━━━━━━━━━━━━━━━━━━━━━━\u001b[0m \u001b[35m 40%\u001b[0m \u001b[36m0:00:03\u001b[0m\r",
      "\u001b[2KWorking... \u001b[38;2;249;38;114m━━━━━━━━━━━━━━━━━━\u001b[0m\u001b[38;5;237m╺\u001b[0m\u001b[38;5;237m━━━━━━━━━━━━━━━━━━━━━\u001b[0m \u001b[35m 45%\u001b[0m \u001b[36m0:00:03\u001b[0m\r",
      "\u001b[2KWorking... \u001b[38;2;249;38;114m━━━━━━━━━━━━━━━━━━\u001b[0m\u001b[38;5;237m╺\u001b[0m\u001b[38;5;237m━━━━━━━━━━━━━━━━━━━━━\u001b[0m \u001b[35m 45%\u001b[0m \u001b[36m0:00:03\u001b[0m\r",
      "\u001b[2KWorking... \u001b[38;2;249;38;114m━━━━━━━━━━━━━━━━━━━━\u001b[0m\u001b[38;5;237m╺\u001b[0m\u001b[38;5;237m━━━━━━━━━━━━━━━━━━━\u001b[0m \u001b[35m 50%\u001b[0m \u001b[36m0:00:02\u001b[0m\r",
      "\u001b[2KWorking... \u001b[38;2;249;38;114m━━━━━━━━━━━━━━━━━━━━\u001b[0m\u001b[38;5;237m╺\u001b[0m\u001b[38;5;237m━━━━━━━━━━━━━━━━━━━\u001b[0m \u001b[35m 50%\u001b[0m \u001b[36m0:00:02\u001b[0m\r",
      "\u001b[2KWorking... \u001b[38;2;249;38;114m━━━━━━━━━━━━━━━━━━━━━━\u001b[0m\u001b[38;5;237m╺\u001b[0m\u001b[38;5;237m━━━━━━━━━━━━━━━━━\u001b[0m \u001b[35m 55%\u001b[0m \u001b[36m0:00:02\u001b[0m\r",
      "\u001b[2KWorking... \u001b[38;2;249;38;114m━━━━━━━━━━━━━━━━━━━━━━\u001b[0m\u001b[38;5;237m╺\u001b[0m\u001b[38;5;237m━━━━━━━━━━━━━━━━━\u001b[0m \u001b[35m 55%\u001b[0m \u001b[36m0:00:02\u001b[0m\r",
      "\u001b[2KWorking... \u001b[38;2;249;38;114m━━━━━━━━━━━━━━━━━━━━━━━━\u001b[0m\u001b[38;5;237m╺\u001b[0m\u001b[38;5;237m━━━━━━━━━━━━━━━\u001b[0m \u001b[35m 60%\u001b[0m \u001b[36m0:00:02\u001b[0m\r",
      "\u001b[2KWorking... \u001b[38;2;249;38;114m━━━━━━━━━━━━━━━━━━━━━━━━\u001b[0m\u001b[38;5;237m╺\u001b[0m\u001b[38;5;237m━━━━━━━━━━━━━━━\u001b[0m \u001b[35m 60%\u001b[0m \u001b[36m0:00:02\u001b[0m\r",
      "\u001b[2KWorking... \u001b[38;2;249;38;114m━━━━━━━━━━━━━━━━━━━━━━━━━━\u001b[0m\u001b[38;5;237m╺\u001b[0m\u001b[38;5;237m━━━━━━━━━━━━━\u001b[0m \u001b[35m 65%\u001b[0m \u001b[36m0:00:02\u001b[0m\r",
      "\u001b[2KWorking... \u001b[38;2;249;38;114m━━━━━━━━━━━━━━━━━━━━━━━━━━\u001b[0m\u001b[38;5;237m╺\u001b[0m\u001b[38;5;237m━━━━━━━━━━━━━\u001b[0m \u001b[35m 65%\u001b[0m \u001b[36m0:00:02\u001b[0m\r",
      "\u001b[2KWorking... \u001b[38;2;249;38;114m━━━━━━━━━━━━━━━━━━━━━━━━━━━━\u001b[0m\u001b[38;5;237m╺\u001b[0m\u001b[38;5;237m━━━━━━━━━━━\u001b[0m \u001b[35m 70%\u001b[0m \u001b[36m0:00:02\u001b[0m\r",
      "\u001b[2KWorking... \u001b[38;2;249;38;114m━━━━━━━━━━━━━━━━━━━━━━━━━━━━\u001b[0m\u001b[38;5;237m╺\u001b[0m\u001b[38;5;237m━━━━━━━━━━━\u001b[0m \u001b[35m 70%\u001b[0m \u001b[36m0:00:02\u001b[0m\r",
      "\u001b[2KWorking... \u001b[38;2;249;38;114m━━━━━━━━━━━━━━━━━━━━━━━━━━━━━━\u001b[0m\u001b[38;5;237m╺\u001b[0m\u001b[38;5;237m━━━━━━━━━\u001b[0m \u001b[35m 75%\u001b[0m \u001b[36m0:00:01\u001b[0m\r",
      "\u001b[2KWorking... \u001b[38;2;249;38;114m━━━━━━━━━━━━━━━━━━━━━━━━━━━━━━\u001b[0m\u001b[38;5;237m╺\u001b[0m\u001b[38;5;237m━━━━━━━━━\u001b[0m \u001b[35m 75%\u001b[0m \u001b[36m0:00:01\u001b[0m\r",
      "\u001b[2KWorking... \u001b[38;2;249;38;114m━━━━━━━━━━━━━━━━━━━━━━━━━━━━━━━━\u001b[0m\u001b[38;5;237m╺\u001b[0m\u001b[38;5;237m━━━━━━━\u001b[0m \u001b[35m 80%\u001b[0m \u001b[36m0:00:01\u001b[0m\r",
      "\u001b[2KWorking... \u001b[38;2;249;38;114m━━━━━━━━━━━━━━━━━━━━━━━━━━━━━━━━\u001b[0m\u001b[38;5;237m╺\u001b[0m\u001b[38;5;237m━━━━━━━\u001b[0m \u001b[35m 80%\u001b[0m \u001b[36m0:00:01\u001b[0m\r",
      "\u001b[2KWorking... \u001b[38;2;249;38;114m━━━━━━━━━━━━━━━━━━━━━━━━━━━━━━━━━━\u001b[0m\u001b[38;5;237m╺\u001b[0m\u001b[38;5;237m━━━━━\u001b[0m \u001b[35m 85%\u001b[0m \u001b[36m0:00:01\u001b[0m\r",
      "\u001b[2KWorking... \u001b[38;2;249;38;114m━━━━━━━━━━━━━━━━━━━━━━━━━━━━━━━━━━\u001b[0m\u001b[38;5;237m╺\u001b[0m\u001b[38;5;237m━━━━━\u001b[0m \u001b[35m 85%\u001b[0m \u001b[36m0:00:01\u001b[0m\r",
      "\u001b[2KWorking... \u001b[38;2;249;38;114m━━━━━━━━━━━━━━━━━━━━━━━━━━━━━━━━━━━━\u001b[0m\u001b[38;5;237m╺\u001b[0m\u001b[38;5;237m━━━\u001b[0m \u001b[35m 90%\u001b[0m \u001b[36m0:00:01\u001b[0m\r",
      "\u001b[2KWorking... \u001b[38;2;249;38;114m━━━━━━━━━━━━━━━━━━━━━━━━━━━━━━━━━━━━\u001b[0m\u001b[38;5;237m╺\u001b[0m\u001b[38;5;237m━━━\u001b[0m \u001b[35m 90%\u001b[0m \u001b[36m0:00:01\u001b[0m\r",
      "\u001b[2KWorking... \u001b[38;2;249;38;114m━━━━━━━━━━━━━━━━━━━━━━━━━━━━━━━━━━━━━━\u001b[0m\u001b[38;5;237m╺\u001b[0m\u001b[38;5;237m━\u001b[0m \u001b[35m 95%\u001b[0m \u001b[36m0:00:01\u001b[0m\r",
      "\u001b[2KWorking... \u001b[38;2;249;38;114m━━━━━━━━━━━━━━━━━━━━━━━━━━━━━━━━━━━━━━\u001b[0m\u001b[38;5;237m╺\u001b[0m\u001b[38;5;237m━\u001b[0m \u001b[35m 95%\u001b[0m \u001b[36m0:00:01\u001b[0m\r",
      "\u001b[2KWorking... \u001b[38;2;114;156;31m━━━━━━━━━━━━━━━━━━━━━━━━━━━━━━━━━━━━━━━━\u001b[0m \u001b[35m100%\u001b[0m \u001b[36m0:00:00\u001b[0m\r",
      "\u001b[2KWorking... \u001b[38;2;114;156;31m━━━━━━━━━━━━━━━━━━━━━━━━━━━━━━━━━━━━━━━━\u001b[0m \u001b[35m100%\u001b[0m \u001b[36m0:00:00\u001b[0m\n",
      "\u001b[?25h"
     ]
    }
   ],
   "source": [
    "from rich.console import Console\n",
    "from rich.progress import track\n",
    "console = Console(force_jupyter=False, force_terminal=True)\n",
    "for _ in track(range(20), console=console):\n",
    "    time.sleep(0.2)"
   ]
  },
  {
   "cell_type": "code",
   "execution_count": 10,
   "id": "6e2484f6",
   "metadata": {
    "execute": {
     "shell": {
      "execute_reply": "2022-02-03T11:13:38.271229+00:00"
     }
    },
    "iopub": {
     "execute_input": "2022-02-03T11:13:38.133003+00:00",
     "status": {
      "busy": "2022-02-03T11:13:38.132747+00:00",
      "idle": "2022-02-03T11:13:38.272021+00:00"
     }
    }
   },
   "outputs": [
    {
     "name": "stdout",
     "output_type": "stream",
     "text": [
      "\u001b[38;5;4m\u001b[1md\u001b[0m\u001b[38;5;2mr\u001b[39m\u001b[38;5;3mw\u001b[39m\u001b[38;5;1mx\u001b[39m\u001b[38;5;2mr\u001b[39m\u001b[38;5;245m-\u001b[39m\u001b[38;5;1mx\u001b[39m\u001b[38;5;2mr\u001b[39m\u001b[38;5;245m-\u001b[39m\u001b[38;5;1mx\u001b[39m \u001b[38;5;230mjosiah\u001b[39m \u001b[38;5;187mjosiah\u001b[39m \u001b[38;5;229m4.0\u001b[39m \u001b[38;5;229mKB\u001b[39m \u001b[38;5;36mSun Jan 23 14:50:14 2022\u001b[39m \u001b[38;5;4m\u001b[1m __pycache__\u001b[0m\r\n",
      ".\u001b[38;5;2mr\u001b[39m\u001b[38;5;3mw\u001b[39m\u001b[38;5;245m-\u001b[39m\u001b[38;5;2mr\u001b[39m\u001b[38;5;245m-\u001b[39m\u001b[38;5;245m-\u001b[39m\u001b[38;5;2mr\u001b[39m\u001b[38;5;245m-\u001b[39m\u001b[38;5;245m-\u001b[39m \u001b[38;5;230mjosiah\u001b[39m \u001b[38;5;187mjosiah\u001b[39m \u001b[38;5;229m1.5\u001b[39m \u001b[38;5;229mKB\u001b[39m \u001b[38;5;36mTue Feb  1 11:58:20 2022\u001b[39m  CHANGELOG.rst\r\n",
      "\u001b[38;5;4m\u001b[1md\u001b[0m\u001b[38;5;2mr\u001b[39m\u001b[38;5;3mw\u001b[39m\u001b[38;5;1mx\u001b[39m\u001b[38;5;2mr\u001b[39m\u001b[38;5;245m-\u001b[39m\u001b[38;5;1mx\u001b[39m\u001b[38;5;2mr\u001b[39m\u001b[38;5;245m-\u001b[39m\u001b[38;5;1mx\u001b[39m \u001b[38;5;230mjosiah\u001b[39m \u001b[38;5;187mjosiah\u001b[39m \u001b[38;5;229m4.0\u001b[39m \u001b[38;5;229mKB\u001b[39m \u001b[38;5;36mThu Jan 27 14:20:59 2022\u001b[39m \u001b[38;5;4m\u001b[1m dist\u001b[0m\r\n",
      "\u001b[38;5;4m\u001b[1md\u001b[0m\u001b[38;5;2mr\u001b[39m\u001b[38;5;3mw\u001b[39m\u001b[38;5;1mx\u001b[39m\u001b[38;5;2mr\u001b[39m\u001b[38;5;245m-\u001b[39m\u001b[38;5;1mx\u001b[39m\u001b[38;5;2mr\u001b[39m\u001b[38;5;245m-\u001b[39m\u001b[38;5;1mx\u001b[39m \u001b[38;5;230mjosiah\u001b[39m \u001b[38;5;187mjosiah\u001b[39m \u001b[38;5;229m4.0\u001b[39m \u001b[38;5;229mKB\u001b[39m \u001b[38;5;36mTue Feb  1 22:49:44 2022\u001b[39m \u001b[38;5;4m\u001b[1m docs\u001b[0m\r\n",
      "\u001b[38;5;4m\u001b[1md\u001b[0m\u001b[38;5;2mr\u001b[39m\u001b[38;5;3mw\u001b[39m\u001b[38;5;1mx\u001b[39m\u001b[38;5;2mr\u001b[39m\u001b[38;5;245m-\u001b[39m\u001b[38;5;1mx\u001b[39m\u001b[38;5;2mr\u001b[39m\u001b[38;5;245m-\u001b[39m\u001b[38;5;1mx\u001b[39m \u001b[38;5;230mjosiah\u001b[39m \u001b[38;5;187mjosiah\u001b[39m \u001b[38;5;229m4.0\u001b[39m \u001b[38;5;229mKB\u001b[39m \u001b[38;5;40mThu Feb  3 11:09:00 2022\u001b[39m \u001b[38;5;4m\u001b[1m euporie\u001b[0m\r\n",
      "\u001b[38;5;4m\u001b[1md\u001b[0m\u001b[38;5;2mr\u001b[39m\u001b[38;5;3mw\u001b[39m\u001b[38;5;1mx\u001b[39m\u001b[38;5;2mr\u001b[39m\u001b[38;5;245m-\u001b[39m\u001b[38;5;1mx\u001b[39m\u001b[38;5;2mr\u001b[39m\u001b[38;5;245m-\u001b[39m\u001b[38;5;1mx\u001b[39m \u001b[38;5;230mjosiah\u001b[39m \u001b[38;5;187mjosiah\u001b[39m \u001b[38;5;229m4.0\u001b[39m \u001b[38;5;229mKB\u001b[39m \u001b[38;5;36mFri Jan 21 17:12:51 2022\u001b[39m \u001b[38;5;4m\u001b[1m euporie_textual\u001b[0m\r\n",
      ".\u001b[38;5;2mr\u001b[39m\u001b[38;5;3mw\u001b[39m\u001b[38;5;245m-\u001b[39m\u001b[38;5;2mr\u001b[39m\u001b[38;5;245m-\u001b[39m\u001b[38;5;245m-\u001b[39m\u001b[38;5;2mr\u001b[39m\u001b[38;5;245m-\u001b[39m\u001b[38;5;245m-\u001b[39m \u001b[38;5;230mjosiah\u001b[39m \u001b[38;5;187mjosiah\u001b[39m \u001b[38;5;229m1.1\u001b[39m \u001b[38;5;229mKB\u001b[39m \u001b[38;5;36mFri May 21 07:59:37 2021\u001b[39m  LICENSE\r\n",
      ".\u001b[38;5;2mr\u001b[39m\u001b[38;5;3mw\u001b[39m\u001b[38;5;245m-\u001b[39m\u001b[38;5;2mr\u001b[39m\u001b[38;5;245m-\u001b[39m\u001b[38;5;245m-\u001b[39m\u001b[38;5;2mr\u001b[39m\u001b[38;5;245m-\u001b[39m\u001b[38;5;245m-\u001b[39m \u001b[38;5;230mjosiah\u001b[39m \u001b[38;5;187mjosiah\u001b[39m  \u001b[38;5;216m12\u001b[39m \u001b[38;5;216mMB\u001b[39m \u001b[38;5;40mThu Feb  3 11:11:17 2022\u001b[39m  log.log\r\n",
      "\u001b[38;5;4m\u001b[1md\u001b[0m\u001b[38;5;2mr\u001b[39m\u001b[38;5;3mw\u001b[39m\u001b[38;5;1mx\u001b[39m\u001b[38;5;2mr\u001b[39m\u001b[38;5;245m-\u001b[39m\u001b[38;5;1mx\u001b[39m\u001b[38;5;2mr\u001b[39m\u001b[38;5;245m-\u001b[39m\u001b[38;5;1mx\u001b[39m \u001b[38;5;230mjosiah\u001b[39m \u001b[38;5;187mjosiah\u001b[39m \u001b[38;5;229m4.0\u001b[39m \u001b[38;5;229mKB\u001b[39m \u001b[38;5;36mWed Jun 30 09:24:27 2021\u001b[39m \u001b[38;5;4m\u001b[1m media\u001b[0m\r\n",
      ".\u001b[38;5;2mr\u001b[39m\u001b[38;5;3mw\u001b[39m\u001b[38;5;245m-\u001b[39m\u001b[38;5;2mr\u001b[39m\u001b[38;5;245m-\u001b[39m\u001b[38;5;245m-\u001b[39m\u001b[38;5;2mr\u001b[39m\u001b[38;5;245m-\u001b[39m\u001b[38;5;245m-\u001b[39m \u001b[38;5;230mjosiah\u001b[39m \u001b[38;5;187mjosiah\u001b[39m \u001b[38;5;229m4.0\u001b[39m \u001b[38;5;229mKB\u001b[39m \u001b[38;5;36mFri Jan 21 16:18:39 2022\u001b[39m  noxfile.py\r\n",
      ".\u001b[38;5;2mr\u001b[39m\u001b[38;5;3mw\u001b[39m\u001b[38;5;245m-\u001b[39m\u001b[38;5;2mr\u001b[39m\u001b[38;5;245m-\u001b[39m\u001b[38;5;245m-\u001b[39m\u001b[38;5;2mr\u001b[39m\u001b[38;5;245m-\u001b[39m\u001b[38;5;245m-\u001b[39m \u001b[38;5;230mjosiah\u001b[39m \u001b[38;5;187mjosiah\u001b[39m \u001b[38;5;229m169\u001b[39m \u001b[38;5;229mKB\u001b[39m \u001b[38;5;36mTue Feb  1 11:58:20 2022\u001b[39m  poetry.lock\r\n",
      ".\u001b[38;5;2mr\u001b[39m\u001b[38;5;3mw\u001b[39m\u001b[38;5;245m-\u001b[39m\u001b[38;5;2mr\u001b[39m\u001b[38;5;245m-\u001b[39m\u001b[38;5;245m-\u001b[39m\u001b[38;5;2mr\u001b[39m\u001b[38;5;245m-\u001b[39m\u001b[38;5;245m-\u001b[39m \u001b[38;5;230mjosiah\u001b[39m \u001b[38;5;187mjosiah\u001b[39m \u001b[38;5;229m4.0\u001b[39m \u001b[38;5;229mKB\u001b[39m \u001b[38;5;36mThu Jun 17 21:30:37 2021\u001b[39m  publish.log\r\n",
      ".\u001b[38;5;2mr\u001b[39m\u001b[38;5;3mw\u001b[39m\u001b[38;5;245m-\u001b[39m\u001b[38;5;2mr\u001b[39m\u001b[38;5;245m-\u001b[39m\u001b[38;5;245m-\u001b[39m\u001b[38;5;2mr\u001b[39m\u001b[38;5;245m-\u001b[39m\u001b[38;5;245m-\u001b[39m \u001b[38;5;230mjosiah\u001b[39m \u001b[38;5;187mjosiah\u001b[39m \u001b[38;5;229m2.0\u001b[39m \u001b[38;5;229mKB\u001b[39m \u001b[38;5;42mThu Feb  3 10:08:04 2022\u001b[39m  pyproject.toml\r\n",
      ".\u001b[38;5;2mr\u001b[39m\u001b[38;5;3mw\u001b[39m\u001b[38;5;245m-\u001b[39m\u001b[38;5;2mr\u001b[39m\u001b[38;5;245m-\u001b[39m\u001b[38;5;245m-\u001b[39m\u001b[38;5;2mr\u001b[39m\u001b[38;5;245m-\u001b[39m\u001b[38;5;245m-\u001b[39m \u001b[38;5;230mjosiah\u001b[39m \u001b[38;5;187mjosiah\u001b[39m \u001b[38;5;229m2.1\u001b[39m \u001b[38;5;229mKB\u001b[39m \u001b[38;5;40mThu Feb  3 11:09:00 2022\u001b[39m  README.rst\r\n",
      "\u001b[38;5;4m\u001b[1md\u001b[0m\u001b[38;5;2mr\u001b[39m\u001b[38;5;3mw\u001b[39m\u001b[38;5;1mx\u001b[39m\u001b[38;5;2mr\u001b[39m\u001b[38;5;245m-\u001b[39m\u001b[38;5;1mx\u001b[39m\u001b[38;5;2mr\u001b[39m\u001b[38;5;245m-\u001b[39m\u001b[38;5;1mx\u001b[39m \u001b[38;5;230mjosiah\u001b[39m \u001b[38;5;187mjosiah\u001b[39m \u001b[38;5;229m4.0\u001b[39m \u001b[38;5;229mKB\u001b[39m \u001b[38;5;42mThu Feb  3 10:08:04 2022\u001b[39m \u001b[38;5;4m\u001b[1m scripts\u001b[0m\r\n",
      "\u001b[38;5;4m\u001b[1md\u001b[0m\u001b[38;5;2mr\u001b[39m\u001b[38;5;3mw\u001b[39m\u001b[38;5;1mx\u001b[39m\u001b[38;5;2mr\u001b[39m\u001b[38;5;245m-\u001b[39m\u001b[38;5;1mx\u001b[39m\u001b[38;5;2mr\u001b[39m\u001b[38;5;245m-\u001b[39m\u001b[38;5;1mx\u001b[39m \u001b[38;5;230mjosiah\u001b[39m \u001b[38;5;187mjosiah\u001b[39m \u001b[38;5;229m4.0\u001b[39m \u001b[38;5;229mKB\u001b[39m \u001b[38;5;42mThu Feb  3 10:00:08 2022\u001b[39m \u001b[38;5;4m\u001b[1m tests\u001b[0m\r\n",
      ".\u001b[38;5;2mr\u001b[39m\u001b[38;5;3mw\u001b[39m\u001b[38;5;245m-\u001b[39m\u001b[38;5;2mr\u001b[39m\u001b[38;5;245m-\u001b[39m\u001b[38;5;245m-\u001b[39m\u001b[38;5;2mr\u001b[39m\u001b[38;5;245m-\u001b[39m\u001b[38;5;245m-\u001b[39m \u001b[38;5;230mjosiah\u001b[39m \u001b[38;5;187mjosiah\u001b[39m \u001b[38;5;229m4.2\u001b[39m \u001b[38;5;229mKB\u001b[39m \u001b[38;5;40mThu Feb  3 11:08:45 2022\u001b[39m  TODO.log\r\n"
     ]
    }
   ],
   "source": [
    "!ls -l --color=always"
   ]
  },
  {
   "cell_type": "markdown",
   "id": "84724255",
   "metadata": {},
   "source": [
    "---\n",
    "\n",
    "If you like `euporie`, please [star it on GitHub](https://github.com/joouha/euporie/)\n",
    "\n",
    "⭐ https://github.com/joouha/euporie/"
   ]
  }
 ],
 "metadata": {
  "kernelspec": {
   "display_name": "Python 3 (ipykernel)",
   "language": "python",
   "name": "python3"
  },
  "language_info": {
   "codemirror_mode": {
    "name": "ipython",
    "version": 3
   },
   "file_extension": ".py",
   "mimetype": "text/x-python",
   "name": "python",
   "nbconvert_exporter": "python",
   "pygments_lexer": "ipython3",
   "version": "3.10.2"
  }
 },
 "nbformat": 4,
 "nbformat_minor": 5
}
